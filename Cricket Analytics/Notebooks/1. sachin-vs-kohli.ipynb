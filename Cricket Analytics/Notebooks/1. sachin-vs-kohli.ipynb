{
 "cells": [
  {
   "cell_type": "code",
   "execution_count": 1,
   "id": "c0036429",
   "metadata": {
    "execution": {
     "iopub.execute_input": "2023-06-02T08:41:07.591666Z",
     "iopub.status.busy": "2023-06-02T08:41:07.591132Z",
     "iopub.status.idle": "2023-06-02T08:41:07.606491Z",
     "shell.execute_reply": "2023-06-02T08:41:07.605405Z"
    },
    "executionInfo": {
     "elapsed": 713,
     "status": "ok",
     "timestamp": 1677907060028,
     "user": {
      "displayName": "Anup Subbu",
      "userId": "02201996537246213875"
     },
     "user_tz": -330
    },
    "id": "QQZcCO-AtWLK",
    "papermill": {
     "duration": 0.048849,
     "end_time": "2023-06-02T08:41:07.608900",
     "exception": false,
     "start_time": "2023-06-02T08:41:07.560051",
     "status": "completed"
    },
    "tags": []
   },
   "outputs": [],
   "source": [
    "import numpy as np\n",
    "import pandas as pd\n",
    "import matplotlib.pyplot as plt\n",
    "\n",
    "import warnings\n",
    "warnings.filterwarnings('ignore')"
   ]
  },
  {
   "cell_type": "code",
   "execution_count": 2,
   "id": "eb976ffa",
   "metadata": {
    "execution": {
     "iopub.execute_input": "2023-06-02T08:41:07.669893Z",
     "iopub.status.busy": "2023-06-02T08:41:07.669513Z",
     "iopub.status.idle": "2023-06-02T08:41:07.674268Z",
     "shell.execute_reply": "2023-06-02T08:41:07.673316Z"
    },
    "executionInfo": {
     "elapsed": 25,
     "status": "ok",
     "timestamp": 1677907060030,
     "user": {
      "displayName": "Anup Subbu",
      "userId": "02201996537246213875"
     },
     "user_tz": -330
    },
    "id": "vEE-CUUGtWLO",
    "papermill": {
     "duration": 0.039171,
     "end_time": "2023-06-02T08:41:07.676905",
     "exception": false,
     "start_time": "2023-06-02T08:41:07.637734",
     "status": "completed"
    },
    "tags": []
   },
   "outputs": [],
   "source": [
    "pd.set_option('display.max_rows',None)\n",
    "pd.set_option('display.max_columns',None)"
   ]
  },
  {
   "cell_type": "code",
   "execution_count": 3,
   "id": "524442f9",
   "metadata": {
    "execution": {
     "iopub.execute_input": "2023-06-02T08:41:07.735298Z",
     "iopub.status.busy": "2023-06-02T08:41:07.734776Z",
     "iopub.status.idle": "2023-06-02T08:41:08.753367Z",
     "shell.execute_reply": "2023-06-02T08:41:08.752024Z"
    },
    "executionInfo": {
     "elapsed": 1073,
     "status": "ok",
     "timestamp": 1677907061079,
     "user": {
      "displayName": "Anup Subbu",
      "userId": "02201996537246213875"
     },
     "user_tz": -330
    },
    "id": "PGLkJjEStWLQ",
    "outputId": "2bb073cc-63ca-41d7-a53b-46eb719629a3",
    "papermill": {
     "duration": 1.051587,
     "end_time": "2023-06-02T08:41:08.756366",
     "exception": false,
     "start_time": "2023-06-02T08:41:07.704779",
     "status": "completed"
    },
    "tags": []
   },
   "outputs": [
    {
     "data": {
      "text/html": [
       "<div>\n",
       "<style scoped>\n",
       "    .dataframe tbody tr th:only-of-type {\n",
       "        vertical-align: middle;\n",
       "    }\n",
       "\n",
       "    .dataframe tbody tr th {\n",
       "        vertical-align: top;\n",
       "    }\n",
       "\n",
       "    .dataframe thead th {\n",
       "        text-align: right;\n",
       "    }\n",
       "</style>\n",
       "<table border=\"1\" class=\"dataframe\">\n",
       "  <thead>\n",
       "    <tr style=\"text-align: right;\">\n",
       "      <th></th>\n",
       "      <th>Innings Player</th>\n",
       "      <th>Innings Runs Scored</th>\n",
       "      <th>Innings Runs Scored Num</th>\n",
       "      <th>Innings Minutes Batted</th>\n",
       "      <th>Innings Batted Flag</th>\n",
       "      <th>Innings Not Out Flag</th>\n",
       "      <th>Innings Balls Faced</th>\n",
       "      <th>Innings Boundary Fours</th>\n",
       "      <th>Innings Boundary Sixes</th>\n",
       "      <th>Innings Batting Strike Rate</th>\n",
       "      <th>Innings Number</th>\n",
       "      <th>Opposition</th>\n",
       "      <th>Ground</th>\n",
       "      <th>Innings Date</th>\n",
       "      <th>Country</th>\n",
       "      <th>50's</th>\n",
       "      <th>100's</th>\n",
       "      <th>Innings Runs Scored Buckets</th>\n",
       "      <th>Innings Overs Bowled</th>\n",
       "      <th>Innings Bowled Flag</th>\n",
       "      <th>Innings Maidens Bowled</th>\n",
       "      <th>Innings Runs Conceded</th>\n",
       "      <th>Innings Wickets Taken</th>\n",
       "      <th>4 Wickets</th>\n",
       "      <th>5 Wickets</th>\n",
       "      <th>10 Wickets</th>\n",
       "      <th>Innings Wickets Taken Buckets</th>\n",
       "      <th>Innings Economy Rate</th>\n",
       "    </tr>\n",
       "  </thead>\n",
       "  <tbody>\n",
       "    <tr>\n",
       "      <th>0</th>\n",
       "      <td>E Lewis</td>\n",
       "      <td>65</td>\n",
       "      <td>65</td>\n",
       "      <td>128</td>\n",
       "      <td>1.0</td>\n",
       "      <td>0.0</td>\n",
       "      <td>80</td>\n",
       "      <td>8</td>\n",
       "      <td>1</td>\n",
       "      <td>81.25</td>\n",
       "      <td>2</td>\n",
       "      <td>v India</td>\n",
       "      <td>Port of Spain</td>\n",
       "      <td>11-08-2019</td>\n",
       "      <td>West Indies</td>\n",
       "      <td>1.0</td>\n",
       "      <td>0.0</td>\n",
       "      <td>50-99</td>\n",
       "      <td>NaN</td>\n",
       "      <td>NaN</td>\n",
       "      <td>NaN</td>\n",
       "      <td>NaN</td>\n",
       "      <td>NaN</td>\n",
       "      <td>NaN</td>\n",
       "      <td>NaN</td>\n",
       "      <td>NaN</td>\n",
       "      <td>NaN</td>\n",
       "      <td>NaN</td>\n",
       "    </tr>\n",
       "    <tr>\n",
       "      <th>1</th>\n",
       "      <td>N Pooran</td>\n",
       "      <td>42</td>\n",
       "      <td>42</td>\n",
       "      <td>69</td>\n",
       "      <td>1.0</td>\n",
       "      <td>0.0</td>\n",
       "      <td>52</td>\n",
       "      <td>4</td>\n",
       "      <td>1</td>\n",
       "      <td>80.76</td>\n",
       "      <td>2</td>\n",
       "      <td>v India</td>\n",
       "      <td>Port of Spain</td>\n",
       "      <td>11-08-2019</td>\n",
       "      <td>West Indies</td>\n",
       "      <td>0.0</td>\n",
       "      <td>0.0</td>\n",
       "      <td>0-49</td>\n",
       "      <td>NaN</td>\n",
       "      <td>NaN</td>\n",
       "      <td>NaN</td>\n",
       "      <td>NaN</td>\n",
       "      <td>NaN</td>\n",
       "      <td>NaN</td>\n",
       "      <td>NaN</td>\n",
       "      <td>NaN</td>\n",
       "      <td>NaN</td>\n",
       "      <td>NaN</td>\n",
       "    </tr>\n",
       "    <tr>\n",
       "      <th>2</th>\n",
       "      <td>SO Hetmyer</td>\n",
       "      <td>18</td>\n",
       "      <td>18</td>\n",
       "      <td>31</td>\n",
       "      <td>1.0</td>\n",
       "      <td>0.0</td>\n",
       "      <td>20</td>\n",
       "      <td>2</td>\n",
       "      <td>0</td>\n",
       "      <td>90</td>\n",
       "      <td>2</td>\n",
       "      <td>v India</td>\n",
       "      <td>Port of Spain</td>\n",
       "      <td>11-08-2019</td>\n",
       "      <td>West Indies</td>\n",
       "      <td>0.0</td>\n",
       "      <td>0.0</td>\n",
       "      <td>0-49</td>\n",
       "      <td>NaN</td>\n",
       "      <td>NaN</td>\n",
       "      <td>NaN</td>\n",
       "      <td>NaN</td>\n",
       "      <td>NaN</td>\n",
       "      <td>NaN</td>\n",
       "      <td>NaN</td>\n",
       "      <td>NaN</td>\n",
       "      <td>NaN</td>\n",
       "      <td>NaN</td>\n",
       "    </tr>\n",
       "    <tr>\n",
       "      <th>3</th>\n",
       "      <td>RL Chase</td>\n",
       "      <td>18</td>\n",
       "      <td>18</td>\n",
       "      <td>34</td>\n",
       "      <td>1.0</td>\n",
       "      <td>0.0</td>\n",
       "      <td>23</td>\n",
       "      <td>0</td>\n",
       "      <td>0</td>\n",
       "      <td>78.26</td>\n",
       "      <td>2</td>\n",
       "      <td>v India</td>\n",
       "      <td>Port of Spain</td>\n",
       "      <td>11-08-2019</td>\n",
       "      <td>West Indies</td>\n",
       "      <td>0.0</td>\n",
       "      <td>0.0</td>\n",
       "      <td>0-49</td>\n",
       "      <td>NaN</td>\n",
       "      <td>NaN</td>\n",
       "      <td>NaN</td>\n",
       "      <td>NaN</td>\n",
       "      <td>NaN</td>\n",
       "      <td>NaN</td>\n",
       "      <td>NaN</td>\n",
       "      <td>NaN</td>\n",
       "      <td>NaN</td>\n",
       "      <td>NaN</td>\n",
       "    </tr>\n",
       "    <tr>\n",
       "      <th>4</th>\n",
       "      <td>SS Cottrell</td>\n",
       "      <td>17</td>\n",
       "      <td>17</td>\n",
       "      <td>23</td>\n",
       "      <td>1.0</td>\n",
       "      <td>0.0</td>\n",
       "      <td>18</td>\n",
       "      <td>2</td>\n",
       "      <td>1</td>\n",
       "      <td>94.44</td>\n",
       "      <td>2</td>\n",
       "      <td>v India</td>\n",
       "      <td>Port of Spain</td>\n",
       "      <td>11-08-2019</td>\n",
       "      <td>West Indies</td>\n",
       "      <td>0.0</td>\n",
       "      <td>0.0</td>\n",
       "      <td>0-49</td>\n",
       "      <td>NaN</td>\n",
       "      <td>NaN</td>\n",
       "      <td>NaN</td>\n",
       "      <td>NaN</td>\n",
       "      <td>NaN</td>\n",
       "      <td>NaN</td>\n",
       "      <td>NaN</td>\n",
       "      <td>NaN</td>\n",
       "      <td>NaN</td>\n",
       "      <td>NaN</td>\n",
       "    </tr>\n",
       "  </tbody>\n",
       "</table>\n",
       "</div>"
      ],
      "text/plain": [
       "  Innings Player Innings Runs Scored Innings Runs Scored Num  \\\n",
       "0        E Lewis                  65                      65   \n",
       "1       N Pooran                  42                      42   \n",
       "2     SO Hetmyer                  18                      18   \n",
       "3       RL Chase                  18                      18   \n",
       "4    SS Cottrell                  17                      17   \n",
       "\n",
       "  Innings Minutes Batted  Innings Batted Flag  Innings Not Out Flag  \\\n",
       "0                    128                  1.0                   0.0   \n",
       "1                     69                  1.0                   0.0   \n",
       "2                     31                  1.0                   0.0   \n",
       "3                     34                  1.0                   0.0   \n",
       "4                     23                  1.0                   0.0   \n",
       "\n",
       "  Innings Balls Faced Innings Boundary Fours Innings Boundary Sixes  \\\n",
       "0                  80                      8                      1   \n",
       "1                  52                      4                      1   \n",
       "2                  20                      2                      0   \n",
       "3                  23                      0                      0   \n",
       "4                  18                      2                      1   \n",
       "\n",
       "  Innings Batting Strike Rate Innings Number Opposition         Ground  \\\n",
       "0                       81.25              2    v India  Port of Spain   \n",
       "1                       80.76              2    v India  Port of Spain   \n",
       "2                          90              2    v India  Port of Spain   \n",
       "3                       78.26              2    v India  Port of Spain   \n",
       "4                       94.44              2    v India  Port of Spain   \n",
       "\n",
       "  Innings Date      Country  50's  100's Innings Runs Scored Buckets  \\\n",
       "0   11-08-2019  West Indies   1.0    0.0                       50-99   \n",
       "1   11-08-2019  West Indies   0.0    0.0                        0-49   \n",
       "2   11-08-2019  West Indies   0.0    0.0                        0-49   \n",
       "3   11-08-2019  West Indies   0.0    0.0                        0-49   \n",
       "4   11-08-2019  West Indies   0.0    0.0                        0-49   \n",
       "\n",
       "  Innings Overs Bowled  Innings Bowled Flag Innings Maidens Bowled  \\\n",
       "0                  NaN                  NaN                    NaN   \n",
       "1                  NaN                  NaN                    NaN   \n",
       "2                  NaN                  NaN                    NaN   \n",
       "3                  NaN                  NaN                    NaN   \n",
       "4                  NaN                  NaN                    NaN   \n",
       "\n",
       "  Innings Runs Conceded Innings Wickets Taken  4 Wickets  5 Wickets  \\\n",
       "0                   NaN                   NaN        NaN        NaN   \n",
       "1                   NaN                   NaN        NaN        NaN   \n",
       "2                   NaN                   NaN        NaN        NaN   \n",
       "3                   NaN                   NaN        NaN        NaN   \n",
       "4                   NaN                   NaN        NaN        NaN   \n",
       "\n",
       "   10 Wickets Innings Wickets Taken Buckets Innings Economy Rate  \n",
       "0         NaN                           NaN                  NaN  \n",
       "1         NaN                           NaN                  NaN  \n",
       "2         NaN                           NaN                  NaN  \n",
       "3         NaN                           NaN                  NaN  \n",
       "4         NaN                           NaN                  NaN  "
      ]
     },
     "execution_count": 3,
     "metadata": {},
     "output_type": "execute_result"
    }
   ],
   "source": [
    "df = pd.read_csv('/kaggle/input/odi-data-1971-2019/ODI_data_1971-2019.csv')\n",
    "df.head()"
   ]
  },
  {
   "cell_type": "code",
   "execution_count": 4,
   "id": "65730449",
   "metadata": {
    "execution": {
     "iopub.execute_input": "2023-06-02T08:41:08.815853Z",
     "iopub.status.busy": "2023-06-02T08:41:08.815471Z",
     "iopub.status.idle": "2023-06-02T08:41:08.841160Z",
     "shell.execute_reply": "2023-06-02T08:41:08.839879Z"
    },
    "executionInfo": {
     "elapsed": 42,
     "status": "ok",
     "timestamp": 1677907061080,
     "user": {
      "displayName": "Anup Subbu",
      "userId": "02201996537246213875"
     },
     "user_tz": -330
    },
    "id": "w0Y98YXRtWLS",
    "outputId": "39d9cc1a-1176-4ab7-a2fe-ee2fa10d36b4",
    "papermill": {
     "duration": 0.058156,
     "end_time": "2023-06-02T08:41:08.843812",
     "exception": false,
     "start_time": "2023-06-02T08:41:08.785656",
     "status": "completed"
    },
    "tags": []
   },
   "outputs": [
    {
     "data": {
      "text/plain": [
       "array(['65', '42', '18', '17', '13', '11', '5', '0', '120', '71', '20',\n",
       "       '16', '3', '2', '1', '-', nan, '40', '6', '4', '87', '54', '46',\n",
       "       '30', '12', '69', '39', '14', '10', '9', '8', '7', '82', '52',\n",
       "       '41', '15', '98', '43', '19', '111', '48', '36', '25', '67', '60',\n",
       "       '84', '59', '55', '47', '85', '49', '45', '34', '29', '22', '74',\n",
       "       '28', '77', '50', '32', '23', '35', '122', '100', '95', '103',\n",
       "       '113', '53', '96', '27', '64', '58', '33', '31', '73', '56', '86',\n",
       "       '62', '106', '24', '57', '104', '26', '66', '51', '118', '105',\n",
       "       '101', '21', '79', '44', '102', '88', '80', '72', '97', '68', '89',\n",
       "       '38', '83', '63', '148', '166', '90', '76', '37', '70', '124',\n",
       "       '94', '140', '153', '107', '117', '121', '92', '78', '75', '114',\n",
       "       '115', '130', '128', '151', '110', '138', '135', '109', '61',\n",
       "       '179', '170', '112', '116', '91', '143', '93', '123', '145', '81',\n",
       "       '150', '162', '108', '131', '133', '137', '146', '139', '125',\n",
       "       '129', '157', '152', '144', '99', '127', '210', '147', '126',\n",
       "       '181', '160', '180', '208', '176', '168', '141', '132', '119',\n",
       "       '154', '185', '134', '156', '164', '173', '178', '171', '149',\n",
       "       '237', '159', '161', '215', '264', '136', '169', '209', '174',\n",
       "       '189', '183', '163', '219', '158', '175', '177', '200', '194',\n",
       "       '142', '172', '186', '188', '167'], dtype=object)"
      ]
     },
     "execution_count": 4,
     "metadata": {},
     "output_type": "execute_result"
    }
   ],
   "source": [
    "df['Innings Runs Scored Num'].unique()"
   ]
  },
  {
   "cell_type": "code",
   "execution_count": 5,
   "id": "a570c77d",
   "metadata": {
    "execution": {
     "iopub.execute_input": "2023-06-02T08:41:08.904191Z",
     "iopub.status.busy": "2023-06-02T08:41:08.903411Z",
     "iopub.status.idle": "2023-06-02T08:41:08.970797Z",
     "shell.execute_reply": "2023-06-02T08:41:08.969545Z"
    },
    "executionInfo": {
     "elapsed": 35,
     "status": "ok",
     "timestamp": 1677907061082,
     "user": {
      "displayName": "Anup Subbu",
      "userId": "02201996537246213875"
     },
     "user_tz": -330
    },
    "id": "p6Tsf19DtWLS",
    "papermill": {
     "duration": 0.100421,
     "end_time": "2023-06-02T08:41:08.973631",
     "exception": false,
     "start_time": "2023-06-02T08:41:08.873210",
     "status": "completed"
    },
    "tags": []
   },
   "outputs": [],
   "source": [
    "df = df[df['Innings Runs Scored Num'] != '-']"
   ]
  },
  {
   "cell_type": "code",
   "execution_count": 6,
   "id": "1786a1cc",
   "metadata": {
    "execution": {
     "iopub.execute_input": "2023-06-02T08:41:09.032880Z",
     "iopub.status.busy": "2023-06-02T08:41:09.031802Z",
     "iopub.status.idle": "2023-06-02T08:41:09.117330Z",
     "shell.execute_reply": "2023-06-02T08:41:09.116199Z"
    },
    "executionInfo": {
     "elapsed": 37,
     "status": "ok",
     "timestamp": 1677907061085,
     "user": {
      "displayName": "Anup Subbu",
      "userId": "02201996537246213875"
     },
     "user_tz": -330
    },
    "id": "hIL8kvQMtWLT",
    "papermill": {
     "duration": 0.118117,
     "end_time": "2023-06-02T08:41:09.120255",
     "exception": false,
     "start_time": "2023-06-02T08:41:09.002138",
     "status": "completed"
    },
    "tags": []
   },
   "outputs": [],
   "source": [
    "df = df.dropna(subset=['Innings Runs Scored Num'])"
   ]
  },
  {
   "cell_type": "code",
   "execution_count": 7,
   "id": "683fed78",
   "metadata": {
    "execution": {
     "iopub.execute_input": "2023-06-02T08:41:09.179541Z",
     "iopub.status.busy": "2023-06-02T08:41:09.179158Z",
     "iopub.status.idle": "2023-06-02T08:41:09.277441Z",
     "shell.execute_reply": "2023-06-02T08:41:09.276387Z"
    },
    "executionInfo": {
     "elapsed": 37,
     "status": "ok",
     "timestamp": 1677907061086,
     "user": {
      "displayName": "Anup Subbu",
      "userId": "02201996537246213875"
     },
     "user_tz": -330
    },
    "id": "Omh_gCO1tWLU",
    "outputId": "73213ee9-ed6c-4d5d-85b8-9747cd796e3a",
    "papermill": {
     "duration": 0.131118,
     "end_time": "2023-06-02T08:41:09.280138",
     "exception": false,
     "start_time": "2023-06-02T08:41:09.149020",
     "status": "completed"
    },
    "tags": []
   },
   "outputs": [],
   "source": [
    "df['Innings Date'] = pd.to_datetime(df['Innings Date']) "
   ]
  },
  {
   "cell_type": "code",
   "execution_count": 8,
   "id": "b36fe513",
   "metadata": {
    "execution": {
     "iopub.execute_input": "2023-06-02T08:41:09.339288Z",
     "iopub.status.busy": "2023-06-02T08:41:09.338163Z",
     "iopub.status.idle": "2023-06-02T08:41:09.352596Z",
     "shell.execute_reply": "2023-06-02T08:41:09.351263Z"
    },
    "executionInfo": {
     "elapsed": 29,
     "status": "ok",
     "timestamp": 1677907061087,
     "user": {
      "displayName": "Anup Subbu",
      "userId": "02201996537246213875"
     },
     "user_tz": -330
    },
    "id": "cf3rT6GEtWLU",
    "outputId": "c3fe4dd3-95b6-4bab-9b32-b2b8fe6abe89",
    "papermill": {
     "duration": 0.046897,
     "end_time": "2023-06-02T08:41:09.355350",
     "exception": false,
     "start_time": "2023-06-02T08:41:09.308453",
     "status": "completed"
    },
    "tags": []
   },
   "outputs": [],
   "source": [
    "df['Year'] = df['Innings Date'].dt.year"
   ]
  },
  {
   "cell_type": "code",
   "execution_count": 9,
   "id": "8796173a",
   "metadata": {
    "execution": {
     "iopub.execute_input": "2023-06-02T08:41:09.414721Z",
     "iopub.status.busy": "2023-06-02T08:41:09.414334Z",
     "iopub.status.idle": "2023-06-02T08:41:09.444972Z",
     "shell.execute_reply": "2023-06-02T08:41:09.444103Z"
    },
    "executionInfo": {
     "elapsed": 1826,
     "status": "ok",
     "timestamp": 1677913703115,
     "user": {
      "displayName": "Anup Subbu",
      "userId": "02201996537246213875"
     },
     "user_tz": -330
    },
    "id": "Cy0q6NXAtWLV",
    "outputId": "f5c626c6-5b78-49d0-e606-10e88fe3c53e",
    "papermill": {
     "duration": 0.063525,
     "end_time": "2023-06-02T08:41:09.447199",
     "exception": false,
     "start_time": "2023-06-02T08:41:09.383674",
     "status": "completed"
    },
    "tags": []
   },
   "outputs": [
    {
     "data": {
      "text/html": [
       "<div>\n",
       "<style scoped>\n",
       "    .dataframe tbody tr th:only-of-type {\n",
       "        vertical-align: middle;\n",
       "    }\n",
       "\n",
       "    .dataframe tbody tr th {\n",
       "        vertical-align: top;\n",
       "    }\n",
       "\n",
       "    .dataframe thead th {\n",
       "        text-align: right;\n",
       "    }\n",
       "</style>\n",
       "<table border=\"1\" class=\"dataframe\">\n",
       "  <thead>\n",
       "    <tr style=\"text-align: right;\">\n",
       "      <th></th>\n",
       "      <th>Innings Player</th>\n",
       "      <th>Innings Runs Scored</th>\n",
       "      <th>Innings Runs Scored Num</th>\n",
       "      <th>Innings Minutes Batted</th>\n",
       "      <th>Innings Batted Flag</th>\n",
       "      <th>Innings Not Out Flag</th>\n",
       "      <th>Innings Balls Faced</th>\n",
       "      <th>Innings Boundary Fours</th>\n",
       "      <th>Innings Boundary Sixes</th>\n",
       "      <th>Innings Batting Strike Rate</th>\n",
       "      <th>Innings Number</th>\n",
       "      <th>Opposition</th>\n",
       "      <th>Ground</th>\n",
       "      <th>Innings Date</th>\n",
       "      <th>Country</th>\n",
       "      <th>50's</th>\n",
       "      <th>100's</th>\n",
       "      <th>Innings Runs Scored Buckets</th>\n",
       "      <th>Innings Overs Bowled</th>\n",
       "      <th>Innings Bowled Flag</th>\n",
       "      <th>Innings Maidens Bowled</th>\n",
       "      <th>Innings Runs Conceded</th>\n",
       "      <th>Innings Wickets Taken</th>\n",
       "      <th>4 Wickets</th>\n",
       "      <th>5 Wickets</th>\n",
       "      <th>10 Wickets</th>\n",
       "      <th>Innings Wickets Taken Buckets</th>\n",
       "      <th>Innings Economy Rate</th>\n",
       "      <th>Year</th>\n",
       "    </tr>\n",
       "  </thead>\n",
       "  <tbody>\n",
       "    <tr>\n",
       "      <th>171924</th>\n",
       "      <td>JH Edrich</td>\n",
       "      <td>82</td>\n",
       "      <td>82</td>\n",
       "      <td>150</td>\n",
       "      <td>1.0</td>\n",
       "      <td>0.0</td>\n",
       "      <td>119</td>\n",
       "      <td>4</td>\n",
       "      <td>0</td>\n",
       "      <td>68.9</td>\n",
       "      <td>1</td>\n",
       "      <td>v Australia</td>\n",
       "      <td>Melbourne</td>\n",
       "      <td>1971-05-01</td>\n",
       "      <td>England</td>\n",
       "      <td>1.0</td>\n",
       "      <td>0.0</td>\n",
       "      <td>50-99</td>\n",
       "      <td>NaN</td>\n",
       "      <td>NaN</td>\n",
       "      <td>NaN</td>\n",
       "      <td>NaN</td>\n",
       "      <td>NaN</td>\n",
       "      <td>NaN</td>\n",
       "      <td>NaN</td>\n",
       "      <td>NaN</td>\n",
       "      <td>NaN</td>\n",
       "      <td>NaN</td>\n",
       "      <td>1971</td>\n",
       "    </tr>\n",
       "    <tr>\n",
       "      <th>171925</th>\n",
       "      <td>KWR Fletcher</td>\n",
       "      <td>24</td>\n",
       "      <td>24</td>\n",
       "      <td>60</td>\n",
       "      <td>1.0</td>\n",
       "      <td>0.0</td>\n",
       "      <td>47</td>\n",
       "      <td>1</td>\n",
       "      <td>0</td>\n",
       "      <td>51.06</td>\n",
       "      <td>1</td>\n",
       "      <td>v Australia</td>\n",
       "      <td>Melbourne</td>\n",
       "      <td>1971-05-01</td>\n",
       "      <td>England</td>\n",
       "      <td>0.0</td>\n",
       "      <td>0.0</td>\n",
       "      <td>0-49</td>\n",
       "      <td>NaN</td>\n",
       "      <td>NaN</td>\n",
       "      <td>NaN</td>\n",
       "      <td>NaN</td>\n",
       "      <td>NaN</td>\n",
       "      <td>NaN</td>\n",
       "      <td>NaN</td>\n",
       "      <td>NaN</td>\n",
       "      <td>NaN</td>\n",
       "      <td>NaN</td>\n",
       "      <td>1971</td>\n",
       "    </tr>\n",
       "  </tbody>\n",
       "</table>\n",
       "</div>"
      ],
      "text/plain": [
       "       Innings Player Innings Runs Scored Innings Runs Scored Num  \\\n",
       "171924      JH Edrich                  82                      82   \n",
       "171925   KWR Fletcher                  24                      24   \n",
       "\n",
       "       Innings Minutes Batted  Innings Batted Flag  Innings Not Out Flag  \\\n",
       "171924                    150                  1.0                   0.0   \n",
       "171925                     60                  1.0                   0.0   \n",
       "\n",
       "       Innings Balls Faced Innings Boundary Fours Innings Boundary Sixes  \\\n",
       "171924                 119                      4                      0   \n",
       "171925                  47                      1                      0   \n",
       "\n",
       "       Innings Batting Strike Rate Innings Number   Opposition     Ground  \\\n",
       "171924                        68.9              1  v Australia  Melbourne   \n",
       "171925                       51.06              1  v Australia  Melbourne   \n",
       "\n",
       "       Innings Date  Country  50's  100's Innings Runs Scored Buckets  \\\n",
       "171924   1971-05-01  England   1.0    0.0                       50-99   \n",
       "171925   1971-05-01  England   0.0    0.0                        0-49   \n",
       "\n",
       "       Innings Overs Bowled  Innings Bowled Flag Innings Maidens Bowled  \\\n",
       "171924                  NaN                  NaN                    NaN   \n",
       "171925                  NaN                  NaN                    NaN   \n",
       "\n",
       "       Innings Runs Conceded Innings Wickets Taken  4 Wickets  5 Wickets  \\\n",
       "171924                   NaN                   NaN        NaN        NaN   \n",
       "171925                   NaN                   NaN        NaN        NaN   \n",
       "\n",
       "        10 Wickets Innings Wickets Taken Buckets Innings Economy Rate  Year  \n",
       "171924         NaN                           NaN                  NaN  1971  \n",
       "171925         NaN                           NaN                  NaN  1971  "
      ]
     },
     "execution_count": 9,
     "metadata": {},
     "output_type": "execute_result"
    }
   ],
   "source": [
    "df[df.Year<=1971] .head(2)"
   ]
  },
  {
   "cell_type": "code",
   "execution_count": 10,
   "id": "1726acbc",
   "metadata": {
    "execution": {
     "iopub.execute_input": "2023-06-02T08:41:09.506934Z",
     "iopub.status.busy": "2023-06-02T08:41:09.506253Z",
     "iopub.status.idle": "2023-06-02T08:41:09.514983Z",
     "shell.execute_reply": "2023-06-02T08:41:09.513800Z"
    },
    "executionInfo": {
     "elapsed": 101,
     "status": "ok",
     "timestamp": 1677907062118,
     "user": {
      "displayName": "Anup Subbu",
      "userId": "02201996537246213875"
     },
     "user_tz": -330
    },
    "id": "wiB3Uqx5tWLW",
    "outputId": "b1bca6c6-80eb-4506-94ce-93e6aed2d7c1",
    "papermill": {
     "duration": 0.041655,
     "end_time": "2023-06-02T08:41:09.517765",
     "exception": false,
     "start_time": "2023-06-02T08:41:09.476110",
     "status": "completed"
    },
    "tags": []
   },
   "outputs": [
    {
     "data": {
      "text/plain": [
       "Innings Player                           object\n",
       "Innings Runs Scored                      object\n",
       "Innings Runs Scored Num                  object\n",
       "Innings Minutes Batted                   object\n",
       "Innings Batted Flag                     float64\n",
       "Innings Not Out Flag                    float64\n",
       "Innings Balls Faced                      object\n",
       "Innings Boundary Fours                   object\n",
       "Innings Boundary Sixes                   object\n",
       "Innings Batting Strike Rate              object\n",
       "Innings Number                           object\n",
       "Opposition                               object\n",
       "Ground                                   object\n",
       "Innings Date                     datetime64[ns]\n",
       "Country                                  object\n",
       "50's                                    float64\n",
       "100's                                   float64\n",
       "Innings Runs Scored Buckets              object\n",
       "Innings Overs Bowled                     object\n",
       "Innings Bowled Flag                     float64\n",
       "Innings Maidens Bowled                   object\n",
       "Innings Runs Conceded                    object\n",
       "Innings Wickets Taken                    object\n",
       "4 Wickets                               float64\n",
       "5 Wickets                               float64\n",
       "10 Wickets                              float64\n",
       "Innings Wickets Taken Buckets            object\n",
       "Innings Economy Rate                     object\n",
       "Year                                      int64\n",
       "dtype: object"
      ]
     },
     "execution_count": 10,
     "metadata": {},
     "output_type": "execute_result"
    }
   ],
   "source": [
    "df.dtypes"
   ]
  },
  {
   "cell_type": "code",
   "execution_count": 11,
   "id": "f86058d4",
   "metadata": {
    "execution": {
     "iopub.execute_input": "2023-06-02T08:41:09.579495Z",
     "iopub.status.busy": "2023-06-02T08:41:09.578275Z",
     "iopub.status.idle": "2023-06-02T08:41:09.629770Z",
     "shell.execute_reply": "2023-06-02T08:41:09.628368Z"
    },
    "executionInfo": {
     "elapsed": 91,
     "status": "ok",
     "timestamp": 1677907062119,
     "user": {
      "displayName": "Anup Subbu",
      "userId": "02201996537246213875"
     },
     "user_tz": -330
    },
    "id": "860M48Z3tWLX",
    "papermill": {
     "duration": 0.084936,
     "end_time": "2023-06-02T08:41:09.632559",
     "exception": false,
     "start_time": "2023-06-02T08:41:09.547623",
     "status": "completed"
    },
    "tags": []
   },
   "outputs": [],
   "source": [
    "df['Innings Runs Scored Num'] = df['Innings Runs Scored Num'].astype(int)\n",
    "df['Innings Balls Faced'] = df['Innings Balls Faced'].astype(int)\n",
    "df['Innings Not Out Flag'] = df['Innings Not Out Flag'].astype(int)\n",
    "df['Innings Batted Flag'] = df['Innings Batted Flag'].astype(int)"
   ]
  },
  {
   "cell_type": "code",
   "execution_count": 12,
   "id": "a1431960",
   "metadata": {
    "execution": {
     "iopub.execute_input": "2023-06-02T08:41:09.692964Z",
     "iopub.status.busy": "2023-06-02T08:41:09.692569Z",
     "iopub.status.idle": "2023-06-02T08:41:09.712939Z",
     "shell.execute_reply": "2023-06-02T08:41:09.711772Z"
    },
    "executionInfo": {
     "elapsed": 91,
     "status": "ok",
     "timestamp": 1677907062120,
     "user": {
      "displayName": "Anup Subbu",
      "userId": "02201996537246213875"
     },
     "user_tz": -330
    },
    "id": "BLC4SzldtWLX",
    "papermill": {
     "duration": 0.053774,
     "end_time": "2023-06-02T08:41:09.715662",
     "exception": false,
     "start_time": "2023-06-02T08:41:09.661888",
     "status": "completed"
    },
    "tags": []
   },
   "outputs": [],
   "source": [
    "sachin_df = df[(df.Year>=1994) & (df.Year<=2004)]\n",
    "kohli_df = df[(df.Year>=2009) & (df.Year<=2019)]"
   ]
  },
  {
   "cell_type": "code",
   "execution_count": 13,
   "id": "2fb4e57f",
   "metadata": {
    "execution": {
     "iopub.execute_input": "2023-06-02T08:41:09.775686Z",
     "iopub.status.busy": "2023-06-02T08:41:09.775308Z",
     "iopub.status.idle": "2023-06-02T08:41:09.802260Z",
     "shell.execute_reply": "2023-06-02T08:41:09.801117Z"
    },
    "executionInfo": {
     "elapsed": 90,
     "status": "ok",
     "timestamp": 1677907062120,
     "user": {
      "displayName": "Anup Subbu",
      "userId": "02201996537246213875"
     },
     "user_tz": -330
    },
    "id": "WgQwittYtWLY",
    "outputId": "7e7402fd-e064-4bad-b6cc-15bf5199536e",
    "papermill": {
     "duration": 0.060136,
     "end_time": "2023-06-02T08:41:09.804788",
     "exception": false,
     "start_time": "2023-06-02T08:41:09.744652",
     "status": "completed"
    },
    "tags": []
   },
   "outputs": [
    {
     "data": {
      "text/html": [
       "<div>\n",
       "<style scoped>\n",
       "    .dataframe tbody tr th:only-of-type {\n",
       "        vertical-align: middle;\n",
       "    }\n",
       "\n",
       "    .dataframe tbody tr th {\n",
       "        vertical-align: top;\n",
       "    }\n",
       "\n",
       "    .dataframe thead th {\n",
       "        text-align: right;\n",
       "    }\n",
       "</style>\n",
       "<table border=\"1\" class=\"dataframe\">\n",
       "  <thead>\n",
       "    <tr style=\"text-align: right;\">\n",
       "      <th></th>\n",
       "      <th>Innings Player</th>\n",
       "      <th>Innings Runs Scored</th>\n",
       "      <th>Innings Runs Scored Num</th>\n",
       "      <th>Innings Minutes Batted</th>\n",
       "      <th>Innings Batted Flag</th>\n",
       "      <th>Innings Not Out Flag</th>\n",
       "      <th>Innings Balls Faced</th>\n",
       "      <th>Innings Boundary Fours</th>\n",
       "      <th>Innings Boundary Sixes</th>\n",
       "      <th>Innings Batting Strike Rate</th>\n",
       "      <th>Innings Number</th>\n",
       "      <th>Opposition</th>\n",
       "      <th>Ground</th>\n",
       "      <th>Innings Date</th>\n",
       "      <th>Country</th>\n",
       "      <th>50's</th>\n",
       "      <th>100's</th>\n",
       "      <th>Innings Runs Scored Buckets</th>\n",
       "      <th>Innings Overs Bowled</th>\n",
       "      <th>Innings Bowled Flag</th>\n",
       "      <th>Innings Maidens Bowled</th>\n",
       "      <th>Innings Runs Conceded</th>\n",
       "      <th>Innings Wickets Taken</th>\n",
       "      <th>4 Wickets</th>\n",
       "      <th>5 Wickets</th>\n",
       "      <th>10 Wickets</th>\n",
       "      <th>Innings Wickets Taken Buckets</th>\n",
       "      <th>Innings Economy Rate</th>\n",
       "      <th>Year</th>\n",
       "    </tr>\n",
       "  </thead>\n",
       "  <tbody>\n",
       "    <tr>\n",
       "      <th>77610</th>\n",
       "      <td>V Sehwag</td>\n",
       "      <td>70</td>\n",
       "      <td>70</td>\n",
       "      <td>85</td>\n",
       "      <td>1</td>\n",
       "      <td>0</td>\n",
       "      <td>52</td>\n",
       "      <td>9</td>\n",
       "      <td>2</td>\n",
       "      <td>134.61</td>\n",
       "      <td>1</td>\n",
       "      <td>v Bangladesh</td>\n",
       "      <td>Dhaka</td>\n",
       "      <td>2004-12-27</td>\n",
       "      <td>India</td>\n",
       "      <td>1.0</td>\n",
       "      <td>0.0</td>\n",
       "      <td>50-99</td>\n",
       "      <td>NaN</td>\n",
       "      <td>NaN</td>\n",
       "      <td>NaN</td>\n",
       "      <td>NaN</td>\n",
       "      <td>NaN</td>\n",
       "      <td>NaN</td>\n",
       "      <td>NaN</td>\n",
       "      <td>NaN</td>\n",
       "      <td>NaN</td>\n",
       "      <td>NaN</td>\n",
       "      <td>2004</td>\n",
       "    </tr>\n",
       "    <tr>\n",
       "      <th>77611</th>\n",
       "      <td>Yuvraj Singh</td>\n",
       "      <td>69</td>\n",
       "      <td>69</td>\n",
       "      <td>34</td>\n",
       "      <td>1</td>\n",
       "      <td>0</td>\n",
       "      <td>32</td>\n",
       "      <td>8</td>\n",
       "      <td>3</td>\n",
       "      <td>215.62</td>\n",
       "      <td>1</td>\n",
       "      <td>v Bangladesh</td>\n",
       "      <td>Dhaka</td>\n",
       "      <td>2004-12-27</td>\n",
       "      <td>India</td>\n",
       "      <td>1.0</td>\n",
       "      <td>0.0</td>\n",
       "      <td>50-99</td>\n",
       "      <td>NaN</td>\n",
       "      <td>NaN</td>\n",
       "      <td>NaN</td>\n",
       "      <td>NaN</td>\n",
       "      <td>NaN</td>\n",
       "      <td>NaN</td>\n",
       "      <td>NaN</td>\n",
       "      <td>NaN</td>\n",
       "      <td>NaN</td>\n",
       "      <td>NaN</td>\n",
       "      <td>2004</td>\n",
       "    </tr>\n",
       "  </tbody>\n",
       "</table>\n",
       "</div>"
      ],
      "text/plain": [
       "      Innings Player Innings Runs Scored  Innings Runs Scored Num  \\\n",
       "77610       V Sehwag                  70                       70   \n",
       "77611   Yuvraj Singh                  69                       69   \n",
       "\n",
       "      Innings Minutes Batted  Innings Batted Flag  Innings Not Out Flag  \\\n",
       "77610                     85                    1                     0   \n",
       "77611                     34                    1                     0   \n",
       "\n",
       "       Innings Balls Faced Innings Boundary Fours Innings Boundary Sixes  \\\n",
       "77610                   52                      9                      2   \n",
       "77611                   32                      8                      3   \n",
       "\n",
       "      Innings Batting Strike Rate Innings Number    Opposition Ground  \\\n",
       "77610                      134.61              1  v Bangladesh  Dhaka   \n",
       "77611                      215.62              1  v Bangladesh  Dhaka   \n",
       "\n",
       "      Innings Date Country  50's  100's Innings Runs Scored Buckets  \\\n",
       "77610   2004-12-27   India   1.0    0.0                       50-99   \n",
       "77611   2004-12-27   India   1.0    0.0                       50-99   \n",
       "\n",
       "      Innings Overs Bowled  Innings Bowled Flag Innings Maidens Bowled  \\\n",
       "77610                  NaN                  NaN                    NaN   \n",
       "77611                  NaN                  NaN                    NaN   \n",
       "\n",
       "      Innings Runs Conceded Innings Wickets Taken  4 Wickets  5 Wickets  \\\n",
       "77610                   NaN                   NaN        NaN        NaN   \n",
       "77611                   NaN                   NaN        NaN        NaN   \n",
       "\n",
       "       10 Wickets Innings Wickets Taken Buckets Innings Economy Rate  Year  \n",
       "77610         NaN                           NaN                  NaN  2004  \n",
       "77611         NaN                           NaN                  NaN  2004  "
      ]
     },
     "execution_count": 13,
     "metadata": {},
     "output_type": "execute_result"
    }
   ],
   "source": [
    "sachin_df.head(2)"
   ]
  },
  {
   "cell_type": "code",
   "execution_count": 14,
   "id": "3e6f0b5f",
   "metadata": {
    "execution": {
     "iopub.execute_input": "2023-06-02T08:41:09.865450Z",
     "iopub.status.busy": "2023-06-02T08:41:09.865077Z",
     "iopub.status.idle": "2023-06-02T08:41:09.906331Z",
     "shell.execute_reply": "2023-06-02T08:41:09.905165Z"
    },
    "executionInfo": {
     "elapsed": 89,
     "status": "ok",
     "timestamp": 1677907062121,
     "user": {
      "displayName": "Anup Subbu",
      "userId": "02201996537246213875"
     },
     "user_tz": -330
    },
    "id": "3hw2R6qZtWLY",
    "outputId": "ab5de7ad-0662-4085-fbf6-c0fa0a4f2609",
    "papermill": {
     "duration": 0.074926,
     "end_time": "2023-06-02T08:41:09.908803",
     "exception": false,
     "start_time": "2023-06-02T08:41:09.833877",
     "status": "completed"
    },
    "tags": []
   },
   "outputs": [
    {
     "data": {
      "text/html": [
       "<div>\n",
       "<style scoped>\n",
       "    .dataframe tbody tr th:only-of-type {\n",
       "        vertical-align: middle;\n",
       "    }\n",
       "\n",
       "    .dataframe tbody tr th {\n",
       "        vertical-align: top;\n",
       "    }\n",
       "\n",
       "    .dataframe thead th {\n",
       "        text-align: right;\n",
       "    }\n",
       "</style>\n",
       "<table border=\"1\" class=\"dataframe\">\n",
       "  <thead>\n",
       "    <tr style=\"text-align: right;\">\n",
       "      <th></th>\n",
       "      <th>Innings Player</th>\n",
       "      <th>Innings Runs Scored</th>\n",
       "      <th>Innings Runs Scored Num</th>\n",
       "      <th>Innings Minutes Batted</th>\n",
       "      <th>Innings Batted Flag</th>\n",
       "      <th>Innings Not Out Flag</th>\n",
       "      <th>Innings Balls Faced</th>\n",
       "      <th>Innings Boundary Fours</th>\n",
       "      <th>Innings Boundary Sixes</th>\n",
       "      <th>Innings Batting Strike Rate</th>\n",
       "      <th>Innings Number</th>\n",
       "      <th>Opposition</th>\n",
       "      <th>Ground</th>\n",
       "      <th>Innings Date</th>\n",
       "      <th>Country</th>\n",
       "      <th>50's</th>\n",
       "      <th>100's</th>\n",
       "      <th>Innings Runs Scored Buckets</th>\n",
       "      <th>Innings Overs Bowled</th>\n",
       "      <th>Innings Bowled Flag</th>\n",
       "      <th>Innings Maidens Bowled</th>\n",
       "      <th>Innings Runs Conceded</th>\n",
       "      <th>Innings Wickets Taken</th>\n",
       "      <th>4 Wickets</th>\n",
       "      <th>5 Wickets</th>\n",
       "      <th>10 Wickets</th>\n",
       "      <th>Innings Wickets Taken Buckets</th>\n",
       "      <th>Innings Economy Rate</th>\n",
       "      <th>Year</th>\n",
       "    </tr>\n",
       "  </thead>\n",
       "  <tbody>\n",
       "    <tr>\n",
       "      <th>77614</th>\n",
       "      <td>SR Tendulkar</td>\n",
       "      <td>47</td>\n",
       "      <td>47</td>\n",
       "      <td>60</td>\n",
       "      <td>1</td>\n",
       "      <td>0</td>\n",
       "      <td>42</td>\n",
       "      <td>9</td>\n",
       "      <td>0</td>\n",
       "      <td>111.9</td>\n",
       "      <td>1</td>\n",
       "      <td>v Bangladesh</td>\n",
       "      <td>Dhaka</td>\n",
       "      <td>2004-12-27</td>\n",
       "      <td>India</td>\n",
       "      <td>0.0</td>\n",
       "      <td>0.0</td>\n",
       "      <td>0-49</td>\n",
       "      <td>NaN</td>\n",
       "      <td>NaN</td>\n",
       "      <td>NaN</td>\n",
       "      <td>NaN</td>\n",
       "      <td>NaN</td>\n",
       "      <td>NaN</td>\n",
       "      <td>NaN</td>\n",
       "      <td>NaN</td>\n",
       "      <td>NaN</td>\n",
       "      <td>NaN</td>\n",
       "      <td>2004</td>\n",
       "    </tr>\n",
       "    <tr>\n",
       "      <th>77747</th>\n",
       "      <td>SR Tendulkar</td>\n",
       "      <td>19</td>\n",
       "      <td>19</td>\n",
       "      <td>46</td>\n",
       "      <td>1</td>\n",
       "      <td>0</td>\n",
       "      <td>32</td>\n",
       "      <td>3</td>\n",
       "      <td>0</td>\n",
       "      <td>59.37</td>\n",
       "      <td>1</td>\n",
       "      <td>v Bangladesh</td>\n",
       "      <td>Chattogram</td>\n",
       "      <td>2004-12-23</td>\n",
       "      <td>India</td>\n",
       "      <td>0.0</td>\n",
       "      <td>0.0</td>\n",
       "      <td>0-49</td>\n",
       "      <td>NaN</td>\n",
       "      <td>NaN</td>\n",
       "      <td>NaN</td>\n",
       "      <td>NaN</td>\n",
       "      <td>NaN</td>\n",
       "      <td>NaN</td>\n",
       "      <td>NaN</td>\n",
       "      <td>NaN</td>\n",
       "      <td>NaN</td>\n",
       "      <td>NaN</td>\n",
       "      <td>2004</td>\n",
       "    </tr>\n",
       "  </tbody>\n",
       "</table>\n",
       "</div>"
      ],
      "text/plain": [
       "      Innings Player Innings Runs Scored  Innings Runs Scored Num  \\\n",
       "77614   SR Tendulkar                  47                       47   \n",
       "77747   SR Tendulkar                  19                       19   \n",
       "\n",
       "      Innings Minutes Batted  Innings Batted Flag  Innings Not Out Flag  \\\n",
       "77614                     60                    1                     0   \n",
       "77747                     46                    1                     0   \n",
       "\n",
       "       Innings Balls Faced Innings Boundary Fours Innings Boundary Sixes  \\\n",
       "77614                   42                      9                      0   \n",
       "77747                   32                      3                      0   \n",
       "\n",
       "      Innings Batting Strike Rate Innings Number    Opposition      Ground  \\\n",
       "77614                       111.9              1  v Bangladesh       Dhaka   \n",
       "77747                       59.37              1  v Bangladesh  Chattogram   \n",
       "\n",
       "      Innings Date Country  50's  100's Innings Runs Scored Buckets  \\\n",
       "77614   2004-12-27   India   0.0    0.0                        0-49   \n",
       "77747   2004-12-23   India   0.0    0.0                        0-49   \n",
       "\n",
       "      Innings Overs Bowled  Innings Bowled Flag Innings Maidens Bowled  \\\n",
       "77614                  NaN                  NaN                    NaN   \n",
       "77747                  NaN                  NaN                    NaN   \n",
       "\n",
       "      Innings Runs Conceded Innings Wickets Taken  4 Wickets  5 Wickets  \\\n",
       "77614                   NaN                   NaN        NaN        NaN   \n",
       "77747                   NaN                   NaN        NaN        NaN   \n",
       "\n",
       "       10 Wickets Innings Wickets Taken Buckets Innings Economy Rate  Year  \n",
       "77614         NaN                           NaN                  NaN  2004  \n",
       "77747         NaN                           NaN                  NaN  2004  "
      ]
     },
     "execution_count": 14,
     "metadata": {},
     "output_type": "execute_result"
    }
   ],
   "source": [
    "sdf = df[(df.Year>=1994) & (df.Year<=2004) & (df['Innings Player']=='SR Tendulkar')]\n",
    "sdf.reset_index(drop=True)\n",
    "sdf.head(2)"
   ]
  },
  {
   "cell_type": "code",
   "execution_count": 15,
   "id": "d0c97fe2",
   "metadata": {
    "execution": {
     "iopub.execute_input": "2023-06-02T08:41:09.969922Z",
     "iopub.status.busy": "2023-06-02T08:41:09.969547Z",
     "iopub.status.idle": "2023-06-02T08:41:09.977027Z",
     "shell.execute_reply": "2023-06-02T08:41:09.975869Z"
    },
    "executionInfo": {
     "elapsed": 84,
     "status": "ok",
     "timestamp": 1677907062121,
     "user": {
      "displayName": "Anup Subbu",
      "userId": "02201996537246213875"
     },
     "user_tz": -330
    },
    "id": "DX4HO8mHtWLZ",
    "outputId": "fd860768-b078-406a-ea65-d56478162795",
    "papermill": {
     "duration": 0.040994,
     "end_time": "2023-06-02T08:41:09.979393",
     "exception": false,
     "start_time": "2023-06-02T08:41:09.938399",
     "status": "completed"
    },
    "tags": []
   },
   "outputs": [
    {
     "data": {
      "text/plain": [
       "11818"
      ]
     },
     "execution_count": 15,
     "metadata": {},
     "output_type": "execute_result"
    }
   ],
   "source": [
    "sdf['Innings Runs Scored Num'].sum()"
   ]
  },
  {
   "cell_type": "code",
   "execution_count": 16,
   "id": "f01a87a6",
   "metadata": {
    "execution": {
     "iopub.execute_input": "2023-06-02T08:41:10.040721Z",
     "iopub.status.busy": "2023-06-02T08:41:10.040290Z",
     "iopub.status.idle": "2023-06-02T08:41:10.083414Z",
     "shell.execute_reply": "2023-06-02T08:41:10.082149Z"
    },
    "executionInfo": {
     "elapsed": 77,
     "status": "ok",
     "timestamp": 1677907062122,
     "user": {
      "displayName": "Anup Subbu",
      "userId": "02201996537246213875"
     },
     "user_tz": -330
    },
    "id": "kHoZYy5stWLa",
    "outputId": "a3b0c99f-cb4b-4786-af1a-e5a765749a01",
    "papermill": {
     "duration": 0.077072,
     "end_time": "2023-06-02T08:41:10.085934",
     "exception": false,
     "start_time": "2023-06-02T08:41:10.008862",
     "status": "completed"
    },
    "tags": []
   },
   "outputs": [
    {
     "data": {
      "text/html": [
       "<div>\n",
       "<style scoped>\n",
       "    .dataframe tbody tr th:only-of-type {\n",
       "        vertical-align: middle;\n",
       "    }\n",
       "\n",
       "    .dataframe tbody tr th {\n",
       "        vertical-align: top;\n",
       "    }\n",
       "\n",
       "    .dataframe thead th {\n",
       "        text-align: right;\n",
       "    }\n",
       "</style>\n",
       "<table border=\"1\" class=\"dataframe\">\n",
       "  <thead>\n",
       "    <tr style=\"text-align: right;\">\n",
       "      <th></th>\n",
       "      <th>Innings Player</th>\n",
       "      <th>Innings Runs Scored</th>\n",
       "      <th>Innings Runs Scored Num</th>\n",
       "      <th>Innings Minutes Batted</th>\n",
       "      <th>Innings Batted Flag</th>\n",
       "      <th>Innings Not Out Flag</th>\n",
       "      <th>Innings Balls Faced</th>\n",
       "      <th>Innings Boundary Fours</th>\n",
       "      <th>Innings Boundary Sixes</th>\n",
       "      <th>Innings Batting Strike Rate</th>\n",
       "      <th>Innings Number</th>\n",
       "      <th>Opposition</th>\n",
       "      <th>Ground</th>\n",
       "      <th>Innings Date</th>\n",
       "      <th>Country</th>\n",
       "      <th>50's</th>\n",
       "      <th>100's</th>\n",
       "      <th>Innings Runs Scored Buckets</th>\n",
       "      <th>Innings Overs Bowled</th>\n",
       "      <th>Innings Bowled Flag</th>\n",
       "      <th>Innings Maidens Bowled</th>\n",
       "      <th>Innings Runs Conceded</th>\n",
       "      <th>Innings Wickets Taken</th>\n",
       "      <th>4 Wickets</th>\n",
       "      <th>5 Wickets</th>\n",
       "      <th>10 Wickets</th>\n",
       "      <th>Innings Wickets Taken Buckets</th>\n",
       "      <th>Innings Economy Rate</th>\n",
       "      <th>Year</th>\n",
       "    </tr>\n",
       "  </thead>\n",
       "  <tbody>\n",
       "    <tr>\n",
       "      <th>11</th>\n",
       "      <td>V Kohli</td>\n",
       "      <td>120</td>\n",
       "      <td>120</td>\n",
       "      <td>179</td>\n",
       "      <td>1</td>\n",
       "      <td>0</td>\n",
       "      <td>125</td>\n",
       "      <td>14</td>\n",
       "      <td>1</td>\n",
       "      <td>96</td>\n",
       "      <td>1</td>\n",
       "      <td>v West Indies</td>\n",
       "      <td>Port of Spain</td>\n",
       "      <td>2019-11-08</td>\n",
       "      <td>India</td>\n",
       "      <td>0.0</td>\n",
       "      <td>1.0</td>\n",
       "      <td>100-149</td>\n",
       "      <td>NaN</td>\n",
       "      <td>NaN</td>\n",
       "      <td>NaN</td>\n",
       "      <td>NaN</td>\n",
       "      <td>NaN</td>\n",
       "      <td>NaN</td>\n",
       "      <td>NaN</td>\n",
       "      <td>NaN</td>\n",
       "      <td>NaN</td>\n",
       "      <td>NaN</td>\n",
       "      <td>2019</td>\n",
       "    </tr>\n",
       "    <tr>\n",
       "      <th>327</th>\n",
       "      <td>V Kohli</td>\n",
       "      <td>1</td>\n",
       "      <td>1</td>\n",
       "      <td>8</td>\n",
       "      <td>1</td>\n",
       "      <td>0</td>\n",
       "      <td>6</td>\n",
       "      <td>0</td>\n",
       "      <td>0</td>\n",
       "      <td>16.66</td>\n",
       "      <td>2</td>\n",
       "      <td>v New Zealand</td>\n",
       "      <td>Manchester</td>\n",
       "      <td>2019-09-07</td>\n",
       "      <td>India</td>\n",
       "      <td>0.0</td>\n",
       "      <td>0.0</td>\n",
       "      <td>0-49</td>\n",
       "      <td>NaN</td>\n",
       "      <td>NaN</td>\n",
       "      <td>NaN</td>\n",
       "      <td>NaN</td>\n",
       "      <td>NaN</td>\n",
       "      <td>NaN</td>\n",
       "      <td>NaN</td>\n",
       "      <td>NaN</td>\n",
       "      <td>NaN</td>\n",
       "      <td>NaN</td>\n",
       "      <td>2019</td>\n",
       "    </tr>\n",
       "    <tr>\n",
       "      <th>420</th>\n",
       "      <td>V Kohli</td>\n",
       "      <td>34*</td>\n",
       "      <td>34</td>\n",
       "      <td>61</td>\n",
       "      <td>1</td>\n",
       "      <td>1</td>\n",
       "      <td>41</td>\n",
       "      <td>3</td>\n",
       "      <td>0</td>\n",
       "      <td>82.92</td>\n",
       "      <td>2</td>\n",
       "      <td>v Sri Lanka</td>\n",
       "      <td>Leeds</td>\n",
       "      <td>2019-06-07</td>\n",
       "      <td>India</td>\n",
       "      <td>0.0</td>\n",
       "      <td>0.0</td>\n",
       "      <td>0-49</td>\n",
       "      <td>NaN</td>\n",
       "      <td>NaN</td>\n",
       "      <td>NaN</td>\n",
       "      <td>NaN</td>\n",
       "      <td>NaN</td>\n",
       "      <td>NaN</td>\n",
       "      <td>NaN</td>\n",
       "      <td>NaN</td>\n",
       "      <td>NaN</td>\n",
       "      <td>NaN</td>\n",
       "      <td>2019</td>\n",
       "    </tr>\n",
       "    <tr>\n",
       "      <th>664</th>\n",
       "      <td>V Kohli</td>\n",
       "      <td>26</td>\n",
       "      <td>26</td>\n",
       "      <td>45</td>\n",
       "      <td>1</td>\n",
       "      <td>0</td>\n",
       "      <td>27</td>\n",
       "      <td>3</td>\n",
       "      <td>0</td>\n",
       "      <td>96.29</td>\n",
       "      <td>1</td>\n",
       "      <td>v Bangladesh</td>\n",
       "      <td>Birmingham</td>\n",
       "      <td>2019-02-07</td>\n",
       "      <td>India</td>\n",
       "      <td>0.0</td>\n",
       "      <td>0.0</td>\n",
       "      <td>0-49</td>\n",
       "      <td>NaN</td>\n",
       "      <td>NaN</td>\n",
       "      <td>NaN</td>\n",
       "      <td>NaN</td>\n",
       "      <td>NaN</td>\n",
       "      <td>NaN</td>\n",
       "      <td>NaN</td>\n",
       "      <td>NaN</td>\n",
       "      <td>NaN</td>\n",
       "      <td>NaN</td>\n",
       "      <td>2019</td>\n",
       "    </tr>\n",
       "    <tr>\n",
       "      <th>804</th>\n",
       "      <td>V Kohli</td>\n",
       "      <td>66</td>\n",
       "      <td>66</td>\n",
       "      <td>103</td>\n",
       "      <td>1</td>\n",
       "      <td>0</td>\n",
       "      <td>76</td>\n",
       "      <td>7</td>\n",
       "      <td>0</td>\n",
       "      <td>86.84</td>\n",
       "      <td>2</td>\n",
       "      <td>v England</td>\n",
       "      <td>Birmingham</td>\n",
       "      <td>2019-06-30</td>\n",
       "      <td>India</td>\n",
       "      <td>1.0</td>\n",
       "      <td>0.0</td>\n",
       "      <td>50-99</td>\n",
       "      <td>NaN</td>\n",
       "      <td>NaN</td>\n",
       "      <td>NaN</td>\n",
       "      <td>NaN</td>\n",
       "      <td>NaN</td>\n",
       "      <td>NaN</td>\n",
       "      <td>NaN</td>\n",
       "      <td>NaN</td>\n",
       "      <td>NaN</td>\n",
       "      <td>NaN</td>\n",
       "      <td>2019</td>\n",
       "    </tr>\n",
       "  </tbody>\n",
       "</table>\n",
       "</div>"
      ],
      "text/plain": [
       "    Innings Player Innings Runs Scored  Innings Runs Scored Num  \\\n",
       "11         V Kohli                 120                      120   \n",
       "327        V Kohli                   1                        1   \n",
       "420        V Kohli                 34*                       34   \n",
       "664        V Kohli                  26                       26   \n",
       "804        V Kohli                  66                       66   \n",
       "\n",
       "    Innings Minutes Batted  Innings Batted Flag  Innings Not Out Flag  \\\n",
       "11                     179                    1                     0   \n",
       "327                      8                    1                     0   \n",
       "420                     61                    1                     1   \n",
       "664                     45                    1                     0   \n",
       "804                    103                    1                     0   \n",
       "\n",
       "     Innings Balls Faced Innings Boundary Fours Innings Boundary Sixes  \\\n",
       "11                   125                     14                      1   \n",
       "327                    6                      0                      0   \n",
       "420                   41                      3                      0   \n",
       "664                   27                      3                      0   \n",
       "804                   76                      7                      0   \n",
       "\n",
       "    Innings Batting Strike Rate Innings Number     Opposition         Ground  \\\n",
       "11                           96              1  v West Indies  Port of Spain   \n",
       "327                       16.66              2  v New Zealand     Manchester   \n",
       "420                       82.92              2    v Sri Lanka          Leeds   \n",
       "664                       96.29              1   v Bangladesh     Birmingham   \n",
       "804                       86.84              2      v England     Birmingham   \n",
       "\n",
       "    Innings Date Country  50's  100's Innings Runs Scored Buckets  \\\n",
       "11    2019-11-08   India   0.0    1.0                     100-149   \n",
       "327   2019-09-07   India   0.0    0.0                        0-49   \n",
       "420   2019-06-07   India   0.0    0.0                        0-49   \n",
       "664   2019-02-07   India   0.0    0.0                        0-49   \n",
       "804   2019-06-30   India   1.0    0.0                       50-99   \n",
       "\n",
       "    Innings Overs Bowled  Innings Bowled Flag Innings Maidens Bowled  \\\n",
       "11                   NaN                  NaN                    NaN   \n",
       "327                  NaN                  NaN                    NaN   \n",
       "420                  NaN                  NaN                    NaN   \n",
       "664                  NaN                  NaN                    NaN   \n",
       "804                  NaN                  NaN                    NaN   \n",
       "\n",
       "    Innings Runs Conceded Innings Wickets Taken  4 Wickets  5 Wickets  \\\n",
       "11                    NaN                   NaN        NaN        NaN   \n",
       "327                   NaN                   NaN        NaN        NaN   \n",
       "420                   NaN                   NaN        NaN        NaN   \n",
       "664                   NaN                   NaN        NaN        NaN   \n",
       "804                   NaN                   NaN        NaN        NaN   \n",
       "\n",
       "     10 Wickets Innings Wickets Taken Buckets Innings Economy Rate  Year  \n",
       "11          NaN                           NaN                  NaN  2019  \n",
       "327         NaN                           NaN                  NaN  2019  \n",
       "420         NaN                           NaN                  NaN  2019  \n",
       "664         NaN                           NaN                  NaN  2019  \n",
       "804         NaN                           NaN                  NaN  2019  "
      ]
     },
     "execution_count": 16,
     "metadata": {},
     "output_type": "execute_result"
    }
   ],
   "source": [
    "kdf = df[(df.Year>=2009) & (df.Year<=2019) & (df['Innings Player']=='V Kohli')]\n",
    "kdf.reset_index(drop=True)\n",
    "kdf.head(5)"
   ]
  },
  {
   "cell_type": "code",
   "execution_count": 17,
   "id": "2b055e58",
   "metadata": {
    "execution": {
     "iopub.execute_input": "2023-06-02T08:41:10.148672Z",
     "iopub.status.busy": "2023-06-02T08:41:10.147818Z",
     "iopub.status.idle": "2023-06-02T08:41:10.155697Z",
     "shell.execute_reply": "2023-06-02T08:41:10.154594Z"
    },
    "executionInfo": {
     "elapsed": 75,
     "status": "ok",
     "timestamp": 1677907062122,
     "user": {
      "displayName": "Anup Subbu",
      "userId": "02201996537246213875"
     },
     "user_tz": -330
    },
    "id": "i68Za7g7tWLb",
    "outputId": "964958cf-4a52-4c6a-aaa6-a3cf0c692efc",
    "papermill": {
     "duration": 0.041966,
     "end_time": "2023-06-02T08:41:10.158180",
     "exception": false,
     "start_time": "2023-06-02T08:41:10.116214",
     "status": "completed"
    },
    "tags": []
   },
   "outputs": [
    {
     "data": {
      "text/plain": [
       "11247"
      ]
     },
     "execution_count": 17,
     "metadata": {},
     "output_type": "execute_result"
    }
   ],
   "source": [
    "kdf['Innings Runs Scored Num'].sum()"
   ]
  },
  {
   "cell_type": "code",
   "execution_count": 18,
   "id": "5cc67534",
   "metadata": {
    "execution": {
     "iopub.execute_input": "2023-06-02T08:41:10.221850Z",
     "iopub.status.busy": "2023-06-02T08:41:10.221233Z",
     "iopub.status.idle": "2023-06-02T08:41:10.227784Z",
     "shell.execute_reply": "2023-06-02T08:41:10.226482Z"
    },
    "executionInfo": {
     "elapsed": 4,
     "status": "ok",
     "timestamp": 1677908758076,
     "user": {
      "displayName": "Anup Subbu",
      "userId": "02201996537246213875"
     },
     "user_tz": -330
    },
    "id": "8E2jG-P3JrV0",
    "outputId": "4dde0922-e375-4782-e50f-ce7cf5381358",
    "papermill": {
     "duration": 0.042461,
     "end_time": "2023-06-02T08:41:10.231438",
     "exception": false,
     "start_time": "2023-06-02T08:41:10.188977",
     "status": "completed"
    },
    "tags": []
   },
   "outputs": [
    {
     "name": "stdout",
     "output_type": "stream",
     "text": [
      "No.of innings sachin played : 271\n",
      "No.of innings kohli played  : 224\n"
     ]
    }
   ],
   "source": [
    "print(\"No.of innings sachin played : {0}\".format(len(sdf)))\n",
    "print(\"No.of innings kohli played  : {0}\".format(len(kdf)))"
   ]
  },
  {
   "cell_type": "code",
   "execution_count": 19,
   "id": "2689b85e",
   "metadata": {
    "execution": {
     "iopub.execute_input": "2023-06-02T08:41:10.296317Z",
     "iopub.status.busy": "2023-06-02T08:41:10.295913Z",
     "iopub.status.idle": "2023-06-02T08:41:10.300481Z",
     "shell.execute_reply": "2023-06-02T08:41:10.299322Z"
    },
    "executionInfo": {
     "elapsed": 70,
     "status": "ok",
     "timestamp": 1677907062124,
     "user": {
      "displayName": "Anup Subbu",
      "userId": "02201996537246213875"
     },
     "user_tz": -330
    },
    "id": "3lNi7cHDtWLb",
    "papermill": {
     "duration": 0.039393,
     "end_time": "2023-06-02T08:41:10.302883",
     "exception": false,
     "start_time": "2023-06-02T08:41:10.263490",
     "status": "completed"
    },
    "tags": []
   },
   "outputs": [],
   "source": [
    "# Runs per Innings  --> Total Runs / Total Innings Played\n",
    "# SR                --> (Total Runs/ TotalBalls) *100\n",
    "# 100's\n",
    "# 50's\n",
    "# Team Contribution --> (Runs score by the player / Runs score by the team) * 100 "
   ]
  },
  {
   "cell_type": "code",
   "execution_count": 20,
   "id": "61e756a5",
   "metadata": {
    "execution": {
     "iopub.execute_input": "2023-06-02T08:41:10.365973Z",
     "iopub.status.busy": "2023-06-02T08:41:10.365554Z",
     "iopub.status.idle": "2023-06-02T08:41:10.374342Z",
     "shell.execute_reply": "2023-06-02T08:41:10.373234Z"
    },
    "executionInfo": {
     "elapsed": 72,
     "status": "ok",
     "timestamp": 1677907062126,
     "user": {
      "displayName": "Anup Subbu",
      "userId": "02201996537246213875"
     },
     "user_tz": -330
    },
    "id": "LbeBBn-BtWLc",
    "outputId": "d581851d-c341-48a9-8330-fab377a8eef6",
    "papermill": {
     "duration": 0.043085,
     "end_time": "2023-06-02T08:41:10.376742",
     "exception": false,
     "start_time": "2023-06-02T08:41:10.333657",
     "status": "completed"
    },
    "tags": []
   },
   "outputs": [
    {
     "data": {
      "text/plain": [
       "(43.61, 50.21)"
      ]
     },
     "execution_count": 20,
     "metadata": {},
     "output_type": "execute_result"
    }
   ],
   "source": [
    "# RPI\n",
    "sachin_rpi = ((sdf['Innings Runs Scored Num'].sum()) / (sdf['Innings Batted Flag'].sum())).round(2)\n",
    "kohli_rpi = ((kdf['Innings Runs Scored Num'].sum()) / (kdf['Innings Batted Flag'].sum())).round(2)\n",
    "\n",
    "sachin_rpi,kohli_rpi"
   ]
  },
  {
   "cell_type": "code",
   "execution_count": 21,
   "id": "cacd004b",
   "metadata": {
    "execution": {
     "iopub.execute_input": "2023-06-02T08:41:10.441133Z",
     "iopub.status.busy": "2023-06-02T08:41:10.440717Z",
     "iopub.status.idle": "2023-06-02T08:41:10.447594Z",
     "shell.execute_reply": "2023-06-02T08:41:10.446428Z"
    },
    "id": "sLGzcsZCb_Sf",
    "papermill": {
     "duration": 0.04283,
     "end_time": "2023-06-02T08:41:10.450060",
     "exception": false,
     "start_time": "2023-06-02T08:41:10.407230",
     "status": "completed"
    },
    "tags": []
   },
   "outputs": [],
   "source": [
    "#SR\n",
    "sachin_sr = (((sdf['Innings Runs Scored Num'].sum()) / ((sdf['Innings Balls Faced'].sum()))) * 100).round(2)\n",
    "kohli_sr = (((kdf['Innings Runs Scored Num'].sum()) / ((kdf['Innings Balls Faced'].sum()))) * 100).round(2)"
   ]
  },
  {
   "cell_type": "code",
   "execution_count": 22,
   "id": "b62d4250",
   "metadata": {
    "execution": {
     "iopub.execute_input": "2023-06-02T08:41:10.515766Z",
     "iopub.status.busy": "2023-06-02T08:41:10.514983Z",
     "iopub.status.idle": "2023-06-02T08:41:10.520890Z",
     "shell.execute_reply": "2023-06-02T08:41:10.519921Z"
    },
    "executionInfo": {
     "elapsed": 61,
     "status": "ok",
     "timestamp": 1677907062129,
     "user": {
      "displayName": "Anup Subbu",
      "userId": "02201996537246213875"
     },
     "user_tz": -330
    },
    "id": "04zCDrw0tWLd",
    "papermill": {
     "duration": 0.041584,
     "end_time": "2023-06-02T08:41:10.523509",
     "exception": false,
     "start_time": "2023-06-02T08:41:10.481925",
     "status": "completed"
    },
    "tags": []
   },
   "outputs": [],
   "source": [
    "#100's\n",
    "sachin_100 = sdf[\"100's\"].sum()\n",
    "kohli_100  = kdf[\"100's\"].sum()"
   ]
  },
  {
   "cell_type": "code",
   "execution_count": 23,
   "id": "593e8320",
   "metadata": {
    "execution": {
     "iopub.execute_input": "2023-06-02T08:41:10.587089Z",
     "iopub.status.busy": "2023-06-02T08:41:10.586282Z",
     "iopub.status.idle": "2023-06-02T08:41:10.592189Z",
     "shell.execute_reply": "2023-06-02T08:41:10.591155Z"
    },
    "executionInfo": {
     "elapsed": 62,
     "status": "ok",
     "timestamp": 1677907062130,
     "user": {
      "displayName": "Anup Subbu",
      "userId": "02201996537246213875"
     },
     "user_tz": -330
    },
    "id": "bM-S6QaktWLe",
    "papermill": {
     "duration": 0.040479,
     "end_time": "2023-06-02T08:41:10.594637",
     "exception": false,
     "start_time": "2023-06-02T08:41:10.554158",
     "status": "completed"
    },
    "tags": []
   },
   "outputs": [],
   "source": [
    "#50's\n",
    "sachin_50 = sdf[\"50's\"].sum()\n",
    "kohli_50  = kdf[\"50's\"].sum()"
   ]
  },
  {
   "cell_type": "code",
   "execution_count": 24,
   "id": "ea6aefe7",
   "metadata": {
    "execution": {
     "iopub.execute_input": "2023-06-02T08:41:10.657996Z",
     "iopub.status.busy": "2023-06-02T08:41:10.657580Z",
     "iopub.status.idle": "2023-06-02T08:41:10.694541Z",
     "shell.execute_reply": "2023-06-02T08:41:10.693321Z"
    },
    "executionInfo": {
     "elapsed": 62,
     "status": "ok",
     "timestamp": 1677907062131,
     "user": {
      "displayName": "Anup Subbu",
      "userId": "02201996537246213875"
     },
     "user_tz": -330
    },
    "id": "zb64k3hetWLe",
    "papermill": {
     "duration": 0.071508,
     "end_time": "2023-06-02T08:41:10.696911",
     "exception": false,
     "start_time": "2023-06-02T08:41:10.625403",
     "status": "completed"
    },
    "tags": []
   },
   "outputs": [
    {
     "data": {
      "text/plain": [
       "63867"
      ]
     },
     "execution_count": 24,
     "metadata": {},
     "output_type": "execute_result"
    }
   ],
   "source": [
    "#Team's Contribution --> (Runs score by the player / Runs score by the team) * 100 \n",
    "\n",
    "India_df_sachin = df[(df.Year>=1994) & (df.Year<=2004) & (df['Country']=='India')]\n",
    "India_df_kohli = df[(df.Year>=2009) & (df.Year<=2019) & (df['Country']=='India')]\n",
    "\n",
    "#1994-2004 All Indian Players Runs \n",
    "India_df_sachin['Innings Runs Scored Num'].sum()\n",
    "\n",
    "#2009-2019 All Indian Players Runs\n",
    "India_df_kohli['Innings Runs Scored Num'].sum()"
   ]
  },
  {
   "cell_type": "code",
   "execution_count": 25,
   "id": "e8887be3",
   "metadata": {
    "execution": {
     "iopub.execute_input": "2023-06-02T08:41:10.760345Z",
     "iopub.status.busy": "2023-06-02T08:41:10.759679Z",
     "iopub.status.idle": "2023-06-02T08:41:10.769168Z",
     "shell.execute_reply": "2023-06-02T08:41:10.768004Z"
    },
    "executionInfo": {
     "elapsed": 52,
     "status": "ok",
     "timestamp": 1677907062133,
     "user": {
      "displayName": "Anup Subbu",
      "userId": "02201996537246213875"
     },
     "user_tz": -330
    },
    "id": "FnoBKOUdtWLf",
    "outputId": "f93c6a88-482f-4f3b-b2fb-5035de2af37d",
    "papermill": {
     "duration": 0.043749,
     "end_time": "2023-06-02T08:41:10.771511",
     "exception": false,
     "start_time": "2023-06-02T08:41:10.727762",
     "status": "completed"
    },
    "tags": []
   },
   "outputs": [
    {
     "data": {
      "text/plain": [
       "(16.95, 17.61)"
      ]
     },
     "execution_count": 25,
     "metadata": {},
     "output_type": "execute_result"
    }
   ],
   "source": [
    "sachin_contribution = ((sdf['Innings Runs Scored Num'].sum() / (India_df_sachin['Innings Runs Scored Num'].sum())) *100).round(2)\n",
    "kohli_contribution = ((kdf['Innings Runs Scored Num'].sum() / (India_df_kohli['Innings Runs Scored Num'].sum())) *100).round(2)\n",
    "\n",
    "sachin_contribution,kohli_contribution"
   ]
  },
  {
   "cell_type": "code",
   "execution_count": 26,
   "id": "49cbfe2f",
   "metadata": {
    "execution": {
     "iopub.execute_input": "2023-06-02T08:41:10.835557Z",
     "iopub.status.busy": "2023-06-02T08:41:10.835151Z",
     "iopub.status.idle": "2023-06-02T08:41:10.842671Z",
     "shell.execute_reply": "2023-06-02T08:41:10.841407Z"
    },
    "executionInfo": {
     "elapsed": 7,
     "status": "ok",
     "timestamp": 1677913432586,
     "user": {
      "displayName": "Anup Subbu",
      "userId": "02201996537246213875"
     },
     "user_tz": -330
    },
    "id": "rMqQK9_obsH5",
    "outputId": "64ba227c-bb97-42be-ba9f-32a4d828ad62",
    "papermill": {
     "duration": 0.042991,
     "end_time": "2023-06-02T08:41:10.845525",
     "exception": false,
     "start_time": "2023-06-02T08:41:10.802534",
     "status": "completed"
    },
    "tags": []
   },
   "outputs": [
    {
     "name": "stdout",
     "output_type": "stream",
     "text": [
      "Runs per Innings : (43.61, 50.21)\n",
      "SR : (88.21, 93.56)\n",
      "100's :(37.0, 42.0)\n",
      "50's : (57.0, 53.0)\n",
      "Contribution : (16.95, 17.61)\n"
     ]
    }
   ],
   "source": [
    "print(\"Runs per Innings : ({0}, {1})\".format(sachin_rpi,kohli_rpi))\n",
    "print(\"SR : ({0}, {1})\".format(sachin_sr,kohli_sr))\n",
    "print(\"100's :({0}, {1})\".format(sachin_100,kohli_100))\n",
    "print(\"50's : ({0}, {1})\".format(sachin_50,kohli_50))\n",
    "print(\"Contribution : ({0}, {1})\".format(sachin_contribution,kohli_contribution))"
   ]
  },
  {
   "cell_type": "code",
   "execution_count": 27,
   "id": "fa44df3f",
   "metadata": {
    "execution": {
     "iopub.execute_input": "2023-06-02T08:41:10.910723Z",
     "iopub.status.busy": "2023-06-02T08:41:10.909513Z",
     "iopub.status.idle": "2023-06-02T08:41:10.927255Z",
     "shell.execute_reply": "2023-06-02T08:41:10.926041Z"
    },
    "executionInfo": {
     "elapsed": 47,
     "status": "ok",
     "timestamp": 1677907062134,
     "user": {
      "displayName": "Anup Subbu",
      "userId": "02201996537246213875"
     },
     "user_tz": -330
    },
    "id": "48FQa70ttWLg",
    "outputId": "30e4000b-7531-4069-b6e8-6ab20864f385",
    "papermill": {
     "duration": 0.052677,
     "end_time": "2023-06-02T08:41:10.929657",
     "exception": false,
     "start_time": "2023-06-02T08:41:10.876980",
     "status": "completed"
    },
    "tags": []
   },
   "outputs": [
    {
     "data": {
      "text/plain": [
       "Innings Player\n",
       "SR Tendulkar      11818\n",
       "SC Ganguly         9911\n",
       "ST Jayasuriya      9297\n",
       "Inzamam-ul-Haq     8561\n",
       "R Dravid           7751\n",
       "RT Ponting         7422\n",
       "Saeed Anwar        7320\n",
       "JH Kallis          7267\n",
       "MS Atapattu        7253\n",
       "MG Bevan           6912\n",
       "Name: Innings Runs Scored Num, dtype: int64"
      ]
     },
     "execution_count": 27,
     "metadata": {},
     "output_type": "execute_result"
    }
   ],
   "source": [
    "sachin_df.groupby(['Innings Player'])['Innings Runs Scored Num'].sum().sort_values(ascending=False).head(10)"
   ]
  },
  {
   "cell_type": "code",
   "execution_count": 28,
   "id": "c502142f",
   "metadata": {
    "execution": {
     "iopub.execute_input": "2023-06-02T08:41:10.994940Z",
     "iopub.status.busy": "2023-06-02T08:41:10.993864Z",
     "iopub.status.idle": "2023-06-02T08:41:11.367189Z",
     "shell.execute_reply": "2023-06-02T08:41:11.366076Z"
    },
    "executionInfo": {
     "elapsed": 1115,
     "status": "ok",
     "timestamp": 1677907063207,
     "user": {
      "displayName": "Anup Subbu",
      "userId": "02201996537246213875"
     },
     "user_tz": -330
    },
    "id": "wwqnJLTTtWLg",
    "outputId": "425f35dc-4d7c-4ccc-ed9f-84d5e5605a54",
    "papermill": {
     "duration": 0.40875,
     "end_time": "2023-06-02T08:41:11.369670",
     "exception": false,
     "start_time": "2023-06-02T08:41:10.960920",
     "status": "completed"
    },
    "tags": []
   },
   "outputs": [
    {
     "data": {
      "image/png": "[encoded data removed]",
      "text/plain": [
       "<Figure size 640x480 with 1 Axes>"
      ]
     },
     "metadata": {},
     "output_type": "display_data"
    }
   ],
   "source": [
    "sachin_df.groupby(['Innings Player'])['Innings Runs Scored Num'].sum().sort_values(ascending=False).head(10).plot(kind='bar')\n",
    "plt.show()"
   ]
  },
  {
   "cell_type": "code",
   "execution_count": 29,
   "id": "fbf877d5",
   "metadata": {
    "execution": {
     "iopub.execute_input": "2023-06-02T08:41:11.434922Z",
     "iopub.status.busy": "2023-06-02T08:41:11.434509Z",
     "iopub.status.idle": "2023-06-02T08:41:11.448521Z",
     "shell.execute_reply": "2023-06-02T08:41:11.447441Z"
    },
    "executionInfo": {
     "elapsed": 27,
     "status": "ok",
     "timestamp": 1677907063209,
     "user": {
      "displayName": "Anup Subbu",
      "userId": "02201996537246213875"
     },
     "user_tz": -330
    },
    "id": "OVmrubustWLh",
    "outputId": "70d76ce1-2450-4b6a-dcda-c05636f7309a",
    "papermill": {
     "duration": 0.04967,
     "end_time": "2023-06-02T08:41:11.451003",
     "exception": false,
     "start_time": "2023-06-02T08:41:11.401333",
     "status": "completed"
    },
    "tags": []
   },
   "outputs": [
    {
     "data": {
      "text/plain": [
       "Innings Player\n",
       "V Kohli           11247\n",
       "RG Sharma          8083\n",
       "HM Amla            7745\n",
       "TM Dilshan         7296\n",
       "KC Sangakkara      7275\n",
       "AB de Villiers     7247\n",
       "LRPL Taylor        7059\n",
       "MS Dhoni           6838\n",
       "EJG Morgan         6748\n",
       "MJ Guptill         6626\n",
       "Name: Innings Runs Scored Num, dtype: int64"
      ]
     },
     "execution_count": 29,
     "metadata": {},
     "output_type": "execute_result"
    }
   ],
   "source": [
    "kohli_df.groupby(['Innings Player'])['Innings Runs Scored Num'].sum().sort_values(ascending=False).head(10)"
   ]
  },
  {
   "cell_type": "code",
   "execution_count": 30,
   "id": "18a3758d",
   "metadata": {
    "execution": {
     "iopub.execute_input": "2023-06-02T08:41:11.519051Z",
     "iopub.status.busy": "2023-06-02T08:41:11.518630Z",
     "iopub.status.idle": "2023-06-02T08:41:11.800518Z",
     "shell.execute_reply": "2023-06-02T08:41:11.799076Z"
    },
    "executionInfo": {
     "elapsed": 1408,
     "status": "ok",
     "timestamp": 1677913311444,
     "user": {
      "displayName": "Anup Subbu",
      "userId": "02201996537246213875"
     },
     "user_tz": -330
    },
    "id": "A1cIlNkRtWLh",
    "outputId": "33c9a3bc-ae9f-46a3-eb2f-d98d23950684",
    "papermill": {
     "duration": 0.319224,
     "end_time": "2023-06-02T08:41:11.803146",
     "exception": false,
     "start_time": "2023-06-02T08:41:11.483922",
     "status": "completed"
    },
    "tags": []
   },
   "outputs": [
    {
     "data": {
      "image/png": "[encoded data removed]",
      "text/plain": [
       "<Figure size 640x480 with 1 Axes>"
      ]
     },
     "metadata": {},
     "output_type": "display_data"
    }
   ],
   "source": [
    "kohli_df.groupby(['Innings Player'])['Innings Runs Scored Num'].sum().sort_values(ascending=False).head(10).plot(kind='bar')\n",
    "plt.show()"
   ]
  },
  {
   "cell_type": "code",
   "execution_count": 31,
   "id": "1fb383a0",
   "metadata": {
    "execution": {
     "iopub.execute_input": "2023-06-02T08:41:11.869802Z",
     "iopub.status.busy": "2023-06-02T08:41:11.869419Z",
     "iopub.status.idle": "2023-06-02T08:41:12.158983Z",
     "shell.execute_reply": "2023-06-02T08:41:12.158060Z"
    },
    "executionInfo": {
     "elapsed": 20,
     "status": "ok",
     "timestamp": 1677907063211,
     "user": {
      "displayName": "Anup Subbu",
      "userId": "02201996537246213875"
     },
     "user_tz": -330
    },
    "id": "2omw46uYtWLh",
    "outputId": "47eb89a6-30ed-4e4a-b410-7b1f1ccb5b83",
    "papermill": {
     "duration": 0.326103,
     "end_time": "2023-06-02T08:41:12.161537",
     "exception": false,
     "start_time": "2023-06-02T08:41:11.835434",
     "status": "completed"
    },
    "tags": []
   },
   "outputs": [
    {
     "data": {
      "image/png": "[encoded data removed]",
      "text/plain": [
       "<Figure size 640x480 with 1 Axes>"
      ]
     },
     "metadata": {},
     "output_type": "display_data"
    }
   ],
   "source": [
    "sdf.groupby('Year')['Innings Runs Scored Num'].sum().plot(kind='bar')\n",
    "plt.show()"
   ]
  },
  {
   "cell_type": "code",
   "execution_count": 32,
   "id": "f98a79e6",
   "metadata": {
    "execution": {
     "iopub.execute_input": "2023-06-02T08:41:12.229746Z",
     "iopub.status.busy": "2023-06-02T08:41:12.229049Z",
     "iopub.status.idle": "2023-06-02T08:41:12.638326Z",
     "shell.execute_reply": "2023-06-02T08:41:12.637130Z"
    },
    "executionInfo": {
     "elapsed": 871,
     "status": "ok",
     "timestamp": 1677907064064,
     "user": {
      "displayName": "Anup Subbu",
      "userId": "02201996537246213875"
     },
     "user_tz": -330
    },
    "id": "92qOBqU7tWLi",
    "outputId": "45986e55-cac6-49bb-ccfa-7485255000d2",
    "papermill": {
     "duration": 0.445908,
     "end_time": "2023-06-02T08:41:12.641039",
     "exception": false,
     "start_time": "2023-06-02T08:41:12.195131",
     "status": "completed"
    },
    "tags": []
   },
   "outputs": [
    {
     "data": {
      "image/png": "[encoded data removed]",
      "text/plain": [
       "<Figure size 640x480 with 1 Axes>"
      ]
     },
     "metadata": {},
     "output_type": "display_data"
    }
   ],
   "source": [
    "kdf.groupby('Year')['Innings Runs Scored Num'].sum().plot(kind='bar')\n",
    "plt.show()"
   ]
  },
  {
   "cell_type": "code",
   "execution_count": 33,
   "id": "c6c0db59",
   "metadata": {
    "execution": {
     "iopub.execute_input": "2023-06-02T08:41:12.712134Z",
     "iopub.status.busy": "2023-06-02T08:41:12.711721Z",
     "iopub.status.idle": "2023-06-02T08:41:13.062874Z",
     "shell.execute_reply": "2023-06-02T08:41:13.061388Z"
    },
    "executionInfo": {
     "elapsed": 601,
     "status": "ok",
     "timestamp": 1677908629869,
     "user": {
      "displayName": "Anup Subbu",
      "userId": "02201996537246213875"
     },
     "user_tz": -330
    },
    "id": "LmQ0PmrStWLi",
    "outputId": "20923ad4-d5f0-4ddf-ec21-9e76c11cd357",
    "papermill": {
     "duration": 0.390633,
     "end_time": "2023-06-02T08:41:13.065550",
     "exception": false,
     "start_time": "2023-06-02T08:41:12.674917",
     "status": "completed"
    },
    "scrolled": true,
    "tags": []
   },
   "outputs": [
    {
     "data": {
      "image/png": "[encoded data removed]",
      "text/plain": [
       "<Figure size 1150x600 with 1 Axes>"
      ]
     },
     "metadata": {},
     "output_type": "display_data"
    }
   ],
   "source": [
    "y = [0,20,40,60,80,100]\n",
    "y_min = min(y)\n",
    "y_max = max(y)\n",
    "\n",
    "parameters = ['Runs per Innings','Strike Rate',\"No.of 100's\",\"No.of 50's\",'Contribution to team score']\n",
    "sachin_data = [sachin_rpi,sachin_sr,sachin_100,sachin_50,sachin_contribution]\n",
    "kohli_data  = [kohli_rpi,kohli_sr,kohli_100,kohli_50,kohli_contribution]\n",
    "\n",
    "\n",
    "xpos = np.arange(len(parameters))\n",
    "# width = 0.35     \n",
    "\n",
    "fig, ax = plt.subplots(figsize=(11.5,6))\n",
    "rects1 = plt.bar(xpos-0.2,sachin_data,width=0.35,label='Sachin')\n",
    "plt.ylim(y_min,y_max)\n",
    "rects2 = plt.bar(xpos+0.2,kohli_data,width=0.35,label='Kohli')\n",
    "\n",
    "\n",
    "plt.title('Sachin vs Kohli Analysis',fontsize=25,color='green')\n",
    "plt.xticks(xpos,parameters,fontsize=12)\n",
    "\n",
    "plt.legend((rects1[0], rects2[0]), ('Sachin', 'Kohli'))\n",
    "\n",
    "\n",
    "def autolabel(rects):\n",
    "    for rect in rects:\n",
    "        height = rect.get_height()\n",
    "        if((height == sachin_100) or (height == sachin_50) or (height == kohli_100) or (height == kohli_50)):\n",
    "            ax.text(rect.get_x() + rect.get_width()/2., 1.018*height,\n",
    "                    '%d' % int(height),ha='center')\n",
    "       \n",
    "        elif((height == sachin_contribution) or (height == kohli_contribution)) :\n",
    "            ax.text(rect.get_x() + rect.get_width()/2., 1.018*height,\n",
    "                    '%0.2f' % float(height)+'%',ha='center')\n",
    "            \n",
    "        else:\n",
    "            ax.text(rect.get_x() + rect.get_width()/2., 1.018*height,\n",
    "                    '%0.2f' % float(height),ha='center')\n",
    "\n",
    "autolabel(rects1)\n",
    "autolabel(rects2)\n",
    "plt.show()"
   ]
  },
  {
   "cell_type": "markdown",
   "id": "9caee867",
   "metadata": {
    "id": "1UQRfKLwtWLj",
    "papermill": {
     "duration": 0.033625,
     "end_time": "2023-06-02T08:41:13.132899",
     "exception": false,
     "start_time": "2023-06-02T08:41:13.099274",
     "status": "completed"
    },
    "tags": []
   },
   "source": [
    "# Normalization :"
   ]
  },
  {
   "cell_type": "code",
   "execution_count": 34,
   "id": "fb7a7e40",
   "metadata": {
    "execution": {
     "iopub.execute_input": "2023-06-02T08:41:13.202559Z",
     "iopub.status.busy": "2023-06-02T08:41:13.202178Z",
     "iopub.status.idle": "2023-06-02T08:41:13.251124Z",
     "shell.execute_reply": "2023-06-02T08:41:13.249971Z"
    },
    "executionInfo": {
     "elapsed": 1881,
     "status": "ok",
     "timestamp": 1677910704055,
     "user": {
      "displayName": "Anup Subbu",
      "userId": "02201996537246213875"
     },
     "user_tz": -330
    },
    "id": "NADsKf2ZtWLl",
    "outputId": "cecd04e1-046e-4b79-d9db-83558903471d",
    "papermill": {
     "duration": 0.086479,
     "end_time": "2023-06-02T08:41:13.253639",
     "exception": false,
     "start_time": "2023-06-02T08:41:13.167160",
     "status": "completed"
    },
    "tags": []
   },
   "outputs": [
    {
     "data": {
      "text/html": [
       "<div>\n",
       "<style scoped>\n",
       "    .dataframe tbody tr th:only-of-type {\n",
       "        vertical-align: middle;\n",
       "    }\n",
       "\n",
       "    .dataframe tbody tr th {\n",
       "        vertical-align: top;\n",
       "    }\n",
       "\n",
       "    .dataframe thead th {\n",
       "        text-align: right;\n",
       "    }\n",
       "</style>\n",
       "<table border=\"1\" class=\"dataframe\">\n",
       "  <thead>\n",
       "    <tr style=\"text-align: right;\">\n",
       "      <th></th>\n",
       "      <th>Innings Player</th>\n",
       "      <th>Innings Runs Scored</th>\n",
       "      <th>Innings Runs Scored Num</th>\n",
       "      <th>Innings Minutes Batted</th>\n",
       "      <th>Innings Batted Flag</th>\n",
       "      <th>Innings Not Out Flag</th>\n",
       "      <th>Innings Balls Faced</th>\n",
       "      <th>Innings Boundary Fours</th>\n",
       "      <th>Innings Boundary Sixes</th>\n",
       "      <th>Innings Batting Strike Rate</th>\n",
       "      <th>Innings Number</th>\n",
       "      <th>Opposition</th>\n",
       "      <th>Ground</th>\n",
       "      <th>Innings Date</th>\n",
       "      <th>Country</th>\n",
       "      <th>50's</th>\n",
       "      <th>100's</th>\n",
       "      <th>Innings Runs Scored Buckets</th>\n",
       "      <th>Innings Overs Bowled</th>\n",
       "      <th>Innings Bowled Flag</th>\n",
       "      <th>Innings Maidens Bowled</th>\n",
       "      <th>Innings Runs Conceded</th>\n",
       "      <th>Innings Wickets Taken</th>\n",
       "      <th>4 Wickets</th>\n",
       "      <th>5 Wickets</th>\n",
       "      <th>10 Wickets</th>\n",
       "      <th>Innings Wickets Taken Buckets</th>\n",
       "      <th>Innings Economy Rate</th>\n",
       "      <th>Year</th>\n",
       "    </tr>\n",
       "  </thead>\n",
       "  <tbody>\n",
       "    <tr>\n",
       "      <th>0</th>\n",
       "      <td>E Lewis</td>\n",
       "      <td>65</td>\n",
       "      <td>65</td>\n",
       "      <td>128</td>\n",
       "      <td>1</td>\n",
       "      <td>0</td>\n",
       "      <td>80</td>\n",
       "      <td>8</td>\n",
       "      <td>1</td>\n",
       "      <td>81.25</td>\n",
       "      <td>2</td>\n",
       "      <td>v India</td>\n",
       "      <td>Port of Spain</td>\n",
       "      <td>2019-11-08</td>\n",
       "      <td>West Indies</td>\n",
       "      <td>1.0</td>\n",
       "      <td>0.0</td>\n",
       "      <td>50-99</td>\n",
       "      <td>NaN</td>\n",
       "      <td>NaN</td>\n",
       "      <td>NaN</td>\n",
       "      <td>NaN</td>\n",
       "      <td>NaN</td>\n",
       "      <td>NaN</td>\n",
       "      <td>NaN</td>\n",
       "      <td>NaN</td>\n",
       "      <td>NaN</td>\n",
       "      <td>NaN</td>\n",
       "      <td>2019</td>\n",
       "    </tr>\n",
       "    <tr>\n",
       "      <th>1</th>\n",
       "      <td>N Pooran</td>\n",
       "      <td>42</td>\n",
       "      <td>42</td>\n",
       "      <td>69</td>\n",
       "      <td>1</td>\n",
       "      <td>0</td>\n",
       "      <td>52</td>\n",
       "      <td>4</td>\n",
       "      <td>1</td>\n",
       "      <td>80.76</td>\n",
       "      <td>2</td>\n",
       "      <td>v India</td>\n",
       "      <td>Port of Spain</td>\n",
       "      <td>2019-11-08</td>\n",
       "      <td>West Indies</td>\n",
       "      <td>0.0</td>\n",
       "      <td>0.0</td>\n",
       "      <td>0-49</td>\n",
       "      <td>NaN</td>\n",
       "      <td>NaN</td>\n",
       "      <td>NaN</td>\n",
       "      <td>NaN</td>\n",
       "      <td>NaN</td>\n",
       "      <td>NaN</td>\n",
       "      <td>NaN</td>\n",
       "      <td>NaN</td>\n",
       "      <td>NaN</td>\n",
       "      <td>NaN</td>\n",
       "      <td>2019</td>\n",
       "    </tr>\n",
       "    <tr>\n",
       "      <th>2</th>\n",
       "      <td>SO Hetmyer</td>\n",
       "      <td>18</td>\n",
       "      <td>18</td>\n",
       "      <td>31</td>\n",
       "      <td>1</td>\n",
       "      <td>0</td>\n",
       "      <td>20</td>\n",
       "      <td>2</td>\n",
       "      <td>0</td>\n",
       "      <td>90</td>\n",
       "      <td>2</td>\n",
       "      <td>v India</td>\n",
       "      <td>Port of Spain</td>\n",
       "      <td>2019-11-08</td>\n",
       "      <td>West Indies</td>\n",
       "      <td>0.0</td>\n",
       "      <td>0.0</td>\n",
       "      <td>0-49</td>\n",
       "      <td>NaN</td>\n",
       "      <td>NaN</td>\n",
       "      <td>NaN</td>\n",
       "      <td>NaN</td>\n",
       "      <td>NaN</td>\n",
       "      <td>NaN</td>\n",
       "      <td>NaN</td>\n",
       "      <td>NaN</td>\n",
       "      <td>NaN</td>\n",
       "      <td>NaN</td>\n",
       "      <td>2019</td>\n",
       "    </tr>\n",
       "    <tr>\n",
       "      <th>3</th>\n",
       "      <td>RL Chase</td>\n",
       "      <td>18</td>\n",
       "      <td>18</td>\n",
       "      <td>34</td>\n",
       "      <td>1</td>\n",
       "      <td>0</td>\n",
       "      <td>23</td>\n",
       "      <td>0</td>\n",
       "      <td>0</td>\n",
       "      <td>78.26</td>\n",
       "      <td>2</td>\n",
       "      <td>v India</td>\n",
       "      <td>Port of Spain</td>\n",
       "      <td>2019-11-08</td>\n",
       "      <td>West Indies</td>\n",
       "      <td>0.0</td>\n",
       "      <td>0.0</td>\n",
       "      <td>0-49</td>\n",
       "      <td>NaN</td>\n",
       "      <td>NaN</td>\n",
       "      <td>NaN</td>\n",
       "      <td>NaN</td>\n",
       "      <td>NaN</td>\n",
       "      <td>NaN</td>\n",
       "      <td>NaN</td>\n",
       "      <td>NaN</td>\n",
       "      <td>NaN</td>\n",
       "      <td>NaN</td>\n",
       "      <td>2019</td>\n",
       "    </tr>\n",
       "    <tr>\n",
       "      <th>4</th>\n",
       "      <td>SS Cottrell</td>\n",
       "      <td>17</td>\n",
       "      <td>17</td>\n",
       "      <td>23</td>\n",
       "      <td>1</td>\n",
       "      <td>0</td>\n",
       "      <td>18</td>\n",
       "      <td>2</td>\n",
       "      <td>1</td>\n",
       "      <td>94.44</td>\n",
       "      <td>2</td>\n",
       "      <td>v India</td>\n",
       "      <td>Port of Spain</td>\n",
       "      <td>2019-11-08</td>\n",
       "      <td>West Indies</td>\n",
       "      <td>0.0</td>\n",
       "      <td>0.0</td>\n",
       "      <td>0-49</td>\n",
       "      <td>NaN</td>\n",
       "      <td>NaN</td>\n",
       "      <td>NaN</td>\n",
       "      <td>NaN</td>\n",
       "      <td>NaN</td>\n",
       "      <td>NaN</td>\n",
       "      <td>NaN</td>\n",
       "      <td>NaN</td>\n",
       "      <td>NaN</td>\n",
       "      <td>NaN</td>\n",
       "      <td>2019</td>\n",
       "    </tr>\n",
       "  </tbody>\n",
       "</table>\n",
       "</div>"
      ],
      "text/plain": [
       "  Innings Player Innings Runs Scored  Innings Runs Scored Num  \\\n",
       "0        E Lewis                  65                       65   \n",
       "1       N Pooran                  42                       42   \n",
       "2     SO Hetmyer                  18                       18   \n",
       "3       RL Chase                  18                       18   \n",
       "4    SS Cottrell                  17                       17   \n",
       "\n",
       "  Innings Minutes Batted  Innings Batted Flag  Innings Not Out Flag  \\\n",
       "0                    128                    1                     0   \n",
       "1                     69                    1                     0   \n",
       "2                     31                    1                     0   \n",
       "3                     34                    1                     0   \n",
       "4                     23                    1                     0   \n",
       "\n",
       "   Innings Balls Faced Innings Boundary Fours Innings Boundary Sixes  \\\n",
       "0                   80                      8                      1   \n",
       "1                   52                      4                      1   \n",
       "2                   20                      2                      0   \n",
       "3                   23                      0                      0   \n",
       "4                   18                      2                      1   \n",
       "\n",
       "  Innings Batting Strike Rate Innings Number Opposition         Ground  \\\n",
       "0                       81.25              2    v India  Port of Spain   \n",
       "1                       80.76              2    v India  Port of Spain   \n",
       "2                          90              2    v India  Port of Spain   \n",
       "3                       78.26              2    v India  Port of Spain   \n",
       "4                       94.44              2    v India  Port of Spain   \n",
       "\n",
       "  Innings Date      Country  50's  100's Innings Runs Scored Buckets  \\\n",
       "0   2019-11-08  West Indies   1.0    0.0                       50-99   \n",
       "1   2019-11-08  West Indies   0.0    0.0                        0-49   \n",
       "2   2019-11-08  West Indies   0.0    0.0                        0-49   \n",
       "3   2019-11-08  West Indies   0.0    0.0                        0-49   \n",
       "4   2019-11-08  West Indies   0.0    0.0                        0-49   \n",
       "\n",
       "  Innings Overs Bowled  Innings Bowled Flag Innings Maidens Bowled  \\\n",
       "0                  NaN                  NaN                    NaN   \n",
       "1                  NaN                  NaN                    NaN   \n",
       "2                  NaN                  NaN                    NaN   \n",
       "3                  NaN                  NaN                    NaN   \n",
       "4                  NaN                  NaN                    NaN   \n",
       "\n",
       "  Innings Runs Conceded Innings Wickets Taken  4 Wickets  5 Wickets  \\\n",
       "0                   NaN                   NaN        NaN        NaN   \n",
       "1                   NaN                   NaN        NaN        NaN   \n",
       "2                   NaN                   NaN        NaN        NaN   \n",
       "3                   NaN                   NaN        NaN        NaN   \n",
       "4                   NaN                   NaN        NaN        NaN   \n",
       "\n",
       "   10 Wickets Innings Wickets Taken Buckets Innings Economy Rate  Year  \n",
       "0         NaN                           NaN                  NaN  2019  \n",
       "1         NaN                           NaN                  NaN  2019  \n",
       "2         NaN                           NaN                  NaN  2019  \n",
       "3         NaN                           NaN                  NaN  2019  \n",
       "4         NaN                           NaN                  NaN  2019  "
      ]
     },
     "execution_count": 34,
     "metadata": {},
     "output_type": "execute_result"
    }
   ],
   "source": [
    "# Sachin/Kohli avg vs Generation avg\n",
    "\n",
    "non_sachin_df =  sachin_df[sachin_df['Innings Player'] != 'SR Tendulkar']\n",
    "non_sachin_df.head()\n",
    "\n",
    "non_kohli_df = kohli_df[kohli_df['Innings Player'] != 'V Kohli']\n",
    "non_kohli_df.head()"
   ]
  },
  {
   "cell_type": "code",
   "execution_count": 35,
   "id": "e49097ce",
   "metadata": {
    "execution": {
     "iopub.execute_input": "2023-06-02T08:41:13.324936Z",
     "iopub.status.busy": "2023-06-02T08:41:13.324543Z",
     "iopub.status.idle": "2023-06-02T08:41:13.332816Z",
     "shell.execute_reply": "2023-06-02T08:41:13.331708Z"
    },
    "executionInfo": {
     "elapsed": 1938,
     "status": "ok",
     "timestamp": 1677910713228,
     "user": {
      "displayName": "Anup Subbu",
      "userId": "02201996537246213875"
     },
     "user_tz": -330
    },
    "id": "j30QTzMztWLm",
    "outputId": "6107e927-5f2d-4894-d5c9-b3f24c7e5085",
    "papermill": {
     "duration": 0.046494,
     "end_time": "2023-06-02T08:41:13.335247",
     "exception": false,
     "start_time": "2023-06-02T08:41:13.288753",
     "status": "completed"
    },
    "tags": []
   },
   "outputs": [
    {
     "data": {
      "text/plain": [
       "1.9438265361068157"
      ]
     },
     "execution_count": 35,
     "metadata": {},
     "output_type": "execute_result"
    }
   ],
   "source": [
    "# Scoring rate = Sachin's Rpi / Total players Rpi excluding Sachin's\n",
    "\n",
    "Total_players_rpi = (non_sachin_df['Innings Runs Scored Num']).sum()/ (non_sachin_df['Innings Batted Flag']).sum()\n",
    "sachin_scoring_rate = sachin_rpi/Total_players_rpi\n",
    "sachin_scoring_rate"
   ]
  },
  {
   "cell_type": "code",
   "execution_count": 36,
   "id": "e8aa8e68",
   "metadata": {
    "execution": {
     "iopub.execute_input": "2023-06-02T08:41:13.406998Z",
     "iopub.status.busy": "2023-06-02T08:41:13.406597Z",
     "iopub.status.idle": "2023-06-02T08:41:13.415407Z",
     "shell.execute_reply": "2023-06-02T08:41:13.414270Z"
    },
    "executionInfo": {
     "elapsed": 28,
     "status": "ok",
     "timestamp": 1677910715277,
     "user": {
      "displayName": "Anup Subbu",
      "userId": "02201996537246213875"
     },
     "user_tz": -330
    },
    "id": "dwYWXDa-tWLm",
    "outputId": "a6b41679-bdb9-4a20-fc90-f7ee4093e171",
    "papermill": {
     "duration": 0.047498,
     "end_time": "2023-06-02T08:41:13.417930",
     "exception": false,
     "start_time": "2023-06-02T08:41:13.370432",
     "status": "completed"
    },
    "tags": []
   },
   "outputs": [
    {
     "data": {
      "text/plain": [
       "2.029690906630632"
      ]
     },
     "execution_count": 36,
     "metadata": {},
     "output_type": "execute_result"
    }
   ],
   "source": [
    "# Scoring rate = Kohli's Rpi / Total players Rpi excluding Kohli's\n",
    "\n",
    "Total_players_rpi = (non_kohli_df['Innings Runs Scored Num']).sum()/ (non_kohli_df['Innings Batted Flag']).sum()\n",
    "kohli_scoring_rate = kohli_rpi/Total_players_rpi\n",
    "kohli_scoring_rate"
   ]
  },
  {
   "cell_type": "code",
   "execution_count": 37,
   "id": "304089ef",
   "metadata": {
    "execution": {
     "iopub.execute_input": "2023-06-02T08:41:13.491098Z",
     "iopub.status.busy": "2023-06-02T08:41:13.490636Z",
     "iopub.status.idle": "2023-06-02T08:41:13.499558Z",
     "shell.execute_reply": "2023-06-02T08:41:13.498011Z"
    },
    "executionInfo": {
     "elapsed": 26,
     "status": "ok",
     "timestamp": 1677910715277,
     "user": {
      "displayName": "Anup Subbu",
      "userId": "02201996537246213875"
     },
     "user_tz": -330
    },
    "id": "9x14gSO0tWLm",
    "outputId": "f6217cf2-9bd2-4123-fb53-b604ca4679af",
    "papermill": {
     "duration": 0.047709,
     "end_time": "2023-06-02T08:41:13.501914",
     "exception": false,
     "start_time": "2023-06-02T08:41:13.454205",
     "status": "completed"
    },
    "tags": []
   },
   "outputs": [
    {
     "data": {
      "text/plain": [
       "1.2194129092102401"
      ]
     },
     "execution_count": 37,
     "metadata": {},
     "output_type": "execute_result"
    }
   ],
   "source": [
    "#Sachin vs Others SR\n",
    "\n",
    "Total_players_sr = ((non_sachin_df['Innings Runs Scored Num']).sum()/ (non_sachin_df['Innings Balls Faced']).sum())*100\n",
    "sachin_scoring_sr = sachin_sr/Total_players_sr\n",
    "sachin_scoring_sr"
   ]
  },
  {
   "cell_type": "code",
   "execution_count": 38,
   "id": "0aa80af4",
   "metadata": {
    "execution": {
     "iopub.execute_input": "2023-06-02T08:41:13.575728Z",
     "iopub.status.busy": "2023-06-02T08:41:13.575325Z",
     "iopub.status.idle": "2023-06-02T08:41:13.583167Z",
     "shell.execute_reply": "2023-06-02T08:41:13.582331Z"
    },
    "executionInfo": {
     "elapsed": 23,
     "status": "ok",
     "timestamp": 1677910715278,
     "user": {
      "displayName": "Anup Subbu",
      "userId": "02201996537246213875"
     },
     "user_tz": -330
    },
    "id": "PTARckOntWLn",
    "outputId": "93b6dfa1-e555-4617-ecdf-42a28e902fb8",
    "papermill": {
     "duration": 0.04715,
     "end_time": "2023-06-02T08:41:13.585249",
     "exception": false,
     "start_time": "2023-06-02T08:41:13.538099",
     "status": "completed"
    },
    "tags": []
   },
   "outputs": [
    {
     "data": {
      "text/plain": [
       "1.1214536437798552"
      ]
     },
     "execution_count": 38,
     "metadata": {},
     "output_type": "execute_result"
    }
   ],
   "source": [
    "#Kohli vs Others SR\n",
    "\n",
    "Total_players_sr = ((non_kohli_df['Innings Runs Scored Num']).sum()/ (non_kohli_df['Innings Balls Faced']).sum())*100\n",
    "kohli_scoring_sr = kohli_sr/Total_players_sr\n",
    "kohli_scoring_sr"
   ]
  },
  {
   "cell_type": "code",
   "execution_count": 39,
   "id": "0728cb81",
   "metadata": {
    "execution": {
     "iopub.execute_input": "2023-06-02T08:41:13.657690Z",
     "iopub.status.busy": "2023-06-02T08:41:13.657318Z",
     "iopub.status.idle": "2023-06-02T08:41:13.664863Z",
     "shell.execute_reply": "2023-06-02T08:41:13.664108Z"
    },
    "executionInfo": {
     "elapsed": 20,
     "status": "ok",
     "timestamp": 1677910715278,
     "user": {
      "displayName": "Anup Subbu",
      "userId": "02201996537246213875"
     },
     "user_tz": -330
    },
    "id": "KTQZNFyetWLn",
    "outputId": "54d61f11-8863-4d9c-f413-bd3962079bcf",
    "papermill": {
     "duration": 0.047047,
     "end_time": "2023-06-02T08:41:13.667115",
     "exception": false,
     "start_time": "2023-06-02T08:41:13.620068",
     "status": "completed"
    },
    "tags": []
   },
   "outputs": [
    {
     "data": {
      "text/plain": [
       "(7.324324324324325, 5.333333333333333)"
      ]
     },
     "execution_count": 39,
     "metadata": {},
     "output_type": "execute_result"
    }
   ],
   "source": [
    "#No.of matches taken to score 100 for Sachin, Kohli\n",
    "\n",
    "sachin_scoring_100 =(sdf['Innings Batted Flag']).sum()/(sdf[\"100's\"]).sum()\n",
    "kohli_scoring_100 =(kdf['Innings Batted Flag']).sum()/(kdf[\"100's\"]).sum()\n",
    "\n",
    "sachin_scoring_100,kohli_scoring_100"
   ]
  },
  {
   "cell_type": "code",
   "execution_count": 40,
   "id": "0455f5a3",
   "metadata": {
    "execution": {
     "iopub.execute_input": "2023-06-02T08:41:13.739089Z",
     "iopub.status.busy": "2023-06-02T08:41:13.738592Z",
     "iopub.status.idle": "2023-06-02T08:41:13.747063Z",
     "shell.execute_reply": "2023-06-02T08:41:13.746287Z"
    },
    "executionInfo": {
     "elapsed": 18,
     "status": "ok",
     "timestamp": 1677910715279,
     "user": {
      "displayName": "Anup Subbu",
      "userId": "02201996537246213875"
     },
     "user_tz": -330
    },
    "id": "vprayzv_tWLo",
    "outputId": "2964cc53-8ea5-4d10-de87-b1914b75f5c9",
    "papermill": {
     "duration": 0.047741,
     "end_time": "2023-06-02T08:41:13.749970",
     "exception": false,
     "start_time": "2023-06-02T08:41:13.702229",
     "status": "completed"
    },
    "tags": []
   },
   "outputs": [
    {
     "data": {
      "text/plain": [
       "0.15459346107595562"
      ]
     },
     "execution_count": 40,
     "metadata": {},
     "output_type": "execute_result"
    }
   ],
   "source": [
    "#Sachin Scoring 100 vs others\n",
    "\n",
    "sachin_scoring_100 =(sdf['Innings Batted Flag']).sum()/(sdf[\"100's\"]).sum()\n",
    "non_sachin_scoring_100 =(non_sachin_df['Innings Batted Flag']).sum()/(non_sachin_df[\"100's\"]).sum()\n",
    "\n",
    "sachin_scoring_100_rate = sachin_scoring_100/non_sachin_scoring_100\n",
    "sachin_scoring_100_rate"
   ]
  },
  {
   "cell_type": "code",
   "execution_count": 41,
   "id": "6f3c2174",
   "metadata": {
    "execution": {
     "iopub.execute_input": "2023-06-02T08:41:13.821992Z",
     "iopub.status.busy": "2023-06-02T08:41:13.821534Z",
     "iopub.status.idle": "2023-06-02T08:41:13.829968Z",
     "shell.execute_reply": "2023-06-02T08:41:13.828848Z"
    },
    "executionInfo": {
     "elapsed": 14,
     "status": "ok",
     "timestamp": 1677910715279,
     "user": {
      "displayName": "Anup Subbu",
      "userId": "02201996537246213875"
     },
     "user_tz": -330
    },
    "id": "gPH-vTfOtWLo",
    "outputId": "97adac1d-dae2-44b9-cce6-d86b38b57655",
    "papermill": {
     "duration": 0.047002,
     "end_time": "2023-06-02T08:41:13.832089",
     "exception": false,
     "start_time": "2023-06-02T08:41:13.785087",
     "status": "completed"
    },
    "tags": []
   },
   "outputs": [
    {
     "data": {
      "text/plain": [
       "0.18195157740278795"
      ]
     },
     "execution_count": 41,
     "metadata": {},
     "output_type": "execute_result"
    }
   ],
   "source": [
    "#Kohli Scoring 100 vs others\n",
    "\n",
    "kohli_scoring_100 =(kdf['Innings Batted Flag']).sum()/(kdf[\"100's\"]).sum()\n",
    "non_kohli_scoring_100 =(non_kohli_df['Innings Batted Flag']).sum()/(non_kohli_df[\"100's\"]).sum()\n",
    "\n",
    "kohli_scoring_100_rate = kohli_scoring_100/non_kohli_scoring_100\n",
    "kohli_scoring_100_rate"
   ]
  },
  {
   "cell_type": "code",
   "execution_count": 42,
   "id": "c4b13e91",
   "metadata": {
    "execution": {
     "iopub.execute_input": "2023-06-02T08:41:13.905327Z",
     "iopub.status.busy": "2023-06-02T08:41:13.904922Z",
     "iopub.status.idle": "2023-06-02T08:41:13.913212Z",
     "shell.execute_reply": "2023-06-02T08:41:13.912249Z"
    },
    "executionInfo": {
     "elapsed": 11,
     "status": "ok",
     "timestamp": 1677910715279,
     "user": {
      "displayName": "Anup Subbu",
      "userId": "02201996537246213875"
     },
     "user_tz": -330
    },
    "id": "xd8RkzjDtWLo",
    "outputId": "ff853f6b-ebcc-4427-89ec-7fef87a1ab57",
    "papermill": {
     "duration": 0.048055,
     "end_time": "2023-06-02T08:41:13.915581",
     "exception": false,
     "start_time": "2023-06-02T08:41:13.867526",
     "status": "completed"
    },
    "tags": []
   },
   "outputs": [
    {
     "data": {
      "text/plain": [
       "(4.754385964912281, 4.226415094339623)"
      ]
     },
     "execution_count": 42,
     "metadata": {},
     "output_type": "execute_result"
    }
   ],
   "source": [
    "#No.of matches taken to score 50 for Sachin, Kohli\n",
    "\n",
    "sachin_scoring_50 =(sdf['Innings Batted Flag']).sum()/(sdf[\"50's\"]).sum()\n",
    "kohli_scoring_50 =(kdf['Innings Batted Flag']).sum()/(kdf[\"50's\"]).sum()\n",
    "\n",
    "sachin_scoring_50,kohli_scoring_50"
   ]
  },
  {
   "cell_type": "code",
   "execution_count": 43,
   "id": "109f0db1",
   "metadata": {
    "execution": {
     "iopub.execute_input": "2023-06-02T08:41:13.989137Z",
     "iopub.status.busy": "2023-06-02T08:41:13.988713Z",
     "iopub.status.idle": "2023-06-02T08:41:13.998100Z",
     "shell.execute_reply": "2023-06-02T08:41:13.997019Z"
    },
    "executionInfo": {
     "elapsed": 9,
     "status": "ok",
     "timestamp": 1677910715280,
     "user": {
      "displayName": "Anup Subbu",
      "userId": "02201996537246213875"
     },
     "user_tz": -330
    },
    "id": "HjZgO8C3tWLp",
    "outputId": "835c3576-d0ff-421e-d20a-f58fbcb14794",
    "papermill": {
     "duration": 0.048954,
     "end_time": "2023-06-02T08:41:14.000457",
     "exception": false,
     "start_time": "2023-06-02T08:41:13.951503",
     "status": "completed"
    },
    "tags": []
   },
   "outputs": [
    {
     "data": {
      "text/plain": [
       "0.5702402203539483"
      ]
     },
     "execution_count": 43,
     "metadata": {},
     "output_type": "execute_result"
    }
   ],
   "source": [
    "#Sachin Scoring 50 vs others\n",
    "\n",
    "sachin_scoring_50 =(sdf['Innings Batted Flag']).sum()/(sdf[\"50's\"]).sum()\n",
    "non_sachin_scoring_50 =(non_sachin_df['Innings Batted Flag']).sum()/(non_sachin_df[\"50's\"]).sum()\n",
    "\n",
    "sachin_scoring_50_rate = sachin_scoring_50/non_sachin_scoring_50\n",
    "sachin_scoring_50_rate"
   ]
  },
  {
   "cell_type": "code",
   "execution_count": 44,
   "id": "dc8f1f38",
   "metadata": {
    "execution": {
     "iopub.execute_input": "2023-06-02T08:41:14.073323Z",
     "iopub.status.busy": "2023-06-02T08:41:14.072670Z",
     "iopub.status.idle": "2023-06-02T08:41:14.081507Z",
     "shell.execute_reply": "2023-06-02T08:41:14.080534Z"
    },
    "executionInfo": {
     "elapsed": 13,
     "status": "ok",
     "timestamp": 1677910716593,
     "user": {
      "displayName": "Anup Subbu",
      "userId": "02201996537246213875"
     },
     "user_tz": -330
    },
    "id": "jTMw7xw2tWLq",
    "outputId": "8b973875-2235-453c-9c79-dfc5b43e51b3",
    "papermill": {
     "duration": 0.04754,
     "end_time": "2023-06-02T08:41:14.083702",
     "exception": false,
     "start_time": "2023-06-02T08:41:14.036162",
     "status": "completed"
    },
    "tags": []
   },
   "outputs": [
    {
     "data": {
      "text/plain": [
       "0.5507828181453231"
      ]
     },
     "execution_count": 44,
     "metadata": {},
     "output_type": "execute_result"
    }
   ],
   "source": [
    "#Kohli Scoring 50 vs others\n",
    "\n",
    "kohli_scoring_50 =(kdf['Innings Batted Flag']).sum()/(kdf[\"50's\"]).sum()\n",
    "non_kohli_scoring_50 =(non_kohli_df['Innings Batted Flag']).sum()/(non_kohli_df[\"50's\"]).sum()\n",
    "\n",
    "kohli_scoring_50_rate = kohli_scoring_50/non_kohli_scoring_50\n",
    "kohli_scoring_50_rate"
   ]
  },
  {
   "cell_type": "code",
   "execution_count": 45,
   "id": "0edbf530",
   "metadata": {
    "execution": {
     "iopub.execute_input": "2023-06-02T08:41:14.159232Z",
     "iopub.status.busy": "2023-06-02T08:41:14.158842Z",
     "iopub.status.idle": "2023-06-02T08:41:14.168120Z",
     "shell.execute_reply": "2023-06-02T08:41:14.166972Z"
    },
    "executionInfo": {
     "elapsed": 12,
     "status": "ok",
     "timestamp": 1677910716594,
     "user": {
      "displayName": "Anup Subbu",
      "userId": "02201996537246213875"
     },
     "user_tz": -330
    },
    "id": "yALPSW5AtWLr",
    "outputId": "f63ca3ad-7f56-4004-e879-6893ddc1b9b1",
    "papermill": {
     "duration": 0.04994,
     "end_time": "2023-06-02T08:41:14.170444",
     "exception": false,
     "start_time": "2023-06-02T08:41:14.120504",
     "status": "completed"
    },
    "tags": []
   },
   "outputs": [
    {
     "data": {
      "text/plain": [
       "(16.951875493078962, 17.610033350556627)"
      ]
     },
     "execution_count": 45,
     "metadata": {},
     "output_type": "execute_result"
    }
   ],
   "source": [
    "sachin_contribution = (sdf['Innings Runs Scored Num'].sum() / (India_df_sachin['Innings Runs Scored Num'].sum())) *100\n",
    "kohli_contribution = (kdf['Innings Runs Scored Num'].sum() / (India_df_kohli['Innings Runs Scored Num'].sum())) *100\n",
    "\n",
    "sachin_contribution,kohli_contribution"
   ]
  },
  {
   "cell_type": "code",
   "execution_count": 46,
   "id": "2ab241e1",
   "metadata": {
    "execution": {
     "iopub.execute_input": "2023-06-02T08:41:14.245533Z",
     "iopub.status.busy": "2023-06-02T08:41:14.244888Z",
     "iopub.status.idle": "2023-06-02T08:41:14.255014Z",
     "shell.execute_reply": "2023-06-02T08:41:14.253854Z"
    },
    "executionInfo": {
     "elapsed": 507,
     "status": "ok",
     "timestamp": 1677912780140,
     "user": {
      "displayName": "Anup Subbu",
      "userId": "02201996537246213875"
     },
     "user_tz": -330
    },
    "id": "doVhuyApRQYl",
    "outputId": "5c7bbb92-b7ac-4500-8b71-0013752ce9e7",
    "papermill": {
     "duration": 0.051447,
     "end_time": "2023-06-02T08:41:14.257746",
     "exception": false,
     "start_time": "2023-06-02T08:41:14.206299",
     "status": "completed"
    },
    "tags": []
   },
   "outputs": [
    {
     "name": "stdout",
     "output_type": "stream",
     "text": [
      "Scoring Runs : (1.94, 2.03)\n",
      "Scoring SR : (1.22, 1.12)\n",
      "No.of innings taken to score 100 : (7.32, 5.33)\n",
      "No.of innings taken to score 50 : (4.75, 4.23)\n",
      "Scoring 100 rate vs others : (0.15, 0.18)\n",
      "Scoring 50 rate vs others : (0.57, 0.55)\n",
      "Contribution to team's score : (16.95, 17.61)\n"
     ]
    }
   ],
   "source": [
    "print(\"Scoring Runs : ({0}, {1})\".format(sachin_scoring_rate.round(2),kohli_scoring_rate.round(2)))\n",
    "print(\"Scoring SR : ({0}, {1})\".format(sachin_scoring_sr.round(2),kohli_scoring_sr.round(2)))\n",
    "print(\"No.of innings taken to score 100 : ({0}, {1})\".format(sachin_scoring_100.round(2),kohli_scoring_100.round(2)))\n",
    "print(\"No.of innings taken to score 50 : ({0}, {1})\".format(sachin_scoring_50.round(2),kohli_scoring_50.round(2)))\n",
    "print(\"Scoring 100 rate vs others : ({0}, {1})\".format(sachin_scoring_100_rate.round(2),kohli_scoring_100_rate.round(2)))\n",
    "print(\"Scoring 50 rate vs others : ({0}, {1})\".format(sachin_scoring_50_rate.round(2),kohli_scoring_50_rate.round(2)))\n",
    "print(\"Contribution to team's score : ({0}, {1})\".format(sachin_contribution.round(2),kohli_contribution.round(2)))"
   ]
  },
  {
   "cell_type": "markdown",
   "id": "5cafcd82",
   "metadata": {
    "id": "SbOp1ppS5Nhm",
    "papermill": {
     "duration": 0.03619,
     "end_time": "2023-06-02T08:41:14.330973",
     "exception": false,
     "start_time": "2023-06-02T08:41:14.294783",
     "status": "completed"
    },
    "tags": []
   },
   "source": [
    "# *Rohit vs Kohli* "
   ]
  },
  {
   "cell_type": "code",
   "execution_count": 47,
   "id": "bca53f3b",
   "metadata": {
    "execution": {
     "iopub.execute_input": "2023-06-02T08:41:14.405138Z",
     "iopub.status.busy": "2023-06-02T08:41:14.404723Z",
     "iopub.status.idle": "2023-06-02T08:41:14.426155Z",
     "shell.execute_reply": "2023-06-02T08:41:14.424832Z"
    },
    "executionInfo": {
     "elapsed": 95,
     "status": "ok",
     "timestamp": 1677907064742,
     "user": {
      "displayName": "Anup Subbu",
      "userId": "02201996537246213875"
     },
     "user_tz": -330
    },
    "id": "ZWJlTrpa5Jb0",
    "outputId": "1883f9b8-effa-492c-8d17-c44c0a900f67",
    "papermill": {
     "duration": 0.061014,
     "end_time": "2023-06-02T08:41:14.428749",
     "exception": false,
     "start_time": "2023-06-02T08:41:14.367735",
     "status": "completed"
    },
    "tags": []
   },
   "outputs": [
    {
     "data": {
      "text/plain": [
       "141"
      ]
     },
     "execution_count": 47,
     "metadata": {},
     "output_type": "execute_result"
    }
   ],
   "source": [
    "kohli_df_since_2013 = df[df['Innings Player'] == 'V Kohli']\n",
    "kohli_df_since_2013 = kohli_df_since_2013[kohli_df_since_2013.Year >= 2013]\n",
    "len(kohli_df_since_2013)"
   ]
  },
  {
   "cell_type": "code",
   "execution_count": 48,
   "id": "b5be87ba",
   "metadata": {
    "execution": {
     "iopub.execute_input": "2023-06-02T08:41:14.504248Z",
     "iopub.status.busy": "2023-06-02T08:41:14.503831Z",
     "iopub.status.idle": "2023-06-02T08:41:14.525179Z",
     "shell.execute_reply": "2023-06-02T08:41:14.524123Z"
    },
    "executionInfo": {
     "elapsed": 92,
     "status": "ok",
     "timestamp": 1677907064743,
     "user": {
      "displayName": "Anup Subbu",
      "userId": "02201996537246213875"
     },
     "user_tz": -330
    },
    "id": "M6BU-CzK-CUD",
    "outputId": "ac1a0505-e39b-4bbc-a04b-2c44edf1389f",
    "papermill": {
     "duration": 0.06137,
     "end_time": "2023-06-02T08:41:14.527250",
     "exception": false,
     "start_time": "2023-06-02T08:41:14.465880",
     "status": "completed"
    },
    "tags": []
   },
   "outputs": [
    {
     "data": {
      "text/plain": [
       "129"
      ]
     },
     "execution_count": 48,
     "metadata": {},
     "output_type": "execute_result"
    }
   ],
   "source": [
    "rohit_df_since_2013 = df[df['Innings Player'] == 'RG Sharma']\n",
    "rohit_df_since_2013 = rohit_df_since_2013[rohit_df_since_2013.Year >= 2013]\n",
    "len(rohit_df_since_2013)"
   ]
  },
  {
   "cell_type": "code",
   "execution_count": 49,
   "id": "df9ae8a5",
   "metadata": {
    "execution": {
     "iopub.execute_input": "2023-06-02T08:41:14.604086Z",
     "iopub.status.busy": "2023-06-02T08:41:14.603694Z",
     "iopub.status.idle": "2023-06-02T08:41:14.610369Z",
     "shell.execute_reply": "2023-06-02T08:41:14.609495Z"
    },
    "executionInfo": {
     "elapsed": 88,
     "status": "ok",
     "timestamp": 1677907064744,
     "user": {
      "displayName": "Anup Subbu",
      "userId": "02201996537246213875"
     },
     "user_tz": -330
    },
    "id": "nPsH79VnCJXU",
    "outputId": "4e02b60b-a7e4-4d18-9cd8-def0c78a0ca8",
    "papermill": {
     "duration": 0.046824,
     "end_time": "2023-06-02T08:41:14.612990",
     "exception": false,
     "start_time": "2023-06-02T08:41:14.566166",
     "status": "completed"
    },
    "tags": []
   },
   "outputs": [
    {
     "data": {
      "text/plain": [
       "6698"
      ]
     },
     "execution_count": 49,
     "metadata": {},
     "output_type": "execute_result"
    }
   ],
   "source": [
    "rohit_df_since_2013['Innings Runs Scored Num'].sum()"
   ]
  },
  {
   "cell_type": "code",
   "execution_count": 50,
   "id": "eff16aa2",
   "metadata": {
    "execution": {
     "iopub.execute_input": "2023-06-02T08:41:14.687841Z",
     "iopub.status.busy": "2023-06-02T08:41:14.687441Z",
     "iopub.status.idle": "2023-06-02T08:41:14.695526Z",
     "shell.execute_reply": "2023-06-02T08:41:14.694059Z"
    },
    "executionInfo": {
     "elapsed": 85,
     "status": "ok",
     "timestamp": 1677907064745,
     "user": {
      "displayName": "Anup Subbu",
      "userId": "02201996537246213875"
     },
     "user_tz": -330
    },
    "id": "0KVWxWqUPcUP",
    "outputId": "39275ed5-7118-49b7-dc89-8964795c3494",
    "papermill": {
     "duration": 0.048663,
     "end_time": "2023-06-02T08:41:14.698128",
     "exception": false,
     "start_time": "2023-06-02T08:41:14.649465",
     "status": "completed"
    },
    "tags": []
   },
   "outputs": [
    {
     "data": {
      "text/plain": [
       "7520"
      ]
     },
     "execution_count": 50,
     "metadata": {},
     "output_type": "execute_result"
    }
   ],
   "source": [
    "kohli_df_since_2013['Innings Runs Scored Num'].sum()"
   ]
  },
  {
   "cell_type": "code",
   "execution_count": 51,
   "id": "ed9beb4c",
   "metadata": {
    "execution": {
     "iopub.execute_input": "2023-06-02T08:41:14.775738Z",
     "iopub.status.busy": "2023-06-02T08:41:14.775330Z",
     "iopub.status.idle": "2023-06-02T08:41:14.780232Z",
     "shell.execute_reply": "2023-06-02T08:41:14.778832Z"
    },
    "executionInfo": {
     "elapsed": 81,
     "status": "ok",
     "timestamp": 1677907064747,
     "user": {
      "displayName": "Anup Subbu",
      "userId": "02201996537246213875"
     },
     "user_tz": -330
    },
    "id": "zp6iTRjHPleU",
    "papermill": {
     "duration": 0.04632,
     "end_time": "2023-06-02T08:41:14.782565",
     "exception": false,
     "start_time": "2023-06-02T08:41:14.736245",
     "status": "completed"
    },
    "tags": []
   },
   "outputs": [],
   "source": [
    "# Runs per Innings  --> Total Runs / Total Innings Played\n",
    "# SR                --> (Total Runs/ TotalBalls) *100\n",
    "# 100's\n",
    "# 50's\n",
    "# Team Contribution --> (Runs score by the player / Runs score by the team) * 100 "
   ]
  },
  {
   "cell_type": "code",
   "execution_count": 52,
   "id": "1c12250f",
   "metadata": {
    "execution": {
     "iopub.execute_input": "2023-06-02T08:41:14.858262Z",
     "iopub.status.busy": "2023-06-02T08:41:14.857586Z",
     "iopub.status.idle": "2023-06-02T08:41:14.867258Z",
     "shell.execute_reply": "2023-06-02T08:41:14.866007Z"
    },
    "executionInfo": {
     "elapsed": 81,
     "status": "ok",
     "timestamp": 1677907064748,
     "user": {
      "displayName": "Anup Subbu",
      "userId": "02201996537246213875"
     },
     "user_tz": -330
    },
    "id": "rC3FbxvQReSa",
    "outputId": "d5546d4e-ebd3-4821-c4f5-1f67e6c671a2",
    "papermill": {
     "duration": 0.050326,
     "end_time": "2023-06-02T08:41:14.869853",
     "exception": false,
     "start_time": "2023-06-02T08:41:14.819527",
     "status": "completed"
    },
    "tags": []
   },
   "outputs": [
    {
     "data": {
      "text/plain": [
       "(53.33, 51.92)"
      ]
     },
     "execution_count": 52,
     "metadata": {},
     "output_type": "execute_result"
    }
   ],
   "source": [
    "#RPI\n",
    "\n",
    "kohli_rpi_since_2013 = (kohli_df_since_2013['Innings Runs Scored Num'].sum()/ kohli_df_since_2013['Innings Batted Flag'].sum()).round(2)\n",
    "rohit_rpi_since_2013 = (rohit_df_since_2013['Innings Runs Scored Num'].sum()/ rohit_df_since_2013['Innings Batted Flag'].sum()).round(2)\n",
    "\n",
    "kohli_rpi_since_2013,rohit_rpi_since_2013"
   ]
  },
  {
   "cell_type": "code",
   "execution_count": 53,
   "id": "7a5108eb",
   "metadata": {
    "execution": {
     "iopub.execute_input": "2023-06-02T08:41:14.946314Z",
     "iopub.status.busy": "2023-06-02T08:41:14.945898Z",
     "iopub.status.idle": "2023-06-02T08:41:14.954499Z",
     "shell.execute_reply": "2023-06-02T08:41:14.953393Z"
    },
    "executionInfo": {
     "elapsed": 78,
     "status": "ok",
     "timestamp": 1677907064749,
     "user": {
      "displayName": "Anup Subbu",
      "userId": "02201996537246213875"
     },
     "user_tz": -330
    },
    "id": "nCrjN2ojR1YU",
    "outputId": "c51e8beb-aba2-4643-f96e-ed31af507504",
    "papermill": {
     "duration": 0.049611,
     "end_time": "2023-06-02T08:41:14.956891",
     "exception": false,
     "start_time": "2023-06-02T08:41:14.907280",
     "status": "completed"
    },
    "tags": []
   },
   "outputs": [
    {
     "data": {
      "text/plain": [
       "(96.92, 92.23)"
      ]
     },
     "execution_count": 53,
     "metadata": {},
     "output_type": "execute_result"
    }
   ],
   "source": [
    "#SR\n",
    "\n",
    "kohli_sr_since_2013 = (kohli_df_since_2013['Innings Runs Scored Num'].sum()/ kohli_df_since_2013['Innings Balls Faced'].sum()* 100).round(2)\n",
    "rohit_sr_since_2013 = (rohit_df_since_2013['Innings Runs Scored Num'].sum()/ rohit_df_since_2013['Innings Balls Faced'].sum()* 100).round(2)\n",
    "\n",
    "kohli_sr_since_2013,rohit_sr_since_2013"
   ]
  },
  {
   "cell_type": "code",
   "execution_count": 54,
   "id": "38f74328",
   "metadata": {
    "execution": {
     "iopub.execute_input": "2023-06-02T08:41:15.032549Z",
     "iopub.status.busy": "2023-06-02T08:41:15.032140Z",
     "iopub.status.idle": "2023-06-02T08:41:15.039135Z",
     "shell.execute_reply": "2023-06-02T08:41:15.038291Z"
    },
    "executionInfo": {
     "elapsed": 75,
     "status": "ok",
     "timestamp": 1677907064750,
     "user": {
      "displayName": "Anup Subbu",
      "userId": "02201996537246213875"
     },
     "user_tz": -330
    },
    "id": "w7kNugd7SayH",
    "outputId": "d58fdf30-9b22-4728-fbb5-671985c5c4a6",
    "papermill": {
     "duration": 0.047494,
     "end_time": "2023-06-02T08:41:15.041174",
     "exception": false,
     "start_time": "2023-06-02T08:41:14.993680",
     "status": "completed"
    },
    "tags": []
   },
   "outputs": [
    {
     "data": {
      "text/plain": [
       "(29.0, 25.0)"
      ]
     },
     "execution_count": 54,
     "metadata": {},
     "output_type": "execute_result"
    }
   ],
   "source": [
    "#100's\n",
    "\n",
    "kohli_100_since_2013 = kohli_df_since_2013[\"100's\"].sum()\n",
    "rohit_100_since_2013 = rohit_df_since_2013[\"100's\"].sum()\n",
    "\n",
    "kohli_100_since_2013,rohit_100_since_2013"
   ]
  },
  {
   "cell_type": "code",
   "execution_count": 55,
   "id": "76a11313",
   "metadata": {
    "execution": {
     "iopub.execute_input": "2023-06-02T08:41:15.116711Z",
     "iopub.status.busy": "2023-06-02T08:41:15.116300Z",
     "iopub.status.idle": "2023-06-02T08:41:15.124291Z",
     "shell.execute_reply": "2023-06-02T08:41:15.123160Z"
    },
    "executionInfo": {
     "elapsed": 71,
     "status": "ok",
     "timestamp": 1677907064751,
     "user": {
      "displayName": "Anup Subbu",
      "userId": "02201996537246213875"
     },
     "user_tz": -330
    },
    "id": "D0HFJct6ULMI",
    "outputId": "bc2f19da-0bb7-4298-8f55-2fe05ac68a56",
    "papermill": {
     "duration": 0.049047,
     "end_time": "2023-06-02T08:41:15.126734",
     "exception": false,
     "start_time": "2023-06-02T08:41:15.077687",
     "status": "completed"
    },
    "tags": []
   },
   "outputs": [
    {
     "data": {
      "text/plain": [
       "(33.0, 30.0)"
      ]
     },
     "execution_count": 55,
     "metadata": {},
     "output_type": "execute_result"
    }
   ],
   "source": [
    "  #50's\n",
    "\n",
    "kohli_50_since_2013 = kohli_df_since_2013[\"50's\"].sum()\n",
    "rohit_50_since_2013 = rohit_df_since_2013[\"50's\"].sum()\n",
    "\n",
    "kohli_50_since_2013,rohit_50_since_2013"
   ]
  },
  {
   "cell_type": "code",
   "execution_count": 56,
   "id": "9ea451dc",
   "metadata": {
    "execution": {
     "iopub.execute_input": "2023-06-02T08:41:15.203355Z",
     "iopub.status.busy": "2023-06-02T08:41:15.202971Z",
     "iopub.status.idle": "2023-06-02T08:41:15.245937Z",
     "shell.execute_reply": "2023-06-02T08:41:15.244811Z"
    },
    "executionInfo": {
     "elapsed": 68,
     "status": "ok",
     "timestamp": 1677907064752,
     "user": {
      "displayName": "Anup Subbu",
      "userId": "02201996537246213875"
     },
     "user_tz": -330
    },
    "id": "-0xeFaWGVLYi",
    "outputId": "8afb6e32-1c4a-4eaf-f4da-9a60d8c2babe",
    "papermill": {
     "duration": 0.084764,
     "end_time": "2023-06-02T08:41:15.248532",
     "exception": false,
     "start_time": "2023-06-02T08:41:15.163768",
     "status": "completed"
    },
    "tags": []
   },
   "outputs": [
    {
     "data": {
      "text/html": [
       "<div>\n",
       "<style scoped>\n",
       "    .dataframe tbody tr th:only-of-type {\n",
       "        vertical-align: middle;\n",
       "    }\n",
       "\n",
       "    .dataframe tbody tr th {\n",
       "        vertical-align: top;\n",
       "    }\n",
       "\n",
       "    .dataframe thead th {\n",
       "        text-align: right;\n",
       "    }\n",
       "</style>\n",
       "<table border=\"1\" class=\"dataframe\">\n",
       "  <thead>\n",
       "    <tr style=\"text-align: right;\">\n",
       "      <th></th>\n",
       "      <th>Innings Player</th>\n",
       "      <th>Innings Runs Scored</th>\n",
       "      <th>Innings Runs Scored Num</th>\n",
       "      <th>Innings Minutes Batted</th>\n",
       "      <th>Innings Batted Flag</th>\n",
       "      <th>Innings Not Out Flag</th>\n",
       "      <th>Innings Balls Faced</th>\n",
       "      <th>Innings Boundary Fours</th>\n",
       "      <th>Innings Boundary Sixes</th>\n",
       "      <th>Innings Batting Strike Rate</th>\n",
       "      <th>Innings Number</th>\n",
       "      <th>Opposition</th>\n",
       "      <th>Ground</th>\n",
       "      <th>Innings Date</th>\n",
       "      <th>Country</th>\n",
       "      <th>50's</th>\n",
       "      <th>100's</th>\n",
       "      <th>Innings Runs Scored Buckets</th>\n",
       "      <th>Innings Overs Bowled</th>\n",
       "      <th>Innings Bowled Flag</th>\n",
       "      <th>Innings Maidens Bowled</th>\n",
       "      <th>Innings Runs Conceded</th>\n",
       "      <th>Innings Wickets Taken</th>\n",
       "      <th>4 Wickets</th>\n",
       "      <th>5 Wickets</th>\n",
       "      <th>10 Wickets</th>\n",
       "      <th>Innings Wickets Taken Buckets</th>\n",
       "      <th>Innings Economy Rate</th>\n",
       "      <th>Year</th>\n",
       "    </tr>\n",
       "  </thead>\n",
       "  <tbody>\n",
       "    <tr>\n",
       "      <th>11</th>\n",
       "      <td>V Kohli</td>\n",
       "      <td>120</td>\n",
       "      <td>120</td>\n",
       "      <td>179</td>\n",
       "      <td>1</td>\n",
       "      <td>0</td>\n",
       "      <td>125</td>\n",
       "      <td>14</td>\n",
       "      <td>1</td>\n",
       "      <td>96</td>\n",
       "      <td>1</td>\n",
       "      <td>v West Indies</td>\n",
       "      <td>Port of Spain</td>\n",
       "      <td>2019-11-08</td>\n",
       "      <td>India</td>\n",
       "      <td>0.0</td>\n",
       "      <td>1.0</td>\n",
       "      <td>100-149</td>\n",
       "      <td>NaN</td>\n",
       "      <td>NaN</td>\n",
       "      <td>NaN</td>\n",
       "      <td>NaN</td>\n",
       "      <td>NaN</td>\n",
       "      <td>NaN</td>\n",
       "      <td>NaN</td>\n",
       "      <td>NaN</td>\n",
       "      <td>NaN</td>\n",
       "      <td>NaN</td>\n",
       "      <td>2019</td>\n",
       "    </tr>\n",
       "    <tr>\n",
       "      <th>12</th>\n",
       "      <td>SS Iyer</td>\n",
       "      <td>71</td>\n",
       "      <td>71</td>\n",
       "      <td>101</td>\n",
       "      <td>1</td>\n",
       "      <td>0</td>\n",
       "      <td>68</td>\n",
       "      <td>5</td>\n",
       "      <td>1</td>\n",
       "      <td>104.41</td>\n",
       "      <td>1</td>\n",
       "      <td>v West Indies</td>\n",
       "      <td>Port of Spain</td>\n",
       "      <td>2019-11-08</td>\n",
       "      <td>India</td>\n",
       "      <td>1.0</td>\n",
       "      <td>0.0</td>\n",
       "      <td>50-99</td>\n",
       "      <td>NaN</td>\n",
       "      <td>NaN</td>\n",
       "      <td>NaN</td>\n",
       "      <td>NaN</td>\n",
       "      <td>NaN</td>\n",
       "      <td>NaN</td>\n",
       "      <td>NaN</td>\n",
       "      <td>NaN</td>\n",
       "      <td>NaN</td>\n",
       "      <td>NaN</td>\n",
       "      <td>2019</td>\n",
       "    </tr>\n",
       "  </tbody>\n",
       "</table>\n",
       "</div>"
      ],
      "text/plain": [
       "   Innings Player Innings Runs Scored  Innings Runs Scored Num  \\\n",
       "11        V Kohli                 120                      120   \n",
       "12        SS Iyer                  71                       71   \n",
       "\n",
       "   Innings Minutes Batted  Innings Batted Flag  Innings Not Out Flag  \\\n",
       "11                    179                    1                     0   \n",
       "12                    101                    1                     0   \n",
       "\n",
       "    Innings Balls Faced Innings Boundary Fours Innings Boundary Sixes  \\\n",
       "11                  125                     14                      1   \n",
       "12                   68                      5                      1   \n",
       "\n",
       "   Innings Batting Strike Rate Innings Number     Opposition         Ground  \\\n",
       "11                          96              1  v West Indies  Port of Spain   \n",
       "12                      104.41              1  v West Indies  Port of Spain   \n",
       "\n",
       "   Innings Date Country  50's  100's Innings Runs Scored Buckets  \\\n",
       "11   2019-11-08   India   0.0    1.0                     100-149   \n",
       "12   2019-11-08   India   1.0    0.0                       50-99   \n",
       "\n",
       "   Innings Overs Bowled  Innings Bowled Flag Innings Maidens Bowled  \\\n",
       "11                  NaN                  NaN                    NaN   \n",
       "12                  NaN                  NaN                    NaN   \n",
       "\n",
       "   Innings Runs Conceded Innings Wickets Taken  4 Wickets  5 Wickets  \\\n",
       "11                   NaN                   NaN        NaN        NaN   \n",
       "12                   NaN                   NaN        NaN        NaN   \n",
       "\n",
       "    10 Wickets Innings Wickets Taken Buckets Innings Economy Rate  Year  \n",
       "11         NaN                           NaN                  NaN  2019  \n",
       "12         NaN                           NaN                  NaN  2019  "
      ]
     },
     "execution_count": 56,
     "metadata": {},
     "output_type": "execute_result"
    }
   ],
   "source": [
    "# Team Contribution \n",
    "\n",
    "India_df_since_2013 = df[df['Country'] == 'India']\n",
    "India_df_since_2013 = India_df_since_2013[India_df_since_2013.Year>= 2013] \n",
    "India_df_since_2013.head(2)"
   ]
  },
  {
   "cell_type": "code",
   "execution_count": 57,
   "id": "241bd699",
   "metadata": {
    "execution": {
     "iopub.execute_input": "2023-06-02T08:41:15.325449Z",
     "iopub.status.busy": "2023-06-02T08:41:15.325068Z",
     "iopub.status.idle": "2023-06-02T08:41:15.352383Z",
     "shell.execute_reply": "2023-06-02T08:41:15.351487Z"
    },
    "executionInfo": {
     "elapsed": 69,
     "status": "ok",
     "timestamp": 1677907064755,
     "user": {
      "displayName": "Anup Subbu",
      "userId": "02201996537246213875"
     },
     "user_tz": -330
    },
    "id": "3c2E2JX3V-EV",
    "outputId": "e7f26add-3072-43ab-e4ef-d66b19b2c765",
    "papermill": {
     "duration": 0.068434,
     "end_time": "2023-06-02T08:41:15.354553",
     "exception": false,
     "start_time": "2023-06-02T08:41:15.286119",
     "status": "completed"
    },
    "tags": []
   },
   "outputs": [
    {
     "data": {
      "text/html": [
       "<div>\n",
       "<style scoped>\n",
       "    .dataframe tbody tr th:only-of-type {\n",
       "        vertical-align: middle;\n",
       "    }\n",
       "\n",
       "    .dataframe tbody tr th {\n",
       "        vertical-align: top;\n",
       "    }\n",
       "\n",
       "    .dataframe thead th {\n",
       "        text-align: right;\n",
       "    }\n",
       "</style>\n",
       "<table border=\"1\" class=\"dataframe\">\n",
       "  <thead>\n",
       "    <tr style=\"text-align: right;\">\n",
       "      <th></th>\n",
       "      <th>Innings Player</th>\n",
       "      <th>Innings Runs Scored</th>\n",
       "      <th>Innings Runs Scored Num</th>\n",
       "      <th>Innings Minutes Batted</th>\n",
       "      <th>Innings Batted Flag</th>\n",
       "      <th>Innings Not Out Flag</th>\n",
       "      <th>Innings Balls Faced</th>\n",
       "      <th>Innings Boundary Fours</th>\n",
       "      <th>Innings Boundary Sixes</th>\n",
       "      <th>Innings Batting Strike Rate</th>\n",
       "      <th>Innings Number</th>\n",
       "      <th>Opposition</th>\n",
       "      <th>Ground</th>\n",
       "      <th>Innings Date</th>\n",
       "      <th>Country</th>\n",
       "      <th>50's</th>\n",
       "      <th>100's</th>\n",
       "      <th>Innings Runs Scored Buckets</th>\n",
       "      <th>Innings Overs Bowled</th>\n",
       "      <th>Innings Bowled Flag</th>\n",
       "      <th>Innings Maidens Bowled</th>\n",
       "      <th>Innings Runs Conceded</th>\n",
       "      <th>Innings Wickets Taken</th>\n",
       "      <th>4 Wickets</th>\n",
       "      <th>5 Wickets</th>\n",
       "      <th>10 Wickets</th>\n",
       "      <th>Innings Wickets Taken Buckets</th>\n",
       "      <th>Innings Economy Rate</th>\n",
       "      <th>Year</th>\n",
       "    </tr>\n",
       "  </thead>\n",
       "  <tbody>\n",
       "    <tr>\n",
       "      <th>12</th>\n",
       "      <td>SS Iyer</td>\n",
       "      <td>71</td>\n",
       "      <td>71</td>\n",
       "      <td>101</td>\n",
       "      <td>1</td>\n",
       "      <td>0</td>\n",
       "      <td>68</td>\n",
       "      <td>5</td>\n",
       "      <td>1</td>\n",
       "      <td>104.41</td>\n",
       "      <td>1</td>\n",
       "      <td>v West Indies</td>\n",
       "      <td>Port of Spain</td>\n",
       "      <td>2019-11-08</td>\n",
       "      <td>India</td>\n",
       "      <td>1.0</td>\n",
       "      <td>0.0</td>\n",
       "      <td>50-99</td>\n",
       "      <td>NaN</td>\n",
       "      <td>NaN</td>\n",
       "      <td>NaN</td>\n",
       "      <td>NaN</td>\n",
       "      <td>NaN</td>\n",
       "      <td>NaN</td>\n",
       "      <td>NaN</td>\n",
       "      <td>NaN</td>\n",
       "      <td>NaN</td>\n",
       "      <td>NaN</td>\n",
       "      <td>2019</td>\n",
       "    </tr>\n",
       "    <tr>\n",
       "      <th>13</th>\n",
       "      <td>RR Pant</td>\n",
       "      <td>20</td>\n",
       "      <td>20</td>\n",
       "      <td>27</td>\n",
       "      <td>1</td>\n",
       "      <td>0</td>\n",
       "      <td>35</td>\n",
       "      <td>2</td>\n",
       "      <td>0</td>\n",
       "      <td>57.14</td>\n",
       "      <td>1</td>\n",
       "      <td>v West Indies</td>\n",
       "      <td>Port of Spain</td>\n",
       "      <td>2019-11-08</td>\n",
       "      <td>India</td>\n",
       "      <td>0.0</td>\n",
       "      <td>0.0</td>\n",
       "      <td>0-49</td>\n",
       "      <td>NaN</td>\n",
       "      <td>NaN</td>\n",
       "      <td>NaN</td>\n",
       "      <td>NaN</td>\n",
       "      <td>NaN</td>\n",
       "      <td>NaN</td>\n",
       "      <td>NaN</td>\n",
       "      <td>NaN</td>\n",
       "      <td>NaN</td>\n",
       "      <td>NaN</td>\n",
       "      <td>2019</td>\n",
       "    </tr>\n",
       "  </tbody>\n",
       "</table>\n",
       "</div>"
      ],
      "text/plain": [
       "   Innings Player Innings Runs Scored  Innings Runs Scored Num  \\\n",
       "12        SS Iyer                  71                       71   \n",
       "13        RR Pant                  20                       20   \n",
       "\n",
       "   Innings Minutes Batted  Innings Batted Flag  Innings Not Out Flag  \\\n",
       "12                    101                    1                     0   \n",
       "13                     27                    1                     0   \n",
       "\n",
       "    Innings Balls Faced Innings Boundary Fours Innings Boundary Sixes  \\\n",
       "12                   68                      5                      1   \n",
       "13                   35                      2                      0   \n",
       "\n",
       "   Innings Batting Strike Rate Innings Number     Opposition         Ground  \\\n",
       "12                      104.41              1  v West Indies  Port of Spain   \n",
       "13                       57.14              1  v West Indies  Port of Spain   \n",
       "\n",
       "   Innings Date Country  50's  100's Innings Runs Scored Buckets  \\\n",
       "12   2019-11-08   India   1.0    0.0                       50-99   \n",
       "13   2019-11-08   India   0.0    0.0                        0-49   \n",
       "\n",
       "   Innings Overs Bowled  Innings Bowled Flag Innings Maidens Bowled  \\\n",
       "12                  NaN                  NaN                    NaN   \n",
       "13                  NaN                  NaN                    NaN   \n",
       "\n",
       "   Innings Runs Conceded Innings Wickets Taken  4 Wickets  5 Wickets  \\\n",
       "12                   NaN                   NaN        NaN        NaN   \n",
       "13                   NaN                   NaN        NaN        NaN   \n",
       "\n",
       "    10 Wickets Innings Wickets Taken Buckets Innings Economy Rate  Year  \n",
       "12         NaN                           NaN                  NaN  2019  \n",
       "13         NaN                           NaN                  NaN  2019  "
      ]
     },
     "execution_count": 57,
     "metadata": {},
     "output_type": "execute_result"
    }
   ],
   "source": [
    "India_df_since_2013_without_kohli = India_df_since_2013[India_df_since_2013['Innings Player'] != 'V Kohli']\n",
    "India_df_since_2013_without_kohli.head(2)"
   ]
  },
  {
   "cell_type": "code",
   "execution_count": 58,
   "id": "22da4e32",
   "metadata": {
    "execution": {
     "iopub.execute_input": "2023-06-02T08:41:15.431809Z",
     "iopub.status.busy": "2023-06-02T08:41:15.431201Z",
     "iopub.status.idle": "2023-06-02T08:41:15.460149Z",
     "shell.execute_reply": "2023-06-02T08:41:15.459030Z"
    },
    "executionInfo": {
     "elapsed": 69,
     "status": "ok",
     "timestamp": 1677907064756,
     "user": {
      "displayName": "Anup Subbu",
      "userId": "02201996537246213875"
     },
     "user_tz": -330
    },
    "id": "_Mfn8SqBXiZF",
    "outputId": "92428a16-1a8f-4cbf-ae3b-f6c0a7c27406",
    "papermill": {
     "duration": 0.070156,
     "end_time": "2023-06-02T08:41:15.462445",
     "exception": false,
     "start_time": "2023-06-02T08:41:15.392289",
     "status": "completed"
    },
    "tags": []
   },
   "outputs": [
    {
     "data": {
      "text/html": [
       "<div>\n",
       "<style scoped>\n",
       "    .dataframe tbody tr th:only-of-type {\n",
       "        vertical-align: middle;\n",
       "    }\n",
       "\n",
       "    .dataframe tbody tr th {\n",
       "        vertical-align: top;\n",
       "    }\n",
       "\n",
       "    .dataframe thead th {\n",
       "        text-align: right;\n",
       "    }\n",
       "</style>\n",
       "<table border=\"1\" class=\"dataframe\">\n",
       "  <thead>\n",
       "    <tr style=\"text-align: right;\">\n",
       "      <th></th>\n",
       "      <th>Innings Player</th>\n",
       "      <th>Innings Runs Scored</th>\n",
       "      <th>Innings Runs Scored Num</th>\n",
       "      <th>Innings Minutes Batted</th>\n",
       "      <th>Innings Batted Flag</th>\n",
       "      <th>Innings Not Out Flag</th>\n",
       "      <th>Innings Balls Faced</th>\n",
       "      <th>Innings Boundary Fours</th>\n",
       "      <th>Innings Boundary Sixes</th>\n",
       "      <th>Innings Batting Strike Rate</th>\n",
       "      <th>Innings Number</th>\n",
       "      <th>Opposition</th>\n",
       "      <th>Ground</th>\n",
       "      <th>Innings Date</th>\n",
       "      <th>Country</th>\n",
       "      <th>50's</th>\n",
       "      <th>100's</th>\n",
       "      <th>Innings Runs Scored Buckets</th>\n",
       "      <th>Innings Overs Bowled</th>\n",
       "      <th>Innings Bowled Flag</th>\n",
       "      <th>Innings Maidens Bowled</th>\n",
       "      <th>Innings Runs Conceded</th>\n",
       "      <th>Innings Wickets Taken</th>\n",
       "      <th>4 Wickets</th>\n",
       "      <th>5 Wickets</th>\n",
       "      <th>10 Wickets</th>\n",
       "      <th>Innings Wickets Taken Buckets</th>\n",
       "      <th>Innings Economy Rate</th>\n",
       "      <th>Year</th>\n",
       "    </tr>\n",
       "  </thead>\n",
       "  <tbody>\n",
       "    <tr>\n",
       "      <th>11</th>\n",
       "      <td>V Kohli</td>\n",
       "      <td>120</td>\n",
       "      <td>120</td>\n",
       "      <td>179</td>\n",
       "      <td>1</td>\n",
       "      <td>0</td>\n",
       "      <td>125</td>\n",
       "      <td>14</td>\n",
       "      <td>1</td>\n",
       "      <td>96</td>\n",
       "      <td>1</td>\n",
       "      <td>v West Indies</td>\n",
       "      <td>Port of Spain</td>\n",
       "      <td>2019-11-08</td>\n",
       "      <td>India</td>\n",
       "      <td>0.0</td>\n",
       "      <td>1.0</td>\n",
       "      <td>100-149</td>\n",
       "      <td>NaN</td>\n",
       "      <td>NaN</td>\n",
       "      <td>NaN</td>\n",
       "      <td>NaN</td>\n",
       "      <td>NaN</td>\n",
       "      <td>NaN</td>\n",
       "      <td>NaN</td>\n",
       "      <td>NaN</td>\n",
       "      <td>NaN</td>\n",
       "      <td>NaN</td>\n",
       "      <td>2019</td>\n",
       "    </tr>\n",
       "    <tr>\n",
       "      <th>12</th>\n",
       "      <td>SS Iyer</td>\n",
       "      <td>71</td>\n",
       "      <td>71</td>\n",
       "      <td>101</td>\n",
       "      <td>1</td>\n",
       "      <td>0</td>\n",
       "      <td>68</td>\n",
       "      <td>5</td>\n",
       "      <td>1</td>\n",
       "      <td>104.41</td>\n",
       "      <td>1</td>\n",
       "      <td>v West Indies</td>\n",
       "      <td>Port of Spain</td>\n",
       "      <td>2019-11-08</td>\n",
       "      <td>India</td>\n",
       "      <td>1.0</td>\n",
       "      <td>0.0</td>\n",
       "      <td>50-99</td>\n",
       "      <td>NaN</td>\n",
       "      <td>NaN</td>\n",
       "      <td>NaN</td>\n",
       "      <td>NaN</td>\n",
       "      <td>NaN</td>\n",
       "      <td>NaN</td>\n",
       "      <td>NaN</td>\n",
       "      <td>NaN</td>\n",
       "      <td>NaN</td>\n",
       "      <td>NaN</td>\n",
       "      <td>2019</td>\n",
       "    </tr>\n",
       "  </tbody>\n",
       "</table>\n",
       "</div>"
      ],
      "text/plain": [
       "   Innings Player Innings Runs Scored  Innings Runs Scored Num  \\\n",
       "11        V Kohli                 120                      120   \n",
       "12        SS Iyer                  71                       71   \n",
       "\n",
       "   Innings Minutes Batted  Innings Batted Flag  Innings Not Out Flag  \\\n",
       "11                    179                    1                     0   \n",
       "12                    101                    1                     0   \n",
       "\n",
       "    Innings Balls Faced Innings Boundary Fours Innings Boundary Sixes  \\\n",
       "11                  125                     14                      1   \n",
       "12                   68                      5                      1   \n",
       "\n",
       "   Innings Batting Strike Rate Innings Number     Opposition         Ground  \\\n",
       "11                          96              1  v West Indies  Port of Spain   \n",
       "12                      104.41              1  v West Indies  Port of Spain   \n",
       "\n",
       "   Innings Date Country  50's  100's Innings Runs Scored Buckets  \\\n",
       "11   2019-11-08   India   0.0    1.0                     100-149   \n",
       "12   2019-11-08   India   1.0    0.0                       50-99   \n",
       "\n",
       "   Innings Overs Bowled  Innings Bowled Flag Innings Maidens Bowled  \\\n",
       "11                  NaN                  NaN                    NaN   \n",
       "12                  NaN                  NaN                    NaN   \n",
       "\n",
       "   Innings Runs Conceded Innings Wickets Taken  4 Wickets  5 Wickets  \\\n",
       "11                   NaN                   NaN        NaN        NaN   \n",
       "12                   NaN                   NaN        NaN        NaN   \n",
       "\n",
       "    10 Wickets Innings Wickets Taken Buckets Innings Economy Rate  Year  \n",
       "11         NaN                           NaN                  NaN  2019  \n",
       "12         NaN                           NaN                  NaN  2019  "
      ]
     },
     "execution_count": 58,
     "metadata": {},
     "output_type": "execute_result"
    }
   ],
   "source": [
    "India_df_since_2013_without_rohit = India_df_since_2013[India_df_since_2013['Innings Player'] != 'RG Sharma']\n",
    "India_df_since_2013_without_rohit.head(2)"
   ]
  },
  {
   "cell_type": "code",
   "execution_count": 59,
   "id": "7189310d",
   "metadata": {
    "execution": {
     "iopub.execute_input": "2023-06-02T08:41:15.542051Z",
     "iopub.status.busy": "2023-06-02T08:41:15.541653Z",
     "iopub.status.idle": "2023-06-02T08:41:15.549460Z",
     "shell.execute_reply": "2023-06-02T08:41:15.548219Z"
    },
    "executionInfo": {
     "elapsed": 68,
     "status": "ok",
     "timestamp": 1677907064757,
     "user": {
      "displayName": "Anup Subbu",
      "userId": "02201996537246213875"
     },
     "user_tz": -330
    },
    "id": "CkeeXEOAY4Qz",
    "outputId": "89b07fe5-c614-4bcc-c17d-8e8e20dcc019",
    "papermill": {
     "duration": 0.050302,
     "end_time": "2023-06-02T08:41:15.551912",
     "exception": false,
     "start_time": "2023-06-02T08:41:15.501610",
     "status": "completed"
    },
    "tags": []
   },
   "outputs": [
    {
     "data": {
      "text/plain": [
       "31474"
      ]
     },
     "execution_count": 59,
     "metadata": {},
     "output_type": "execute_result"
    }
   ],
   "source": [
    "India_df_since_2013_without_kohli['Innings Runs Scored Num'].sum()"
   ]
  },
  {
   "cell_type": "code",
   "execution_count": 60,
   "id": "f2f87f2c",
   "metadata": {
    "execution": {
     "iopub.execute_input": "2023-06-02T08:41:15.632372Z",
     "iopub.status.busy": "2023-06-02T08:41:15.631910Z",
     "iopub.status.idle": "2023-06-02T08:41:15.639769Z",
     "shell.execute_reply": "2023-06-02T08:41:15.638738Z"
    },
    "executionInfo": {
     "elapsed": 65,
     "status": "ok",
     "timestamp": 1677907064758,
     "user": {
      "displayName": "Anup Subbu",
      "userId": "02201996537246213875"
     },
     "user_tz": -330
    },
    "id": "OXIO23NeZA2L",
    "outputId": "3f18e3ff-5f32-4741-f351-d7fd35b61729",
    "papermill": {
     "duration": 0.051256,
     "end_time": "2023-06-02T08:41:15.642125",
     "exception": false,
     "start_time": "2023-06-02T08:41:15.590869",
     "status": "completed"
    },
    "tags": []
   },
   "outputs": [
    {
     "data": {
      "text/plain": [
       "32296"
      ]
     },
     "execution_count": 60,
     "metadata": {},
     "output_type": "execute_result"
    }
   ],
   "source": [
    "India_df_since_2013_without_rohit['Innings Runs Scored Num'].sum()"
   ]
  },
  {
   "cell_type": "code",
   "execution_count": 61,
   "id": "c000146b",
   "metadata": {
    "execution": {
     "iopub.execute_input": "2023-06-02T08:41:15.720862Z",
     "iopub.status.busy": "2023-06-02T08:41:15.720424Z",
     "iopub.status.idle": "2023-06-02T08:41:15.729521Z",
     "shell.execute_reply": "2023-06-02T08:41:15.728484Z"
    },
    "executionInfo": {
     "elapsed": 62,
     "status": "ok",
     "timestamp": 1677907064759,
     "user": {
      "displayName": "Anup Subbu",
      "userId": "02201996537246213875"
     },
     "user_tz": -330
    },
    "id": "OlUTyZEyZDg3",
    "outputId": "adc37ee7-0d33-4394-fcb9-13ed10dd3089",
    "papermill": {
     "duration": 0.051264,
     "end_time": "2023-06-02T08:41:15.731743",
     "exception": false,
     "start_time": "2023-06-02T08:41:15.680479",
     "status": "completed"
    },
    "tags": []
   },
   "outputs": [
    {
     "data": {
      "text/plain": [
       "23.89"
      ]
     },
     "execution_count": 61,
     "metadata": {},
     "output_type": "execute_result"
    }
   ],
   "source": [
    "kohli_contribution_since_2013 = ((kohli_df_since_2013['Innings Runs Scored Num'].sum() / India_df_since_2013_without_kohli['Innings Runs Scored Num'].sum())*100).round(2)\n",
    "kohli_contribution_since_2013"
   ]
  },
  {
   "cell_type": "code",
   "execution_count": 62,
   "id": "37170da8",
   "metadata": {
    "execution": {
     "iopub.execute_input": "2023-06-02T08:41:15.810761Z",
     "iopub.status.busy": "2023-06-02T08:41:15.810303Z",
     "iopub.status.idle": "2023-06-02T08:41:15.818814Z",
     "shell.execute_reply": "2023-06-02T08:41:15.817351Z"
    },
    "executionInfo": {
     "elapsed": 59,
     "status": "ok",
     "timestamp": 1677907064760,
     "user": {
      "displayName": "Anup Subbu",
      "userId": "02201996537246213875"
     },
     "user_tz": -330
    },
    "id": "pGCNjpstdjqa",
    "outputId": "573e1e66-daf8-4e47-ece8-6d45eec09184",
    "papermill": {
     "duration": 0.051532,
     "end_time": "2023-06-02T08:41:15.821641",
     "exception": false,
     "start_time": "2023-06-02T08:41:15.770109",
     "status": "completed"
    },
    "tags": []
   },
   "outputs": [
    {
     "data": {
      "text/plain": [
       "20.74"
      ]
     },
     "execution_count": 62,
     "metadata": {},
     "output_type": "execute_result"
    }
   ],
   "source": [
    "rohit_contribution_since_2013 = ((rohit_df_since_2013['Innings Runs Scored Num'].sum() / India_df_since_2013_without_rohit['Innings Runs Scored Num'].sum())*100).round(2)\n",
    "rohit_contribution_since_2013"
   ]
  },
  {
   "cell_type": "code",
   "execution_count": 63,
   "id": "5085d4ae",
   "metadata": {
    "execution": {
     "iopub.execute_input": "2023-06-02T08:41:15.901537Z",
     "iopub.status.busy": "2023-06-02T08:41:15.901133Z",
     "iopub.status.idle": "2023-06-02T08:41:15.932377Z",
     "shell.execute_reply": "2023-06-02T08:41:15.931280Z"
    },
    "executionInfo": {
     "elapsed": 57,
     "status": "ok",
     "timestamp": 1677907064761,
     "user": {
      "displayName": "Anup Subbu",
      "userId": "02201996537246213875"
     },
     "user_tz": -330
    },
    "id": "iuZEe-WUdj3-",
    "outputId": "dcc77ee3-8305-40f7-bf39-00166e11e399",
    "papermill": {
     "duration": 0.0738,
     "end_time": "2023-06-02T08:41:15.934687",
     "exception": false,
     "start_time": "2023-06-02T08:41:15.860887",
     "status": "completed"
    },
    "tags": []
   },
   "outputs": [
    {
     "data": {
      "text/html": [
       "<div>\n",
       "<style scoped>\n",
       "    .dataframe tbody tr th:only-of-type {\n",
       "        vertical-align: middle;\n",
       "    }\n",
       "\n",
       "    .dataframe tbody tr th {\n",
       "        vertical-align: top;\n",
       "    }\n",
       "\n",
       "    .dataframe thead th {\n",
       "        text-align: right;\n",
       "    }\n",
       "</style>\n",
       "<table border=\"1\" class=\"dataframe\">\n",
       "  <thead>\n",
       "    <tr style=\"text-align: right;\">\n",
       "      <th></th>\n",
       "      <th>Innings Player</th>\n",
       "      <th>Innings Runs Scored</th>\n",
       "      <th>Innings Runs Scored Num</th>\n",
       "      <th>Innings Minutes Batted</th>\n",
       "      <th>Innings Batted Flag</th>\n",
       "      <th>Innings Not Out Flag</th>\n",
       "      <th>Innings Balls Faced</th>\n",
       "      <th>Innings Boundary Fours</th>\n",
       "      <th>Innings Boundary Sixes</th>\n",
       "      <th>Innings Batting Strike Rate</th>\n",
       "      <th>Innings Number</th>\n",
       "      <th>Opposition</th>\n",
       "      <th>Ground</th>\n",
       "      <th>Innings Date</th>\n",
       "      <th>Country</th>\n",
       "      <th>50's</th>\n",
       "      <th>100's</th>\n",
       "      <th>Innings Runs Scored Buckets</th>\n",
       "      <th>Innings Overs Bowled</th>\n",
       "      <th>Innings Bowled Flag</th>\n",
       "      <th>Innings Maidens Bowled</th>\n",
       "      <th>Innings Runs Conceded</th>\n",
       "      <th>Innings Wickets Taken</th>\n",
       "      <th>4 Wickets</th>\n",
       "      <th>5 Wickets</th>\n",
       "      <th>10 Wickets</th>\n",
       "      <th>Innings Wickets Taken Buckets</th>\n",
       "      <th>Innings Economy Rate</th>\n",
       "      <th>Year</th>\n",
       "    </tr>\n",
       "  </thead>\n",
       "  <tbody>\n",
       "    <tr>\n",
       "      <th>0</th>\n",
       "      <td>E Lewis</td>\n",
       "      <td>65</td>\n",
       "      <td>65</td>\n",
       "      <td>128</td>\n",
       "      <td>1</td>\n",
       "      <td>0</td>\n",
       "      <td>80</td>\n",
       "      <td>8</td>\n",
       "      <td>1</td>\n",
       "      <td>81.25</td>\n",
       "      <td>2</td>\n",
       "      <td>v India</td>\n",
       "      <td>Port of Spain</td>\n",
       "      <td>2019-11-08</td>\n",
       "      <td>West Indies</td>\n",
       "      <td>1.0</td>\n",
       "      <td>0.0</td>\n",
       "      <td>50-99</td>\n",
       "      <td>NaN</td>\n",
       "      <td>NaN</td>\n",
       "      <td>NaN</td>\n",
       "      <td>NaN</td>\n",
       "      <td>NaN</td>\n",
       "      <td>NaN</td>\n",
       "      <td>NaN</td>\n",
       "      <td>NaN</td>\n",
       "      <td>NaN</td>\n",
       "      <td>NaN</td>\n",
       "      <td>2019</td>\n",
       "    </tr>\n",
       "    <tr>\n",
       "      <th>1</th>\n",
       "      <td>N Pooran</td>\n",
       "      <td>42</td>\n",
       "      <td>42</td>\n",
       "      <td>69</td>\n",
       "      <td>1</td>\n",
       "      <td>0</td>\n",
       "      <td>52</td>\n",
       "      <td>4</td>\n",
       "      <td>1</td>\n",
       "      <td>80.76</td>\n",
       "      <td>2</td>\n",
       "      <td>v India</td>\n",
       "      <td>Port of Spain</td>\n",
       "      <td>2019-11-08</td>\n",
       "      <td>West Indies</td>\n",
       "      <td>0.0</td>\n",
       "      <td>0.0</td>\n",
       "      <td>0-49</td>\n",
       "      <td>NaN</td>\n",
       "      <td>NaN</td>\n",
       "      <td>NaN</td>\n",
       "      <td>NaN</td>\n",
       "      <td>NaN</td>\n",
       "      <td>NaN</td>\n",
       "      <td>NaN</td>\n",
       "      <td>NaN</td>\n",
       "      <td>NaN</td>\n",
       "      <td>NaN</td>\n",
       "      <td>2019</td>\n",
       "    </tr>\n",
       "  </tbody>\n",
       "</table>\n",
       "</div>"
      ],
      "text/plain": [
       "  Innings Player Innings Runs Scored  Innings Runs Scored Num  \\\n",
       "0        E Lewis                  65                       65   \n",
       "1       N Pooran                  42                       42   \n",
       "\n",
       "  Innings Minutes Batted  Innings Batted Flag  Innings Not Out Flag  \\\n",
       "0                    128                    1                     0   \n",
       "1                     69                    1                     0   \n",
       "\n",
       "   Innings Balls Faced Innings Boundary Fours Innings Boundary Sixes  \\\n",
       "0                   80                      8                      1   \n",
       "1                   52                      4                      1   \n",
       "\n",
       "  Innings Batting Strike Rate Innings Number Opposition         Ground  \\\n",
       "0                       81.25              2    v India  Port of Spain   \n",
       "1                       80.76              2    v India  Port of Spain   \n",
       "\n",
       "  Innings Date      Country  50's  100's Innings Runs Scored Buckets  \\\n",
       "0   2019-11-08  West Indies   1.0    0.0                       50-99   \n",
       "1   2019-11-08  West Indies   0.0    0.0                        0-49   \n",
       "\n",
       "  Innings Overs Bowled  Innings Bowled Flag Innings Maidens Bowled  \\\n",
       "0                  NaN                  NaN                    NaN   \n",
       "1                  NaN                  NaN                    NaN   \n",
       "\n",
       "  Innings Runs Conceded Innings Wickets Taken  4 Wickets  5 Wickets  \\\n",
       "0                   NaN                   NaN        NaN        NaN   \n",
       "1                   NaN                   NaN        NaN        NaN   \n",
       "\n",
       "   10 Wickets Innings Wickets Taken Buckets Innings Economy Rate  Year  \n",
       "0         NaN                           NaN                  NaN  2019  \n",
       "1         NaN                           NaN                  NaN  2019  "
      ]
     },
     "execution_count": 63,
     "metadata": {},
     "output_type": "execute_result"
    }
   ],
   "source": [
    "all_countries_df_since_2013 = df[df.Year>= 2013]\n",
    "all_countries_df_since_2013.head(2)"
   ]
  },
  {
   "cell_type": "code",
   "execution_count": 64,
   "id": "dc1a066e",
   "metadata": {
    "execution": {
     "iopub.execute_input": "2023-06-02T08:41:16.014914Z",
     "iopub.status.busy": "2023-06-02T08:41:16.014303Z",
     "iopub.status.idle": "2023-06-02T08:41:16.026745Z",
     "shell.execute_reply": "2023-06-02T08:41:16.025578Z"
    },
    "executionInfo": {
     "elapsed": 56,
     "status": "ok",
     "timestamp": 1677907064762,
     "user": {
      "displayName": "Anup Subbu",
      "userId": "02201996537246213875"
     },
     "user_tz": -330
    },
    "id": "P7dqPgYJelHt",
    "outputId": "62f5bd14-4ffd-4770-e50b-6288abf638b1",
    "papermill": {
     "duration": 0.055261,
     "end_time": "2023-06-02T08:41:16.029007",
     "exception": false,
     "start_time": "2023-06-02T08:41:15.973746",
     "status": "completed"
    },
    "tags": []
   },
   "outputs": [
    {
     "data": {
      "text/plain": [
       "Innings Player\n",
       "V Kohli          7520\n",
       "RG Sharma        6698\n",
       "JE Root          5856\n",
       "S Dhawan         5413\n",
       "KS Williamson    5310\n",
       "LRPL Taylor      4968\n",
       "F du Plessis     4944\n",
       "Q de Kock        4907\n",
       "HM Amla          4897\n",
       "EJG Morgan       4743\n",
       "Name: Innings Runs Scored Num, dtype: int64"
      ]
     },
     "execution_count": 64,
     "metadata": {},
     "output_type": "execute_result"
    }
   ],
   "source": [
    "all_countries_df_since_2013.groupby(['Innings Player'])['Innings Runs Scored Num'].sum().sort_values(ascending=False).head(10)"
   ]
  },
  {
   "cell_type": "code",
   "execution_count": 65,
   "id": "783b608a",
   "metadata": {
    "execution": {
     "iopub.execute_input": "2023-06-02T08:41:16.109347Z",
     "iopub.status.busy": "2023-06-02T08:41:16.108908Z",
     "iopub.status.idle": "2023-06-02T08:41:16.381380Z",
     "shell.execute_reply": "2023-06-02T08:41:16.380283Z"
    },
    "executionInfo": {
     "elapsed": 52,
     "status": "ok",
     "timestamp": 1677907064763,
     "user": {
      "displayName": "Anup Subbu",
      "userId": "02201996537246213875"
     },
     "user_tz": -330
    },
    "id": "olNKUC_bfTCl",
    "outputId": "83d3f8a7-0e40-43cf-88f4-bcfbcfa86eae",
    "papermill": {
     "duration": 0.31547,
     "end_time": "2023-06-02T08:41:16.383796",
     "exception": false,
     "start_time": "2023-06-02T08:41:16.068326",
     "status": "completed"
    },
    "tags": []
   },
   "outputs": [
    {
     "data": {
      "image/png": "[encoded data removed]",
      "text/plain": [
       "<Figure size 640x480 with 1 Axes>"
      ]
     },
     "metadata": {},
     "output_type": "display_data"
    }
   ],
   "source": [
    "all_countries_df_since_2013.groupby(['Innings Player'])['Innings Runs Scored Num'].sum().sort_values(ascending=False).head(10).plot(kind='bar')\n",
    "plt.show()"
   ]
  },
  {
   "cell_type": "code",
   "execution_count": 66,
   "id": "02ba7d41",
   "metadata": {
    "execution": {
     "iopub.execute_input": "2023-06-02T08:41:16.465435Z",
     "iopub.status.busy": "2023-06-02T08:41:16.464746Z",
     "iopub.status.idle": "2023-06-02T08:41:16.671114Z",
     "shell.execute_reply": "2023-06-02T08:41:16.670192Z"
    },
    "executionInfo": {
     "elapsed": 739,
     "status": "ok",
     "timestamp": 1677907065452,
     "user": {
      "displayName": "Anup Subbu",
      "userId": "02201996537246213875"
     },
     "user_tz": -330
    },
    "id": "07Bd584kfZ9i",
    "outputId": "5bf56139-5224-4fce-dfdc-1dcaeceb94b5",
    "papermill": {
     "duration": 0.249961,
     "end_time": "2023-06-02T08:41:16.673613",
     "exception": false,
     "start_time": "2023-06-02T08:41:16.423652",
     "status": "completed"
    },
    "tags": []
   },
   "outputs": [
    {
     "data": {
      "image/png": "[encoded data removed]",
      "text/plain": [
       "<Figure size 640x480 with 1 Axes>"
      ]
     },
     "metadata": {},
     "output_type": "display_data"
    }
   ],
   "source": [
    "kohli_df_since_2013.groupby('Year')['Innings Runs Scored Num'].sum().plot(kind='bar')\n",
    "plt.grid()\n",
    "plt.show()"
   ]
  },
  {
   "cell_type": "code",
   "execution_count": 67,
   "id": "56c922e5",
   "metadata": {
    "execution": {
     "iopub.execute_input": "2023-06-02T08:41:16.757077Z",
     "iopub.status.busy": "2023-06-02T08:41:16.755878Z",
     "iopub.status.idle": "2023-06-02T08:41:16.974856Z",
     "shell.execute_reply": "2023-06-02T08:41:16.973683Z"
    },
    "executionInfo": {
     "elapsed": 13,
     "status": "ok",
     "timestamp": 1677907065453,
     "user": {
      "displayName": "Anup Subbu",
      "userId": "02201996537246213875"
     },
     "user_tz": -330
    },
    "id": "mZfidvwrfmS9",
    "outputId": "393133c6-a280-466f-c0da-d82aa6fc5e5a",
    "papermill": {
     "duration": 0.263751,
     "end_time": "2023-06-02T08:41:16.977835",
     "exception": false,
     "start_time": "2023-06-02T08:41:16.714084",
     "status": "completed"
    },
    "tags": []
   },
   "outputs": [
    {
     "data": {
      "image/png": "[encoded data removed]",
      "text/plain": [
       "<Figure size 640x480 with 1 Axes>"
      ]
     },
     "metadata": {},
     "output_type": "display_data"
    }
   ],
   "source": [
    "rohit_df_since_2013.groupby('Year')['Innings Runs Scored Num'].sum().plot(kind='bar')\n",
    "plt.grid()\n",
    "plt.show()"
   ]
  },
  {
   "cell_type": "code",
   "execution_count": 68,
   "id": "a867a281",
   "metadata": {
    "execution": {
     "iopub.execute_input": "2023-06-02T08:41:17.061401Z",
     "iopub.status.busy": "2023-06-02T08:41:17.060756Z",
     "iopub.status.idle": "2023-06-02T08:41:17.434251Z",
     "shell.execute_reply": "2023-06-02T08:41:17.433229Z"
    },
    "executionInfo": {
     "elapsed": 846,
     "status": "ok",
     "timestamp": 1677907066288,
     "user": {
      "displayName": "Anup Subbu",
      "userId": "02201996537246213875"
     },
     "user_tz": -330
    },
    "id": "AQBtJWhig4W5",
    "outputId": "fbe06dea-8118-4972-853b-79fc5f3e6e01",
    "papermill": {
     "duration": 0.41805,
     "end_time": "2023-06-02T08:41:17.436890",
     "exception": false,
     "start_time": "2023-06-02T08:41:17.018840",
     "status": "completed"
    },
    "tags": []
   },
   "outputs": [
    {
     "data": {
      "image/png": "[encoded data removed]",
      "text/plain": [
       "<Figure size 1150x700 with 1 Axes>"
      ]
     },
     "metadata": {},
     "output_type": "display_data"
    }
   ],
   "source": [
    "y = [0,20,40,60,80,100]\n",
    "y_min = min(y)\n",
    "y_max = max(y)\n",
    "\n",
    "parameters = ['Runs per Innings','Strike Rate',\"No.of 100's\",\"No.of 50's\",'Contribution to team score']\n",
    "rohit_data = [rohit_rpi_since_2013,rohit_sr_since_2013,rohit_100_since_2013,rohit_50_since_2013,rohit_contribution_since_2013]\n",
    "kohli_data  = [kohli_rpi_since_2013,kohli_sr_since_2013,kohli_100_since_2013,kohli_50_since_2013,kohli_contribution_since_2013]\n",
    "\n",
    "\n",
    "xpos = np.arange(len(parameters))\n",
    "# width = 0.35     \n",
    "\n",
    "fig, ax = plt.subplots(figsize=(11.5,7))\n",
    "rects1 = plt.bar(xpos-0.2,rohit_data,width=0.35,label='Rohit')\n",
    "plt.ylim(y_min,y_max)\n",
    "rects2 = plt.bar(xpos+0.2,kohli_data,width=0.35,label='Kohli')\n",
    "\n",
    "\n",
    "plt.title('Rohit vs Kohli Analysis',fontsize=25,color='green')\n",
    "plt.xticks(xpos,parameters,fontsize=12)\n",
    "\n",
    "plt.legend((rects1[0], rects2[0]), ('Rohit', 'Kohli'))\n",
    "\n",
    "\n",
    "def autolabel(rects):\n",
    "    for rect in rects:\n",
    "        height = rect.get_height()\n",
    "        if((height == rohit_100_since_2013) or (height == rohit_50_since_2013) or (height == kohli_100_since_2013) or (height == kohli_50_since_2013)):\n",
    "            ax.text(rect.get_x() + rect.get_width()/2., 1.018*height,\n",
    "                    '%d' % int(height),ha='center')\n",
    "       \n",
    "        elif((height == rohit_contribution_since_2013) or (height == kohli_contribution_since_2013)) :\n",
    "            ax.text(rect.get_x() + rect.get_width()/2., 1.018*height,\n",
    "                    '%0.2f' % float(height)+'%',ha='center')\n",
    "            \n",
    "        else:\n",
    "            ax.text(rect.get_x() + rect.get_width()/2., 1.01*height,\n",
    "                    '%0.2f' % float(height),ha='center')\n",
    "\n",
    "autolabel(rects1)\n",
    "autolabel(rects2)\n",
    "plt.show()"
   ]
  }
 ],
 "metadata": {
  "kernelspec": {
   "display_name": "Python 3",
   "language": "python",
   "name": "python3"
  },
  "language_info": {
   "codemirror_mode": {
    "name": "ipython",
    "version": 3
   },
   "file_extension": ".py",
   "mimetype": "text/x-python",
   "name": "python",
   "nbconvert_exporter": "python",
   "pygments_lexer": "ipython3",
   "version": "3.10.10"
  },
  "papermill": {
   "default_parameters": {},
   "duration": 23.79069,
   "end_time": "2023-06-02T08:41:18.402027",
   "environment_variables": {},
   "exception": null,
   "input_path": "__notebook__.ipynb",
   "output_path": "__notebook__.ipynb",
   "parameters": {},
   "start_time": "2023-06-02T08:40:54.611337",
   "version": "2.4.0"
  }
 },
 "nbformat": 4,
 "nbformat_minor": 5
}
