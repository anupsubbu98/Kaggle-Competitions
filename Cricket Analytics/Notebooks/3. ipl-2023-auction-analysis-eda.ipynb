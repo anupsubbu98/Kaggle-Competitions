{
 "cells": [
  {
   "cell_type": "markdown",
   "id": "80fd5ba2",
   "metadata": {
    "id": "view-in-github",
    "papermill": {
     "duration": 0.01317,
     "end_time": "2023-06-02T08:31:35.990024",
     "exception": false,
     "start_time": "2023-06-02T08:31:35.976854",
     "status": "completed"
    },
    "tags": []
   },
   "source": [
    "<a href=\"https://colab.research.google.com/github/anupsubbu98/EDA-Kaggle/blob/master/IPL_2023_auction_analysis.ipynb\" target=\"_parent\"><img src=\"https://colab.research.google.com/assets/colab-badge.svg\" alt=\"Open In Colab\"/></a>"
   ]
  },
  {
   "cell_type": "code",
   "execution_count": 1,
   "id": "e2f73791",
   "metadata": {
    "execution": {
     "iopub.execute_input": "2023-06-02T08:31:36.014526Z",
     "iopub.status.busy": "2023-06-02T08:31:36.013983Z",
     "iopub.status.idle": "2023-06-02T08:31:37.620114Z",
     "shell.execute_reply": "2023-06-02T08:31:37.619226Z"
    },
    "id": "f0VLYZ-Vly0G",
    "papermill": {
     "duration": 1.621596,
     "end_time": "2023-06-02T08:31:37.622795",
     "exception": false,
     "start_time": "2023-06-02T08:31:36.001199",
     "status": "completed"
    },
    "tags": []
   },
   "outputs": [],
   "source": [
    "import pandas as pd\n",
    "import numpy as np\n",
    "import matplotlib.pyplot as plt\n",
    "import seaborn as sns\n",
    "\n",
    "import warnings\n",
    "warnings.filterwarnings('ignore')"
   ]
  },
  {
   "cell_type": "code",
   "execution_count": 2,
   "id": "8e901e40",
   "metadata": {
    "execution": {
     "iopub.execute_input": "2023-06-02T08:31:37.647191Z",
     "iopub.status.busy": "2023-06-02T08:31:37.646568Z",
     "iopub.status.idle": "2023-06-02T08:31:37.654302Z",
     "shell.execute_reply": "2023-06-02T08:31:37.653253Z"
    },
    "papermill": {
     "duration": 0.022601,
     "end_time": "2023-06-02T08:31:37.656651",
     "exception": false,
     "start_time": "2023-06-02T08:31:37.634050",
     "status": "completed"
    },
    "tags": []
   },
   "outputs": [
    {
     "data": {
      "text/plain": [
       "['ipl-2023-auction-analysis']"
      ]
     },
     "execution_count": 2,
     "metadata": {},
     "output_type": "execute_result"
    }
   ],
   "source": [
    "import os;\n",
    "os.listdir('/kaggle/input/')"
   ]
  },
  {
   "cell_type": "code",
   "execution_count": 3,
   "id": "f15a1817",
   "metadata": {
    "execution": {
     "iopub.execute_input": "2023-06-02T08:31:37.681910Z",
     "iopub.status.busy": "2023-06-02T08:31:37.681188Z",
     "iopub.status.idle": "2023-06-02T08:31:37.747568Z",
     "shell.execute_reply": "2023-06-02T08:31:37.746383Z"
    },
    "id": "Ck1pQ_Y97AOb",
    "papermill": {
     "duration": 0.082305,
     "end_time": "2023-06-02T08:31:37.750239",
     "exception": false,
     "start_time": "2023-06-02T08:31:37.667934",
     "status": "completed"
    },
    "tags": []
   },
   "outputs": [
    {
     "data": {
      "text/html": [
       "<div>\n",
       "<style scoped>\n",
       "    .dataframe tbody tr th:only-of-type {\n",
       "        vertical-align: middle;\n",
       "    }\n",
       "\n",
       "    .dataframe tbody tr th {\n",
       "        vertical-align: top;\n",
       "    }\n",
       "\n",
       "    .dataframe thead th {\n",
       "        text-align: right;\n",
       "    }\n",
       "</style>\n",
       "<table border=\"1\" class=\"dataframe\">\n",
       "  <thead>\n",
       "    <tr style=\"text-align: right;\">\n",
       "      <th></th>\n",
       "      <th>Player Name</th>\n",
       "      <th>Base Price</th>\n",
       "      <th>Type</th>\n",
       "      <th>Cost in Rs. (CR)</th>\n",
       "      <th>Cost in $ (K)</th>\n",
       "      <th>2022 Squad</th>\n",
       "      <th>2023 Squad</th>\n",
       "    </tr>\n",
       "  </thead>\n",
       "  <tbody>\n",
       "    <tr>\n",
       "      <th>0</th>\n",
       "      <td>Shivam Mavi</td>\n",
       "      <td>4000000</td>\n",
       "      <td>BOWLER</td>\n",
       "      <td>6.0</td>\n",
       "      <td>720.0</td>\n",
       "      <td>KKR</td>\n",
       "      <td>GT</td>\n",
       "    </tr>\n",
       "    <tr>\n",
       "      <th>1</th>\n",
       "      <td>Joshua Little</td>\n",
       "      <td>5000000</td>\n",
       "      <td>BOWLER</td>\n",
       "      <td>4.4</td>\n",
       "      <td>528.0</td>\n",
       "      <td>NaN</td>\n",
       "      <td>GT</td>\n",
       "    </tr>\n",
       "    <tr>\n",
       "      <th>2</th>\n",
       "      <td>Kane Williamson</td>\n",
       "      <td>20000000</td>\n",
       "      <td>BATSMAN</td>\n",
       "      <td>2.0</td>\n",
       "      <td>240.0</td>\n",
       "      <td>SRH</td>\n",
       "      <td>GT</td>\n",
       "    </tr>\n",
       "    <tr>\n",
       "      <th>3</th>\n",
       "      <td>K.S. Bharat</td>\n",
       "      <td>2000000</td>\n",
       "      <td>WICKETKEEPER</td>\n",
       "      <td>1.2</td>\n",
       "      <td>144.0</td>\n",
       "      <td>DC</td>\n",
       "      <td>GT</td>\n",
       "    </tr>\n",
       "    <tr>\n",
       "      <th>4</th>\n",
       "      <td>Mohit Sharma</td>\n",
       "      <td>5000000</td>\n",
       "      <td>BOWLER</td>\n",
       "      <td>0.5</td>\n",
       "      <td>60.0</td>\n",
       "      <td>NaN</td>\n",
       "      <td>GT</td>\n",
       "    </tr>\n",
       "  </tbody>\n",
       "</table>\n",
       "</div>"
      ],
      "text/plain": [
       "       Player Name Base Price          Type  Cost in Rs. (CR)  Cost in $ (K)  \\\n",
       "0      Shivam Mavi    4000000        BOWLER               6.0          720.0   \n",
       "1    Joshua Little    5000000        BOWLER               4.4          528.0   \n",
       "2  Kane Williamson   20000000       BATSMAN               2.0          240.0   \n",
       "3      K.S. Bharat    2000000  WICKETKEEPER               1.2          144.0   \n",
       "4     Mohit Sharma    5000000        BOWLER               0.5           60.0   \n",
       "\n",
       "  2022 Squad 2023 Squad  \n",
       "0        KKR         GT  \n",
       "1        NaN         GT  \n",
       "2        SRH         GT  \n",
       "3         DC         GT  \n",
       "4        NaN         GT  "
      ]
     },
     "execution_count": 3,
     "metadata": {},
     "output_type": "execute_result"
    }
   ],
   "source": [
    "df = pd.read_csv('/kaggle/input/ipl-2023-auction-analysis/ipl_2023_auction_analysis.csv')  \n",
    "df.head()"
   ]
  },
  {
   "cell_type": "code",
   "execution_count": 4,
   "id": "6bbe122f",
   "metadata": {
    "execution": {
     "iopub.execute_input": "2023-06-02T08:31:37.775339Z",
     "iopub.status.busy": "2023-06-02T08:31:37.774963Z",
     "iopub.status.idle": "2023-06-02T08:31:37.805096Z",
     "shell.execute_reply": "2023-06-02T08:31:37.803825Z"
    },
    "id": "Ay2IaYEw7pQ0",
    "outputId": "10f8e78b-3970-4ef3-c4e1-05b60352d60c",
    "papermill": {
     "duration": 0.046615,
     "end_time": "2023-06-02T08:31:37.808661",
     "exception": false,
     "start_time": "2023-06-02T08:31:37.762046",
     "status": "completed"
    },
    "tags": []
   },
   "outputs": [
    {
     "name": "stdout",
     "output_type": "stream",
     "text": [
      "<class 'pandas.core.frame.DataFrame'>\n",
      "RangeIndex: 568 entries, 0 to 567\n",
      "Data columns (total 7 columns):\n",
      " #   Column            Non-Null Count  Dtype  \n",
      "---  ------            --------------  -----  \n",
      " 0   Player Name       568 non-null    object \n",
      " 1   Base Price        568 non-null    object \n",
      " 2   Type              568 non-null    object \n",
      " 3   Cost in Rs. (CR)  243 non-null    float64\n",
      " 4   Cost in $ (K)     243 non-null    float64\n",
      " 5   2022 Squad        230 non-null    object \n",
      " 6   2023 Squad        568 non-null    object \n",
      "dtypes: float64(2), object(5)\n",
      "memory usage: 31.2+ KB\n"
     ]
    }
   ],
   "source": [
    "df.shape\n",
    "df.info()"
   ]
  },
  {
   "cell_type": "code",
   "execution_count": 5,
   "id": "2b7efb3c",
   "metadata": {
    "execution": {
     "iopub.execute_input": "2023-06-02T08:31:37.833916Z",
     "iopub.status.busy": "2023-06-02T08:31:37.833520Z",
     "iopub.status.idle": "2023-06-02T08:31:37.839881Z",
     "shell.execute_reply": "2023-06-02T08:31:37.838670Z"
    },
    "id": "mG4H2t8EZF6T",
    "papermill": {
     "duration": 0.021774,
     "end_time": "2023-06-02T08:31:37.842144",
     "exception": false,
     "start_time": "2023-06-02T08:31:37.820370",
     "status": "completed"
    },
    "tags": []
   },
   "outputs": [],
   "source": [
    "df.drop(columns={'Cost in $ (K)'},inplace=True)"
   ]
  },
  {
   "cell_type": "code",
   "execution_count": 6,
   "id": "9befa993",
   "metadata": {
    "execution": {
     "iopub.execute_input": "2023-06-02T08:31:37.867224Z",
     "iopub.status.busy": "2023-06-02T08:31:37.866690Z",
     "iopub.status.idle": "2023-06-02T08:31:37.873052Z",
     "shell.execute_reply": "2023-06-02T08:31:37.871990Z"
    },
    "id": "a7dVIxKvZSKU",
    "papermill": {
     "duration": 0.021669,
     "end_time": "2023-06-02T08:31:37.875468",
     "exception": false,
     "start_time": "2023-06-02T08:31:37.853799",
     "status": "completed"
    },
    "tags": []
   },
   "outputs": [],
   "source": [
    "df.rename(columns = {'Base Price':'Base Price (in cr.)'},inplace = True)"
   ]
  },
  {
   "cell_type": "code",
   "execution_count": 7,
   "id": "26018bc2",
   "metadata": {
    "execution": {
     "iopub.execute_input": "2023-06-02T08:31:37.901176Z",
     "iopub.status.busy": "2023-06-02T08:31:37.900307Z",
     "iopub.status.idle": "2023-06-02T08:31:37.908076Z",
     "shell.execute_reply": "2023-06-02T08:31:37.906792Z"
    },
    "id": "2qaOTIePIwDr",
    "papermill": {
     "duration": 0.023237,
     "end_time": "2023-06-02T08:31:37.910552",
     "exception": false,
     "start_time": "2023-06-02T08:31:37.887315",
     "status": "completed"
    },
    "tags": []
   },
   "outputs": [],
   "source": [
    "df['Base Price (in cr.)'] = df['Base Price (in cr.)'].apply(lambda x: '0' if x in('Retained') else x)"
   ]
  },
  {
   "cell_type": "code",
   "execution_count": 8,
   "id": "615f2db0",
   "metadata": {
    "execution": {
     "iopub.execute_input": "2023-06-02T08:31:37.935893Z",
     "iopub.status.busy": "2023-06-02T08:31:37.935445Z",
     "iopub.status.idle": "2023-06-02T08:31:37.951431Z",
     "shell.execute_reply": "2023-06-02T08:31:37.950556Z"
    },
    "id": "xA9vEQ3rIpGb",
    "outputId": "cddfda44-cf7d-4523-a31c-548f5db26357",
    "papermill": {
     "duration": 0.03144,
     "end_time": "2023-06-02T08:31:37.953599",
     "exception": false,
     "start_time": "2023-06-02T08:31:37.922159",
     "status": "completed"
    },
    "tags": []
   },
   "outputs": [
    {
     "data": {
      "text/html": [
       "<div>\n",
       "<style scoped>\n",
       "    .dataframe tbody tr th:only-of-type {\n",
       "        vertical-align: middle;\n",
       "    }\n",
       "\n",
       "    .dataframe tbody tr th {\n",
       "        vertical-align: top;\n",
       "    }\n",
       "\n",
       "    .dataframe thead th {\n",
       "        text-align: right;\n",
       "    }\n",
       "</style>\n",
       "<table border=\"1\" class=\"dataframe\">\n",
       "  <thead>\n",
       "    <tr style=\"text-align: right;\">\n",
       "      <th></th>\n",
       "      <th>Player Name</th>\n",
       "      <th>Base Price (in cr.)</th>\n",
       "      <th>Type</th>\n",
       "      <th>Cost in Rs. (CR)</th>\n",
       "      <th>2022 Squad</th>\n",
       "      <th>2023 Squad</th>\n",
       "    </tr>\n",
       "  </thead>\n",
       "  <tbody>\n",
       "    <tr>\n",
       "      <th>0</th>\n",
       "      <td>Shivam Mavi</td>\n",
       "      <td>0.4</td>\n",
       "      <td>BOWLER</td>\n",
       "      <td>6.0</td>\n",
       "      <td>KKR</td>\n",
       "      <td>GT</td>\n",
       "    </tr>\n",
       "    <tr>\n",
       "      <th>1</th>\n",
       "      <td>Joshua Little</td>\n",
       "      <td>0.5</td>\n",
       "      <td>BOWLER</td>\n",
       "      <td>4.4</td>\n",
       "      <td>NaN</td>\n",
       "      <td>GT</td>\n",
       "    </tr>\n",
       "    <tr>\n",
       "      <th>2</th>\n",
       "      <td>Kane Williamson</td>\n",
       "      <td>2.0</td>\n",
       "      <td>BATSMAN</td>\n",
       "      <td>2.0</td>\n",
       "      <td>SRH</td>\n",
       "      <td>GT</td>\n",
       "    </tr>\n",
       "    <tr>\n",
       "      <th>3</th>\n",
       "      <td>K.S. Bharat</td>\n",
       "      <td>0.2</td>\n",
       "      <td>WICKETKEEPER</td>\n",
       "      <td>1.2</td>\n",
       "      <td>DC</td>\n",
       "      <td>GT</td>\n",
       "    </tr>\n",
       "    <tr>\n",
       "      <th>4</th>\n",
       "      <td>Mohit Sharma</td>\n",
       "      <td>0.5</td>\n",
       "      <td>BOWLER</td>\n",
       "      <td>0.5</td>\n",
       "      <td>NaN</td>\n",
       "      <td>GT</td>\n",
       "    </tr>\n",
       "  </tbody>\n",
       "</table>\n",
       "</div>"
      ],
      "text/plain": [
       "       Player Name  Base Price (in cr.)          Type  Cost in Rs. (CR)  \\\n",
       "0      Shivam Mavi                  0.4        BOWLER               6.0   \n",
       "1    Joshua Little                  0.5        BOWLER               4.4   \n",
       "2  Kane Williamson                  2.0       BATSMAN               2.0   \n",
       "3      K.S. Bharat                  0.2  WICKETKEEPER               1.2   \n",
       "4     Mohit Sharma                  0.5        BOWLER               0.5   \n",
       "\n",
       "  2022 Squad 2023 Squad  \n",
       "0        KKR         GT  \n",
       "1        NaN         GT  \n",
       "2        SRH         GT  \n",
       "3         DC         GT  \n",
       "4        NaN         GT  "
      ]
     },
     "execution_count": 8,
     "metadata": {},
     "output_type": "execute_result"
    }
   ],
   "source": [
    "df['Base Price (in cr.)'] = df['Base Price (in cr.)'].astype(int)\n",
    "df['Base Price (in cr.)'] = df['Base Price (in cr.)']/10000000\n",
    "df.head()"
   ]
  },
  {
   "cell_type": "code",
   "execution_count": 9,
   "id": "2cc89e94",
   "metadata": {
    "execution": {
     "iopub.execute_input": "2023-06-02T08:31:37.979272Z",
     "iopub.status.busy": "2023-06-02T08:31:37.978514Z",
     "iopub.status.idle": "2023-06-02T08:31:37.989192Z",
     "shell.execute_reply": "2023-06-02T08:31:37.988020Z"
    },
    "id": "WRaqnP5sZTxh",
    "outputId": "a56b55f5-14fc-4edf-b0cb-f1b8f1a55324",
    "papermill": {
     "duration": 0.026462,
     "end_time": "2023-06-02T08:31:37.991811",
     "exception": false,
     "start_time": "2023-06-02T08:31:37.965349",
     "status": "completed"
    },
    "tags": []
   },
   "outputs": [
    {
     "data": {
      "text/plain": [
       "Player Name              0\n",
       "Base Price (in cr.)      0\n",
       "Type                     0\n",
       "Cost in Rs. (CR)       325\n",
       "2022 Squad             338\n",
       "2023 Squad               0\n",
       "dtype: int64"
      ]
     },
     "execution_count": 9,
     "metadata": {},
     "output_type": "execute_result"
    }
   ],
   "source": [
    "df.isnull().sum()"
   ]
  },
  {
   "cell_type": "code",
   "execution_count": 10,
   "id": "8f6bd11b",
   "metadata": {
    "execution": {
     "iopub.execute_input": "2023-06-02T08:31:38.018587Z",
     "iopub.status.busy": "2023-06-02T08:31:38.018111Z",
     "iopub.status.idle": "2023-06-02T08:31:38.029482Z",
     "shell.execute_reply": "2023-06-02T08:31:38.028167Z"
    },
    "id": "7lW7Wm70ZkGp",
    "outputId": "68eb7ec3-7ff7-47ef-a271-e01da22061f3",
    "papermill": {
     "duration": 0.028,
     "end_time": "2023-06-02T08:31:38.031969",
     "exception": false,
     "start_time": "2023-06-02T08:31:38.003969",
     "status": "completed"
    },
    "tags": []
   },
   "outputs": [
    {
     "data": {
      "text/plain": [
       "array(['Shivam Mavi', 'Joshua Little', 'Kane Williamson', 'K.S. Bharat',\n",
       "       'Mohit Sharma', 'Odean Smith', 'Urvil Patel', 'Rahul Tewatia',\n",
       "       'Pradeep Sangwan', 'Rashid Khan', 'R. Sai Kishore', 'Yash Dayal',\n",
       "       'Noor Ahmad', 'Wriddhiman Saha', 'Vijay Shankar', 'Shubman Gill',\n",
       "       'Hardik Pandya', 'B. Sai Sudharsan', 'Alzarri Joseph',\n",
       "       'Abhinav Sadarangani', 'Darshan Nalkande', 'David Miller',\n",
       "       'Matthew Wade', 'Jayant Yadav', 'Mohammad Shami', 'Ben Stokes',\n",
       "       'Kyle Jamieson', 'Nishant Sindhu', 'Ajinkya Rahane',\n",
       "       'Bhagath Varma', 'Ajay Mandal', 'Shaik Rasheed', 'Ravindra Jadeja',\n",
       "       'Rajvardhan Hangargekar', 'Prashant Solanki', 'Ruturaj Gaikwad',\n",
       "       'Tushar Deshpande', 'Mukesh Choudhary', 'Subhranshu Senapati',\n",
       "       'Simarjeet Singh', 'Shivam Dube', 'Matheesha Pathirana',\n",
       "       'Devon Conway', 'Deepak Chahar', 'Ambati Rayudu',\n",
       "       'Dwaine Pretorius', 'Maheesh Theekshana', 'Moeen Ali',\n",
       "       'Mitchell Santner', 'MS Dhoni', 'Mukesh Kumar', 'Rilee Rossouw',\n",
       "       'Manish Pandey', 'Phil Salt', 'Ishant Sharma', 'Ripal Patel',\n",
       "       'Pravin Dubey', 'Rishabh Pant', 'Prithvi Shaw',\n",
       "       'Syed Khaleel Ahmed', 'Yash Dhull', 'Vicky Ostwal',\n",
       "       'Mustafizur Rahman', 'Sarfaraz Khan', 'Rovman Powell',\n",
       "       'Lalit Yadav', 'Axar Patel', 'Anrich Nortje', 'Aman Khan (T)',\n",
       "       'Chetan Sakariya', 'David Warner', 'Lungisani Ngidi',\n",
       "       'Kuldeep Yadav', 'Kamlesh Nagarkoti', 'Mitchell Marsh',\n",
       "       'Shakib Al Hasan', 'David Wiese', 'N. Jagadeesan', 'Vaibhav Arora',\n",
       "       'Litton Das', 'Mandeep Singh', 'Kulwant Khejroliya',\n",
       "       'Suyash Sharma', 'Sunil Narine', 'Shreyas Iyer', 'Tim Southee',\n",
       "       'Umesh Yadav', 'Varun Chakaravarthy', 'Shardul Thakur (T)',\n",
       "       'Venkatesh Iyer', 'Harshit Rana', 'Anukul Roy', 'Andre Russell',\n",
       "       'Lockie Ferguson (T)', 'Nitish Rana', 'Rahmanullah Gurbaz (T)',\n",
       "       'Rinku Singh', 'Sam Curran', 'Sikandar Raza', 'Harpreet Bhatia',\n",
       "       'Mohit Rathee', 'Vidwath Kaverappa', 'Shivam Singh',\n",
       "       'Liam Livingstone', 'Baltej Singh Dhanda', 'Atharva Taide',\n",
       "       'Bhanuka Rajapakse', 'Jitesh Sharma', 'Nathan Ellis',\n",
       "       'Jonny Bairstow', 'Kagiso Rabada', 'Harpreet Brar',\n",
       "       'Shahrukh Khan', 'Shikhar Dhawan', 'Rahul Chahar',\n",
       "       'Arshdeep Singh', 'Prabhsimran Singh', 'Raj Angad Bawa',\n",
       "       'Rishi Dhawan', 'Nicholas Pooran', 'Daniel Sams', 'Jaydev Unadkat',\n",
       "       'Naveen Ul Haq', 'Amit Mishra', 'Romario Shepherd', 'Yash Thakur',\n",
       "       'Swapnil Singh', 'Yudhvir Charak', 'Prerak Mankad', 'Mark Wood',\n",
       "       'Marcus Stoinis', 'Mayank Yadav', 'Mohsin Khan', 'Quinton De Kock',\n",
       "       'Manan Vohra', 'Ravi Bishnoi', 'Deepak Hooda', 'Ayush Badoni',\n",
       "       'Avesh Khan', 'K. Gowtham', 'Karan Sharma', 'Krunal Pandya',\n",
       "       'KL Rahul', 'Kyle Mayers', 'Cameron Green', 'Jhye Richardson',\n",
       "       'Piyush Chawla', 'Raghav Goyal', 'Shams Mulani', 'Nehal Wadhera',\n",
       "       'Vishnu Vinod', 'Duan Jansen', 'Ramandeep Singh', 'N. Tilak Varma',\n",
       "       'Mohd. Arshad Khan', 'Rohit Sharma', 'Suryakumar Yadav',\n",
       "       'Kumar Kartikeya Singh', 'Tristan Stubbs*', 'Tim David',\n",
       "       'Hrithik Shokeen', 'Arjun Tendulkar', 'Akash Madhwal',\n",
       "       'Dewald Brevis', 'Ishan Kishan', 'Jasprit Bumrah',\n",
       "       'Jason Behrendorff (T)', 'Jofra Archer', 'Will Jacks',\n",
       "       'Reece Topley', 'Rajan Kumar', 'Avinash Singh', 'Manoj Bhandage',\n",
       "       'Sonu Yadav', 'Himanshu Sharma', 'Rajat Patidar', 'Mahipal Lomror',\n",
       "       'Shahbaz Ahamad', 'Mohammed Siraj', 'Wanindu Hasaranga',\n",
       "       'Karn Sharma', 'Virat Kohli', 'Suyash Prabhudessai',\n",
       "       'Siddharth Kaul', 'Finn Allen', 'David Willey', 'Anuj Rawat',\n",
       "       'Akash Deep', 'Dinesh Karthik', 'Faf Du Plessis', 'Harshal Patel',\n",
       "       'Glenn Maxwell', 'Josh Hazlewood', 'Jason Holder', 'Adam Zampa',\n",
       "       'Joe Root', 'Donovan Ferreira', 'K.M. Asif', 'Kunal Rathore',\n",
       "       'Abdul P A', 'Akash Vashisht', 'Murugan Ashwin', 'Sanju Samson',\n",
       "       'Riyan Parag', 'R. Ashwin', 'Shimron Hetmyer', 'Trent Boult',\n",
       "       'Prasidh Krishna', 'Yuzvendra Chahal', 'Yashasvi Jaiswal',\n",
       "       'K.C Cariappa', 'Dhruv Jurel', 'Devdutt Padikkal', 'Jos Buttler',\n",
       "       'Kuldeep Sen', 'Navdeep Saini', 'Kuldip Yadav', 'Obed Mccoy',\n",
       "       'Harry Brook', 'Mayank Agarwal', 'Heinrich Klaasen',\n",
       "       'Vivrant Sharma', 'Adil Rashid', 'Mayank Dagar', 'Akeal Hosein',\n",
       "       'Mayank Markande', 'Upendra Singh Yadav', 'Nitish Kumar Reddy',\n",
       "       'Samarth Vyas', 'Anmolpreet Singh', 'Sanvir Singh', 'Marco Jansen',\n",
       "       'Rahul Tripathi', 'Umran Malik', 'Washington Sundar',\n",
       "       'Kartik Tyagi', 'T. Natarajan', 'Fazalhaq Farooqi', 'Abdul Samad',\n",
       "       'Abhishek Sharma', 'Aiden Markram', 'Bhuvneshwar Kumar',\n",
       "       'Glenn Phillips', 'Tom Banton', 'Kusal Mendis', 'Chris Jordan',\n",
       "       'Adam Milne', 'Mujeeb Rahman', 'Tabraiz Shamsi',\n",
       "       'Shubham Khajuria', 'Rohan Kunnummal', 'Chethan L.R.',\n",
       "       'Himmat Singh', 'Corbin Bosch', 'Priyam Garg', 'Saurabh Kumar',\n",
       "       'Shashank Singh', 'Mohammed Azharuddeen', 'Dinesh Bana',\n",
       "       'Abhimanyu Easwaran', 'Sumit Kumar', 'Lance Morris',\n",
       "       'Mujtaba Yousuf', 'Chintal Gandhi', 'Shreyas Gopal', 'S Midhun',\n",
       "       'Izharulhuq Naveed', 'Travis Head', 'Dawid Malan',\n",
       "       'Sherfane Rutherford', 'Paul Stirling', 'Rassie Van Der Dussen',\n",
       "       'Daryl Mitchell', 'Mohammad Nabi', 'Jimmy Neesham',\n",
       "       'Wayne Parnell', 'Dasun Shanaka', 'Taskin Ahmed',\n",
       "       'Dushmanta Chameera', 'Riley Meredith', 'Blessing Muzarabani',\n",
       "       'Sandeep Sharma', 'Johnson Charles', 'Andre Fletcher', 'Shai Hope',\n",
       "       'Tom Latham', 'Joshua Philippe', 'Lorcan Tucker', 'Shahbaz Nadeem',\n",
       "       'Ish Sodhi', 'Sachin Baby', 'Ashwin Hebbar', 'Pukhraj Mann',\n",
       "       'Akshat Raghuwanshi', 'Himanshu Rana', 'Shoun Roger',\n",
       "       'Virat Singh', 'Will Smeed', 'Apoorv Wankhade', 'Gerald Coetzee',\n",
       "       'Evan Jones', 'Abid Mushtaq', 'Suryansh Shedge',\n",
       "       'Jagadeesha Suchith', 'Ricky Bhui', 'Baba Indrajith',\n",
       "       'Sheldon Jackson', 'Aryan Juyal', 'Kirant Shinde',\n",
       "       'Luvnith Sisodia', 'Vishnu Solanki', 'Aniket Choudhary',\n",
       "       'Ravi Kumar', 'Sushant Mishra', 'Arzan Nagwaswalla', 'Ishan Porel',\n",
       "       'Akash Singh', 'Basil Thampi', 'Paul Van Meekeren',\n",
       "       'Vyshak Vijay Kumar', 'S.Ajith Ram', 'Satyajeet Bachhav',\n",
       "       'Tejas Baroka', 'Yuvraj Chudasama', 'Peter Hatzoglou',\n",
       "       'Karthik Meiyappan', 'Shivam Sharma', 'Reeza Hendricks',\n",
       "       'Christiaan Jonker', 'Brandon King', 'Chris Lynn', 'Karun Nair',\n",
       "       'Pathum Nissaanka', 'Jason Roy', 'Gurkeerat Singh', 'Harry Tector',\n",
       "       'Najibullah Zadran', 'Sean Abbott', 'Qais Ahmad',\n",
       "       'Charith Asalanka', 'Michael Bracewell', 'Dominic Drakes',\n",
       "       'George Garton', 'Chamika Karunaratne', 'Jamie Overton',\n",
       "       'Sandeep Warrier', 'Ben Dwarshuis', 'Richard Gleeson',\n",
       "       'Lahiru Kumara', 'Dilshan Madushanka', 'Billy Stanlake',\n",
       "       'Andrew Tye', 'Luke Wood', 'Priyansh Arya', 'Matthew Breetzke',\n",
       "       'Shivam Chauhan', 'Rahul Gahlaut', 'Sudip Gharami',\n",
       "       'C. Hari Nishaanth', 'Amandeep Khare', 'Bhanu Pania', 'Ekant Sen',\n",
       "       'Himanshu Bisht', 'Mickil Jaiswal', 'G.Aniketh Reddy',\n",
       "       'Atit Sheth', 'M. Siddharth', 'Tanay Thyagarajann', 'Sumeet Verma',\n",
       "       'Sanjay Yadav', 'Ajitesh Guruswamy', 'Yash Kothari',\n",
       "       'Suresh Kumar', 'Kumar Kushagra', 'Anmol Malhotra', 'Robin Minz',\n",
       "       'Agniv Pan', 'Priyesh Patel', 'Mitesh Patel', 'Abishek Porel',\n",
       "       'Bharat Sharma', 'Vivek Singh', 'Abhijeet Tomar', 'Basit Bashir',\n",
       "       'Nandre Burger', 'Rasikh Dar', 'Sakib Hussain', 'Waseem Khanday',\n",
       "       'Ravi Kiran Majeti', 'Lukman Hussain Meriwala', 'Anuj Raj',\n",
       "       'Ankit Singh Rajpoot', 'Prince Yadav', 'Prithviraj Yarra',\n",
       "       'Mushtaq Beg', 'Rocky Bhasker', 'Sanjith Devaraj',\n",
       "       'Allah Mohammad', 'Lalit Mohan', 'Bhuwan Rohilla', 'Aman Sharma',\n",
       "       'Manav Suthar', 'Tom Curran', 'Moises Henriques', 'Afif Hossain',\n",
       "       'Scott Kuggeleijn', 'Sisanda Magala', 'Craig Overton',\n",
       "       'Darcy Short', 'Dhananjaya Silva', 'Dunith Wellalage',\n",
       "       'Varun Aaron', 'Sheldon Cottrel', 'Nathan Coulter-Nile',\n",
       "       'Daryn Dupavillon', 'Matt Henry', 'Dhawal Kulkarni', 'Tymal Mills',\n",
       "       'David Payne', 'Barinder Sran', 'Glenton Stuurman',\n",
       "       'Anirudh Balachander', 'Gourav Choudhary', 'Saurav Chuahan',\n",
       "       'Kumar Deobrat', 'Chirag Gandhi', 'Arman Jaffer', 'Madhav Kaushik',\n",
       "       'Priyank Panchal', 'Ayush Pandey', 'Rohan Patil',\n",
       "       'Sanjay Ramaswamy', 'Siddharth Yadav', 'Rehan Ahmed',\n",
       "       'Prayas Barman', 'Rahul Buddhi', 'Vaisakh Chandran',\n",
       "       'Writtick Chatterjee', 'Prashant Chopra', 'Harsh Dubey',\n",
       "       'Tanush Kotian', 'Ninad Rathva', 'B. Surya', 'Jordan Thompson',\n",
       "       'Shivank Vashisth', 'Ankush Bains', 'Christopher Benjamin',\n",
       "       'Connor Esterhuizen', 'Mohd Arslan Khan', 'Mamidi Krishna',\n",
       "       'Fazil Makaya', 'Akshdeep Nath', 'Deepak Punia', 'Ateev Saini',\n",
       "       'Bipin Saurabh', 'B.R. Sharath', 'Yashovardhan Singh',\n",
       "       'Lakshay Thareja', 'Mohit Avasthi', 'Ottneil Baartman',\n",
       "       'Gurnoor Singh Brar', 'Shahrukh Dar', 'Thomas Helm',\n",
       "       'Pankaj Jaswal', 'Venkatesh Muralidhara', 'Geet Puri',\n",
       "       'E. Sanketh', 'Ajay Sarkar', 'Ashok Sharma', 'Kanwar Singh',\n",
       "       'Fabian Allen', 'Carlos Brathwaite', 'Roston Chase',\n",
       "       'Rahkeem Cornwall', 'Karim Janat', 'Keshav Maharaj', 'Pawan Negi',\n",
       "       'Keemo Paul', 'Shivam Chaudhary', 'Ashwin Das', 'James Fuller',\n",
       "       'Chirag Jani', 'Akshay Karnewar', 'Bhagmender Lather',\n",
       "       'Lone Muzaffar', 'Pulkit Narang', 'Rohit Rayudu', 'Sameer Rizvi',\n",
       "       'Tunish Sawkar', 'Auqib Dar', 'Mukhtar Hussain', 'Ashwani Kumar',\n",
       "       'Hemant Kumar', 'Nathan McAndrew', 'Rajesh Mohanty', 'Ravi Sharma',\n",
       "       'Vikash Singh', 'Ruben Trumpelmann', 'Koushik Vasuki', 'Vasu Vats',\n",
       "       'Shubham Agrawal', 'Baba Aparajith', 'Anshul Kamboj', 'Azim Kazi',\n",
       "       'Dev Lakra', 'Jitender Pal', 'Ritwik Roy Chowdhury',\n",
       "       'Utkarsh Singh', 'Shubham Singh', 'Avneesh Sudha',\n",
       "       'Asad Jamil Ahmed', 'Bandaru Ayyappa', 'Aashish Bhatt',\n",
       "       'McKenny Clarke', 'Shubham Kapse', 'Gourav Koul', 'Raunak Kumar',\n",
       "       'Trilok Nag', 'Atal Bihari Rai', 'Ramon Simmonds', 'Rajeev Singh',\n",
       "       'Mohd. Wasim', 'Atharva Ankolekar', 'Khizar Dafedar', 'Naman Dhir',\n",
       "       'Sahil Dhiwan', 'Sampark Gupta', 'Jordan Hermann', 'Hayden Kerr',\n",
       "       'Salman Khan', 'Sairaj Patil', 'Divyaansh Saxena', 'Purnank Tyagi',\n",
       "       'Deepraj Gaonkar', 'Shubham Garhwal', 'Benny Howell',\n",
       "       'Deepesh Nailwal', 'Arjun Rapria', 'Shashwat Rawat',\n",
       "       'Sumit Ruikar', 'Rajandeep Singh', 'Anunay Singh', 'Digvesh Singh',\n",
       "       'Pranshu Vijayran', 'Prerit Dutta', 'Ramakrishna Ghosh',\n",
       "       'Shubhang Hegde', 'Shamshuzama Kazi', 'Ayaz Khan', 'Amit Pachhara',\n",
       "       'Akul Pandove', 'Garv Sangwan', 'Shubham Sharma', 'Amit Yadav',\n",
       "       'Amit Ali', 'Rishabh Chauhan', 'Matthew Forde', 'Sammar Gajjar',\n",
       "       'Rajneesh Gurbani', 'Divyansh Joshi', 'Dhruv Patel',\n",
       "       'Jack Prestwidge', 'Aditya Sarvate', 'Sagar Solanki',\n",
       "       'Prenelan Subrayen'], dtype=object)"
      ]
     },
     "execution_count": 10,
     "metadata": {},
     "output_type": "execute_result"
    }
   ],
   "source": [
    "df['Player Name'].unique()"
   ]
  },
  {
   "cell_type": "code",
   "execution_count": 11,
   "id": "a7977a9e",
   "metadata": {
    "execution": {
     "iopub.execute_input": "2023-06-02T08:31:38.059897Z",
     "iopub.status.busy": "2023-06-02T08:31:38.059432Z",
     "iopub.status.idle": "2023-06-02T08:31:38.067422Z",
     "shell.execute_reply": "2023-06-02T08:31:38.066320Z"
    },
    "id": "UwMALAuObJm9",
    "outputId": "8adc776d-64c3-4ba3-c147-823e88335e9e",
    "papermill": {
     "duration": 0.025289,
     "end_time": "2023-06-02T08:31:38.069861",
     "exception": false,
     "start_time": "2023-06-02T08:31:38.044572",
     "status": "completed"
    },
    "tags": []
   },
   "outputs": [
    {
     "data": {
      "text/plain": [
       "array([ 6.  ,  4.4 ,  2.  ,  1.2 ,  0.5 ,  0.2 ,  0.  , 16.25,  1.  ,\n",
       "        0.6 ,  5.5 ,  4.6 ,  2.4 ,  1.5 ,  0.9 , 18.5 ,  0.4 , 16.  ,\n",
       "        0.75,  0.45, 17.5 ,  3.2 ,  1.9 ,  0.7 ,  5.75,  0.3 , 13.25,\n",
       "        8.25,  5.25,  2.6 ,  1.8 ,  0.25,   nan])"
      ]
     },
     "execution_count": 11,
     "metadata": {},
     "output_type": "execute_result"
    }
   ],
   "source": [
    "df['Cost in Rs. (CR)'].unique()"
   ]
  },
  {
   "cell_type": "code",
   "execution_count": 12,
   "id": "4201042a",
   "metadata": {
    "execution": {
     "iopub.execute_input": "2023-06-02T08:31:38.097185Z",
     "iopub.status.busy": "2023-06-02T08:31:38.096331Z",
     "iopub.status.idle": "2023-06-02T08:31:38.102950Z",
     "shell.execute_reply": "2023-06-02T08:31:38.101734Z"
    },
    "id": "HPetMSYAbbFH",
    "papermill": {
     "duration": 0.023226,
     "end_time": "2023-06-02T08:31:38.105523",
     "exception": false,
     "start_time": "2023-06-02T08:31:38.082297",
     "status": "completed"
    },
    "tags": []
   },
   "outputs": [],
   "source": [
    "df['Cost in Rs. (CR)'] = df['Cost in Rs. (CR)'].fillna(0)"
   ]
  },
  {
   "cell_type": "code",
   "execution_count": 13,
   "id": "e29e20f0",
   "metadata": {
    "execution": {
     "iopub.execute_input": "2023-06-02T08:31:38.133715Z",
     "iopub.status.busy": "2023-06-02T08:31:38.133093Z",
     "iopub.status.idle": "2023-06-02T08:31:38.139786Z",
     "shell.execute_reply": "2023-06-02T08:31:38.138588Z"
    },
    "id": "zA_wc8E0biuA",
    "outputId": "4c990228-8eec-4080-ed91-14163a32bb3a",
    "papermill": {
     "duration": 0.023518,
     "end_time": "2023-06-02T08:31:38.142326",
     "exception": false,
     "start_time": "2023-06-02T08:31:38.118808",
     "status": "completed"
    },
    "tags": []
   },
   "outputs": [
    {
     "name": "stdout",
     "output_type": "stream",
     "text": [
      "['KKR' nan 'SRH' 'DC' 'PBKS' 'GT' 'CSK' 'LSG' 'MI' 'RCB' 'RR']\n",
      "['GT' 'CSK' 'DC' 'KKR' 'PBKS' 'LSG' 'MI' 'RCB' 'RR' 'SRH' 'Unsold']\n"
     ]
    }
   ],
   "source": [
    "print(df['2022 Squad'].unique())\n",
    "print(df['2023 Squad'].unique())"
   ]
  },
  {
   "cell_type": "code",
   "execution_count": 14,
   "id": "f858e581",
   "metadata": {
    "execution": {
     "iopub.execute_input": "2023-06-02T08:31:38.170410Z",
     "iopub.status.busy": "2023-06-02T08:31:38.169422Z",
     "iopub.status.idle": "2023-06-02T08:31:38.176880Z",
     "shell.execute_reply": "2023-06-02T08:31:38.175823Z"
    },
    "id": "msISRKUUeIXF",
    "papermill": {
     "duration": 0.024064,
     "end_time": "2023-06-02T08:31:38.179125",
     "exception": false,
     "start_time": "2023-06-02T08:31:38.155061",
     "status": "completed"
    },
    "tags": []
   },
   "outputs": [],
   "source": [
    "df['2022 Squad'] = df['2022 Squad'].fillna('Unsold')\n",
    "df['2023 Squad'] = df['2023 Squad'].fillna('Unsold')"
   ]
  },
  {
   "cell_type": "code",
   "execution_count": 15,
   "id": "4547131a",
   "metadata": {
    "execution": {
     "iopub.execute_input": "2023-06-02T08:31:38.205860Z",
     "iopub.status.busy": "2023-06-02T08:31:38.205441Z",
     "iopub.status.idle": "2023-06-02T08:31:38.216414Z",
     "shell.execute_reply": "2023-06-02T08:31:38.215227Z"
    },
    "id": "uG68k5nreZW0",
    "outputId": "a68c0eb2-0f72-4cea-ba6e-3d75dc8c7e04",
    "papermill": {
     "duration": 0.027314,
     "end_time": "2023-06-02T08:31:38.218949",
     "exception": false,
     "start_time": "2023-06-02T08:31:38.191635",
     "status": "completed"
    },
    "tags": []
   },
   "outputs": [
    {
     "data": {
      "text/plain": [
       "Player Name            565\n",
       "Base Price (in cr.)     10\n",
       "Type                     4\n",
       "Cost in Rs. (CR)        32\n",
       "2022 Squad              11\n",
       "2023 Squad              11\n",
       "dtype: int64"
      ]
     },
     "execution_count": 15,
     "metadata": {},
     "output_type": "execute_result"
    }
   ],
   "source": [
    "df.nunique()"
   ]
  },
  {
   "cell_type": "code",
   "execution_count": 16,
   "id": "f214b4d3",
   "metadata": {
    "execution": {
     "iopub.execute_input": "2023-06-02T08:31:38.246400Z",
     "iopub.status.busy": "2023-06-02T08:31:38.246005Z",
     "iopub.status.idle": "2023-06-02T08:31:38.264694Z",
     "shell.execute_reply": "2023-06-02T08:31:38.263555Z"
    },
    "id": "d71afCI_e13P",
    "outputId": "581270ab-86a1-4d56-8555-5a3639f7cf3b",
    "papermill": {
     "duration": 0.035556,
     "end_time": "2023-06-02T08:31:38.267276",
     "exception": false,
     "start_time": "2023-06-02T08:31:38.231720",
     "status": "completed"
    },
    "tags": []
   },
   "outputs": [
    {
     "data": {
      "text/html": [
       "<div>\n",
       "<style scoped>\n",
       "    .dataframe tbody tr th:only-of-type {\n",
       "        vertical-align: middle;\n",
       "    }\n",
       "\n",
       "    .dataframe tbody tr th {\n",
       "        vertical-align: top;\n",
       "    }\n",
       "\n",
       "    .dataframe thead th {\n",
       "        text-align: right;\n",
       "    }\n",
       "</style>\n",
       "<table border=\"1\" class=\"dataframe\">\n",
       "  <thead>\n",
       "    <tr style=\"text-align: right;\">\n",
       "      <th></th>\n",
       "      <th>Player Name</th>\n",
       "      <th>Base Price (in cr.)</th>\n",
       "      <th>Type</th>\n",
       "      <th>Cost in Rs. (CR)</th>\n",
       "      <th>2022 Squad</th>\n",
       "      <th>2023 Squad</th>\n",
       "    </tr>\n",
       "  </thead>\n",
       "  <tbody>\n",
       "    <tr>\n",
       "      <th>243</th>\n",
       "      <td>Tom Banton</td>\n",
       "      <td>2.0</td>\n",
       "      <td>WICKETKEEPER</td>\n",
       "      <td>0.0</td>\n",
       "      <td>Unsold</td>\n",
       "      <td>Unsold</td>\n",
       "    </tr>\n",
       "    <tr>\n",
       "      <th>244</th>\n",
       "      <td>Kusal Mendis</td>\n",
       "      <td>0.5</td>\n",
       "      <td>WICKETKEEPER</td>\n",
       "      <td>0.0</td>\n",
       "      <td>Unsold</td>\n",
       "      <td>Unsold</td>\n",
       "    </tr>\n",
       "    <tr>\n",
       "      <th>245</th>\n",
       "      <td>Chris Jordan</td>\n",
       "      <td>2.0</td>\n",
       "      <td>BOWLER</td>\n",
       "      <td>0.0</td>\n",
       "      <td>CSK</td>\n",
       "      <td>Unsold</td>\n",
       "    </tr>\n",
       "    <tr>\n",
       "      <th>246</th>\n",
       "      <td>Adam Milne</td>\n",
       "      <td>2.0</td>\n",
       "      <td>BOWLER</td>\n",
       "      <td>0.0</td>\n",
       "      <td>CSK</td>\n",
       "      <td>Unsold</td>\n",
       "    </tr>\n",
       "    <tr>\n",
       "      <th>247</th>\n",
       "      <td>Mujeeb Rahman</td>\n",
       "      <td>1.0</td>\n",
       "      <td>BOWLER</td>\n",
       "      <td>0.0</td>\n",
       "      <td>Unsold</td>\n",
       "      <td>Unsold</td>\n",
       "    </tr>\n",
       "  </tbody>\n",
       "</table>\n",
       "</div>"
      ],
      "text/plain": [
       "       Player Name  Base Price (in cr.)          Type  Cost in Rs. (CR)  \\\n",
       "243     Tom Banton                  2.0  WICKETKEEPER               0.0   \n",
       "244   Kusal Mendis                  0.5  WICKETKEEPER               0.0   \n",
       "245   Chris Jordan                  2.0        BOWLER               0.0   \n",
       "246     Adam Milne                  2.0        BOWLER               0.0   \n",
       "247  Mujeeb Rahman                  1.0        BOWLER               0.0   \n",
       "\n",
       "    2022 Squad 2023 Squad  \n",
       "243     Unsold     Unsold  \n",
       "244     Unsold     Unsold  \n",
       "245        CSK     Unsold  \n",
       "246        CSK     Unsold  \n",
       "247     Unsold     Unsold  "
      ]
     },
     "execution_count": 16,
     "metadata": {},
     "output_type": "execute_result"
    }
   ],
   "source": [
    "df_Unsold_players = df[df['2023 Squad'] == 'Unsold']\n",
    "df_Unsold_players.head()"
   ]
  },
  {
   "cell_type": "code",
   "execution_count": 17,
   "id": "3e26c7cf",
   "metadata": {
    "execution": {
     "iopub.execute_input": "2023-06-02T08:31:38.295356Z",
     "iopub.status.busy": "2023-06-02T08:31:38.294968Z",
     "iopub.status.idle": "2023-06-02T08:31:38.303007Z",
     "shell.execute_reply": "2023-06-02T08:31:38.301897Z"
    },
    "id": "KwQj2YYYfBhc",
    "outputId": "17ac31b7-c849-4a2d-b6f5-0bfc9830a95e",
    "papermill": {
     "duration": 0.025215,
     "end_time": "2023-06-02T08:31:38.305905",
     "exception": false,
     "start_time": "2023-06-02T08:31:38.280690",
     "status": "completed"
    },
    "tags": []
   },
   "outputs": [
    {
     "name": "stdout",
     "output_type": "stream",
     "text": [
      "Akash Singh            2\n",
      "Prince Yadav           2\n",
      "Shivam Sharma          2\n",
      "Shivam Mavi            1\n",
      "Bharat Sharma          1\n",
      "                      ..\n",
      "Suyash Prabhudessai    1\n",
      "Virat Kohli            1\n",
      "Karn Sharma            1\n",
      "Wanindu Hasaranga      1\n",
      "Prenelan Subrayen      1\n",
      "Name: Player Name, Length: 565, dtype: int64\n"
     ]
    }
   ],
   "source": [
    "print(df['Player Name'].value_counts())"
   ]
  },
  {
   "cell_type": "code",
   "execution_count": 18,
   "id": "fa9eefe7",
   "metadata": {
    "execution": {
     "iopub.execute_input": "2023-06-02T08:31:38.333884Z",
     "iopub.status.busy": "2023-06-02T08:31:38.333452Z",
     "iopub.status.idle": "2023-06-02T08:31:38.343649Z",
     "shell.execute_reply": "2023-06-02T08:31:38.342556Z"
    },
    "id": "pMInQGa5i6FC",
    "outputId": "423e1c2e-afac-4fe8-dd65-991412e47eb6",
    "papermill": {
     "duration": 0.027077,
     "end_time": "2023-06-02T08:31:38.346196",
     "exception": false,
     "start_time": "2023-06-02T08:31:38.319119",
     "status": "completed"
    },
    "tags": []
   },
   "outputs": [
    {
     "data": {
      "text/plain": [
       "Akash Singh            2\n",
       "Prince Yadav           2\n",
       "Shivam Sharma          2\n",
       "Shivam Mavi            1\n",
       "Bharat Sharma          1\n",
       "                      ..\n",
       "Suyash Prabhudessai    1\n",
       "Virat Kohli            1\n",
       "Karn Sharma            1\n",
       "Wanindu Hasaranga      1\n",
       "Prenelan Subrayen      1\n",
       "Name: Player Name, Length: 565, dtype: int64"
      ]
     },
     "execution_count": 18,
     "metadata": {},
     "output_type": "execute_result"
    }
   ],
   "source": [
    "df['Player Name'].value_counts()"
   ]
  },
  {
   "cell_type": "code",
   "execution_count": 19,
   "id": "e7326c32",
   "metadata": {
    "execution": {
     "iopub.execute_input": "2023-06-02T08:31:38.374993Z",
     "iopub.status.busy": "2023-06-02T08:31:38.374584Z",
     "iopub.status.idle": "2023-06-02T08:31:38.391267Z",
     "shell.execute_reply": "2023-06-02T08:31:38.390088Z"
    },
    "id": "Vta-XlZ9jOaS",
    "outputId": "6b1f061d-40d7-4b64-bc73-a046d22df261",
    "papermill": {
     "duration": 0.033976,
     "end_time": "2023-06-02T08:31:38.393788",
     "exception": false,
     "start_time": "2023-06-02T08:31:38.359812",
     "status": "completed"
    },
    "tags": []
   },
   "outputs": [
    {
     "data": {
      "text/html": [
       "<div>\n",
       "<style scoped>\n",
       "    .dataframe tbody tr th:only-of-type {\n",
       "        vertical-align: middle;\n",
       "    }\n",
       "\n",
       "    .dataframe tbody tr th {\n",
       "        vertical-align: top;\n",
       "    }\n",
       "\n",
       "    .dataframe thead th {\n",
       "        text-align: right;\n",
       "    }\n",
       "</style>\n",
       "<table border=\"1\" class=\"dataframe\">\n",
       "  <thead>\n",
       "    <tr style=\"text-align: right;\">\n",
       "      <th></th>\n",
       "      <th>Player Name</th>\n",
       "      <th>Base Price (in cr.)</th>\n",
       "      <th>Type</th>\n",
       "      <th>Cost in Rs. (CR)</th>\n",
       "      <th>2022 Squad</th>\n",
       "      <th>2023 Squad</th>\n",
       "    </tr>\n",
       "  </thead>\n",
       "  <tbody>\n",
       "    <tr>\n",
       "      <th>316</th>\n",
       "      <td>Akash Singh</td>\n",
       "      <td>0.2</td>\n",
       "      <td>BOWLER</td>\n",
       "      <td>0.0</td>\n",
       "      <td>Unsold</td>\n",
       "      <td>Unsold</td>\n",
       "    </tr>\n",
       "    <tr>\n",
       "      <th>326</th>\n",
       "      <td>Shivam Sharma</td>\n",
       "      <td>0.2</td>\n",
       "      <td>BOWLER</td>\n",
       "      <td>0.0</td>\n",
       "      <td>Unsold</td>\n",
       "      <td>Unsold</td>\n",
       "    </tr>\n",
       "    <tr>\n",
       "      <th>362</th>\n",
       "      <td>Akash Singh</td>\n",
       "      <td>0.2</td>\n",
       "      <td>BATSMAN</td>\n",
       "      <td>0.0</td>\n",
       "      <td>Unsold</td>\n",
       "      <td>Unsold</td>\n",
       "    </tr>\n",
       "    <tr>\n",
       "      <th>393</th>\n",
       "      <td>Prince Yadav</td>\n",
       "      <td>0.2</td>\n",
       "      <td>BOWLER</td>\n",
       "      <td>0.0</td>\n",
       "      <td>Unsold</td>\n",
       "      <td>Unsold</td>\n",
       "    </tr>\n",
       "    <tr>\n",
       "      <th>534</th>\n",
       "      <td>Prince Yadav</td>\n",
       "      <td>0.2</td>\n",
       "      <td>ALL-ROUNDER</td>\n",
       "      <td>0.0</td>\n",
       "      <td>Unsold</td>\n",
       "      <td>Unsold</td>\n",
       "    </tr>\n",
       "    <tr>\n",
       "      <th>542</th>\n",
       "      <td>Shivam Sharma</td>\n",
       "      <td>0.2</td>\n",
       "      <td>ALL-ROUNDER</td>\n",
       "      <td>0.0</td>\n",
       "      <td>Unsold</td>\n",
       "      <td>Unsold</td>\n",
       "    </tr>\n",
       "  </tbody>\n",
       "</table>\n",
       "</div>"
      ],
      "text/plain": [
       "       Player Name  Base Price (in cr.)         Type  Cost in Rs. (CR)  \\\n",
       "316    Akash Singh                  0.2       BOWLER               0.0   \n",
       "326  Shivam Sharma                  0.2       BOWLER               0.0   \n",
       "362    Akash Singh                  0.2      BATSMAN               0.0   \n",
       "393   Prince Yadav                  0.2       BOWLER               0.0   \n",
       "534   Prince Yadav                  0.2  ALL-ROUNDER               0.0   \n",
       "542  Shivam Sharma                  0.2  ALL-ROUNDER               0.0   \n",
       "\n",
       "    2022 Squad 2023 Squad  \n",
       "316     Unsold     Unsold  \n",
       "326     Unsold     Unsold  \n",
       "362     Unsold     Unsold  \n",
       "393     Unsold     Unsold  \n",
       "534     Unsold     Unsold  \n",
       "542     Unsold     Unsold  "
      ]
     },
     "execution_count": 19,
     "metadata": {},
     "output_type": "execute_result"
    }
   ],
   "source": [
    "# Duplicates\n",
    "df[df['Player Name'].isin(['Akash Singh','Prince Yadav','Shivam Sharma'])]"
   ]
  },
  {
   "cell_type": "markdown",
   "id": "8084f758",
   "metadata": {
    "id": "2_gH3v5kqTLl",
    "papermill": {
     "duration": 0.013141,
     "end_time": "2023-06-02T08:31:38.420450",
     "exception": false,
     "start_time": "2023-06-02T08:31:38.407309",
     "status": "completed"
    },
    "tags": []
   },
   "source": []
  },
  {
   "cell_type": "code",
   "execution_count": 20,
   "id": "f112006a",
   "metadata": {
    "execution": {
     "iopub.execute_input": "2023-06-02T08:31:38.449761Z",
     "iopub.status.busy": "2023-06-02T08:31:38.449334Z",
     "iopub.status.idle": "2023-06-02T08:31:38.457741Z",
     "shell.execute_reply": "2023-06-02T08:31:38.456630Z"
    },
    "id": "GVMFmljRmF2Q",
    "outputId": "358de6e9-fca0-4ac8-ce10-d2244a620aed",
    "papermill": {
     "duration": 0.02596,
     "end_time": "2023-06-02T08:31:38.460104",
     "exception": false,
     "start_time": "2023-06-02T08:31:38.434144",
     "status": "completed"
    },
    "tags": []
   },
   "outputs": [
    {
     "data": {
      "text/plain": [
       "ALL-ROUNDER     213\n",
       "BOWLER          189\n",
       "BATSMAN          91\n",
       "WICKETKEEPER     75\n",
       "Name: Type, dtype: int64"
      ]
     },
     "execution_count": 20,
     "metadata": {},
     "output_type": "execute_result"
    }
   ],
   "source": [
    "df['Type'].value_counts()"
   ]
  },
  {
   "cell_type": "code",
   "execution_count": 21,
   "id": "447b6754",
   "metadata": {
    "execution": {
     "iopub.execute_input": "2023-06-02T08:31:38.490511Z",
     "iopub.status.busy": "2023-06-02T08:31:38.489830Z",
     "iopub.status.idle": "2023-06-02T08:31:38.765801Z",
     "shell.execute_reply": "2023-06-02T08:31:38.764658Z"
    },
    "id": "lXsYIPMP3iTi",
    "outputId": "13fd4623-8c48-43fe-b046-04f12f058f25",
    "papermill": {
     "duration": 0.29458,
     "end_time": "2023-06-02T08:31:38.768359",
     "exception": false,
     "start_time": "2023-06-02T08:31:38.473779",
     "status": "completed"
    },
    "tags": []
   },
   "outputs": [
    {
     "data": {
      "image/png": "[encoded data removed]",
      "text/plain": [
       "<Figure size 640x480 with 1 Axes>"
      ]
     },
     "metadata": {},
     "output_type": "display_data"
    }
   ],
   "source": [
    "plt.hist(df['Type'])\n",
    "plt.xlabel('Player Category')\n",
    "plt.ylabel('Price (in cr.)')\n",
    "plt.show()"
   ]
  },
  {
   "cell_type": "code",
   "execution_count": 22,
   "id": "75518ad1",
   "metadata": {
    "execution": {
     "iopub.execute_input": "2023-06-02T08:31:38.799108Z",
     "iopub.status.busy": "2023-06-02T08:31:38.798419Z",
     "iopub.status.idle": "2023-06-02T08:31:39.093976Z",
     "shell.execute_reply": "2023-06-02T08:31:39.092848Z"
    },
    "id": "rekS_ioz4MhA",
    "outputId": "31ce5c12-41e1-4e94-f027-9992377f6c70",
    "papermill": {
     "duration": 0.313957,
     "end_time": "2023-06-02T08:31:39.096568",
     "exception": false,
     "start_time": "2023-06-02T08:31:38.782611",
     "status": "completed"
    },
    "tags": []
   },
   "outputs": [
    {
     "data": {
      "text/plain": [
       "(array([549.,   7.,   4.,   2.,   1.,   0.,   0.,   1.,   2.,   2.]),\n",
       " array([ 0.  ,  1.85,  3.7 ,  5.55,  7.4 ,  9.25, 11.1 , 12.95, 14.8 ,\n",
       "        16.65, 18.5 ]),\n",
       " <BarContainer object of 10 artists>)"
      ]
     },
     "execution_count": 22,
     "metadata": {},
     "output_type": "execute_result"
    },
    {
     "data": {
      "image/png": "[encoded data removed]",
      "text/plain": [
       "<Figure size 640x480 with 1 Axes>"
      ]
     },
     "metadata": {},
     "output_type": "display_data"
    }
   ],
   "source": [
    "plt.hist(df['Cost in Rs. (CR)'],bins=10)"
   ]
  },
  {
   "cell_type": "code",
   "execution_count": 23,
   "id": "c7d2a663",
   "metadata": {
    "execution": {
     "iopub.execute_input": "2023-06-02T08:31:39.128403Z",
     "iopub.status.busy": "2023-06-02T08:31:39.128006Z",
     "iopub.status.idle": "2023-06-02T08:31:39.136918Z",
     "shell.execute_reply": "2023-06-02T08:31:39.135817Z"
    },
    "id": "Zb05pdfK6GMx",
    "outputId": "aaa79977-9443-4a7d-9a7f-7667a1218768",
    "papermill": {
     "duration": 0.027562,
     "end_time": "2023-06-02T08:31:39.139200",
     "exception": false,
     "start_time": "2023-06-02T08:31:39.111638",
     "status": "completed"
    },
    "tags": []
   },
   "outputs": [
    {
     "data": {
      "text/plain": [
       "Unsold    325\n",
       "GT         25\n",
       "CSK        25\n",
       "DC         25\n",
       "LSG        25\n",
       "RCB        25\n",
       "RR         25\n",
       "SRH        25\n",
       "MI         24\n",
       "KKR        22\n",
       "PBKS       22\n",
       "Name: 2023 Squad, dtype: int64"
      ]
     },
     "execution_count": 23,
     "metadata": {},
     "output_type": "execute_result"
    }
   ],
   "source": [
    "df['2023 Squad'].value_counts()"
   ]
  },
  {
   "cell_type": "code",
   "execution_count": 24,
   "id": "c9264594",
   "metadata": {
    "execution": {
     "iopub.execute_input": "2023-06-02T08:31:39.170932Z",
     "iopub.status.busy": "2023-06-02T08:31:39.170313Z",
     "iopub.status.idle": "2023-06-02T08:31:39.185284Z",
     "shell.execute_reply": "2023-06-02T08:31:39.184202Z"
    },
    "id": "wLoi8WMJ6_ue",
    "outputId": "87163313-b8d0-4f59-d793-092292e6f626",
    "papermill": {
     "duration": 0.03347,
     "end_time": "2023-06-02T08:31:39.187617",
     "exception": false,
     "start_time": "2023-06-02T08:31:39.154147",
     "status": "completed"
    },
    "tags": []
   },
   "outputs": [
    {
     "data": {
      "text/html": [
       "<div>\n",
       "<style scoped>\n",
       "    .dataframe tbody tr th:only-of-type {\n",
       "        vertical-align: middle;\n",
       "    }\n",
       "\n",
       "    .dataframe tbody tr th {\n",
       "        vertical-align: top;\n",
       "    }\n",
       "\n",
       "    .dataframe thead th {\n",
       "        text-align: right;\n",
       "    }\n",
       "</style>\n",
       "<table border=\"1\" class=\"dataframe\">\n",
       "  <thead>\n",
       "    <tr style=\"text-align: right;\">\n",
       "      <th></th>\n",
       "      <th>Player Name</th>\n",
       "      <th>Base Price (in cr.)</th>\n",
       "      <th>Type</th>\n",
       "      <th>Cost in Rs. (CR)</th>\n",
       "      <th>2022 Squad</th>\n",
       "      <th>2023 Squad</th>\n",
       "    </tr>\n",
       "  </thead>\n",
       "  <tbody>\n",
       "    <tr>\n",
       "      <th>0</th>\n",
       "      <td>Shivam Mavi</td>\n",
       "      <td>0.4</td>\n",
       "      <td>BOWLER</td>\n",
       "      <td>6.0</td>\n",
       "      <td>KKR</td>\n",
       "      <td>GT</td>\n",
       "    </tr>\n",
       "    <tr>\n",
       "      <th>1</th>\n",
       "      <td>Joshua Little</td>\n",
       "      <td>0.5</td>\n",
       "      <td>BOWLER</td>\n",
       "      <td>4.4</td>\n",
       "      <td>Unsold</td>\n",
       "      <td>GT</td>\n",
       "    </tr>\n",
       "    <tr>\n",
       "      <th>2</th>\n",
       "      <td>Kane Williamson</td>\n",
       "      <td>2.0</td>\n",
       "      <td>BATSMAN</td>\n",
       "      <td>2.0</td>\n",
       "      <td>SRH</td>\n",
       "      <td>GT</td>\n",
       "    </tr>\n",
       "    <tr>\n",
       "      <th>3</th>\n",
       "      <td>K.S. Bharat</td>\n",
       "      <td>0.2</td>\n",
       "      <td>WICKETKEEPER</td>\n",
       "      <td>1.2</td>\n",
       "      <td>DC</td>\n",
       "      <td>GT</td>\n",
       "    </tr>\n",
       "    <tr>\n",
       "      <th>4</th>\n",
       "      <td>Mohit Sharma</td>\n",
       "      <td>0.5</td>\n",
       "      <td>BOWLER</td>\n",
       "      <td>0.5</td>\n",
       "      <td>Unsold</td>\n",
       "      <td>GT</td>\n",
       "    </tr>\n",
       "  </tbody>\n",
       "</table>\n",
       "</div>"
      ],
      "text/plain": [
       "       Player Name  Base Price (in cr.)          Type  Cost in Rs. (CR)  \\\n",
       "0      Shivam Mavi                  0.4        BOWLER               6.0   \n",
       "1    Joshua Little                  0.5        BOWLER               4.4   \n",
       "2  Kane Williamson                  2.0       BATSMAN               2.0   \n",
       "3      K.S. Bharat                  0.2  WICKETKEEPER               1.2   \n",
       "4     Mohit Sharma                  0.5        BOWLER               0.5   \n",
       "\n",
       "  2022 Squad 2023 Squad  \n",
       "0        KKR         GT  \n",
       "1     Unsold         GT  \n",
       "2        SRH         GT  \n",
       "3         DC         GT  \n",
       "4     Unsold         GT  "
      ]
     },
     "execution_count": 24,
     "metadata": {},
     "output_type": "execute_result"
    }
   ],
   "source": [
    "df_Sold_players = df[df['2023 Squad'] != 'Unsold']\n",
    "df_Sold_players.head()"
   ]
  },
  {
   "cell_type": "code",
   "execution_count": 25,
   "id": "5e6a89cd",
   "metadata": {
    "execution": {
     "iopub.execute_input": "2023-06-02T08:31:39.219444Z",
     "iopub.status.busy": "2023-06-02T08:31:39.218823Z",
     "iopub.status.idle": "2023-06-02T08:31:39.230614Z",
     "shell.execute_reply": "2023-06-02T08:31:39.229527Z"
    },
    "id": "J3DCmJFk6fOD",
    "outputId": "4369574e-db08-4064-a9e1-90013fbb3023",
    "papermill": {
     "duration": 0.030678,
     "end_time": "2023-06-02T08:31:39.233161",
     "exception": false,
     "start_time": "2023-06-02T08:31:39.202483",
     "status": "completed"
    },
    "tags": []
   },
   "outputs": [
    {
     "data": {
      "text/html": [
       "<div>\n",
       "<style scoped>\n",
       "    .dataframe tbody tr th:only-of-type {\n",
       "        vertical-align: middle;\n",
       "    }\n",
       "\n",
       "    .dataframe tbody tr th {\n",
       "        vertical-align: top;\n",
       "    }\n",
       "\n",
       "    .dataframe thead th {\n",
       "        text-align: right;\n",
       "    }\n",
       "</style>\n",
       "<table border=\"1\" class=\"dataframe\">\n",
       "  <thead>\n",
       "    <tr style=\"text-align: right;\">\n",
       "      <th></th>\n",
       "      <th>Cost in Rs. (CR)</th>\n",
       "    </tr>\n",
       "    <tr>\n",
       "      <th>Type</th>\n",
       "      <th></th>\n",
       "    </tr>\n",
       "  </thead>\n",
       "  <tbody>\n",
       "    <tr>\n",
       "      <th>ALL-ROUNDER</th>\n",
       "      <td>87</td>\n",
       "    </tr>\n",
       "    <tr>\n",
       "      <th>BATSMAN</th>\n",
       "      <td>41</td>\n",
       "    </tr>\n",
       "    <tr>\n",
       "      <th>BOWLER</th>\n",
       "      <td>85</td>\n",
       "    </tr>\n",
       "    <tr>\n",
       "      <th>WICKETKEEPER</th>\n",
       "      <td>30</td>\n",
       "    </tr>\n",
       "  </tbody>\n",
       "</table>\n",
       "</div>"
      ],
      "text/plain": [
       "              Cost in Rs. (CR)\n",
       "Type                          \n",
       "ALL-ROUNDER                 87\n",
       "BATSMAN                     41\n",
       "BOWLER                      85\n",
       "WICKETKEEPER                30"
      ]
     },
     "execution_count": 25,
     "metadata": {},
     "output_type": "execute_result"
    }
   ],
   "source": [
    "df_Sold_players.groupby('Type').agg({'Cost in Rs. (CR)':'count'})"
   ]
  },
  {
   "cell_type": "code",
   "execution_count": 26,
   "id": "6db4fc0e",
   "metadata": {
    "execution": {
     "iopub.execute_input": "2023-06-02T08:31:39.265977Z",
     "iopub.status.busy": "2023-06-02T08:31:39.265588Z",
     "iopub.status.idle": "2023-06-02T08:31:39.276170Z",
     "shell.execute_reply": "2023-06-02T08:31:39.274803Z"
    },
    "id": "V-DgjS8l6t9s",
    "outputId": "2238bcb4-9385-4ebb-d401-1dca5f838022",
    "papermill": {
     "duration": 0.029568,
     "end_time": "2023-06-02T08:31:39.278358",
     "exception": false,
     "start_time": "2023-06-02T08:31:39.248790",
     "status": "completed"
    },
    "tags": []
   },
   "outputs": [
    {
     "name": "stdout",
     "output_type": "stream",
     "text": [
      "Type\n",
      "ALL-ROUNDER     70.75\n",
      "BATSMAN         36.50\n",
      "BOWLER          32.15\n",
      "WICKETKEEPER    27.60\n",
      "Name: Cost in Rs. (CR), dtype: float64\n",
      "\n",
      "\n",
      "Total Base price of all players :\n",
      "\n",
      "Type\n",
      "ALL-ROUNDER     58.45\n",
      "BATSMAN         28.50\n",
      "BOWLER          48.35\n",
      "WICKETKEEPER    21.75\n",
      "Name: Base Price (in cr.), dtype: float64\n"
     ]
    }
   ],
   "source": [
    "# Total money spent on sold players by category-wise vs Base Price\n",
    "print(df_Sold_players.groupby('Type')['Cost in Rs. (CR)'].sum())\n",
    "print('\\n\\nTotal Base price of all players :\\n')\n",
    "print(df.groupby('Type')['Base Price (in cr.)'].sum())"
   ]
  },
  {
   "cell_type": "markdown",
   "id": "82256d92",
   "metadata": {
    "id": "_S1b-Ia7Aq_m",
    "papermill": {
     "duration": 0.014828,
     "end_time": "2023-06-02T08:31:39.308625",
     "exception": false,
     "start_time": "2023-06-02T08:31:39.293797",
     "status": "completed"
    },
    "tags": []
   },
   "source": [
    "*From above two cells we can say that eventhough bowlers were sold more than the batsmen, but overall price of the bowlers is very low compared to batsmen.*"
   ]
  },
  {
   "cell_type": "code",
   "execution_count": 27,
   "id": "d1813367",
   "metadata": {
    "execution": {
     "iopub.execute_input": "2023-06-02T08:31:39.341513Z",
     "iopub.status.busy": "2023-06-02T08:31:39.340785Z",
     "iopub.status.idle": "2023-06-02T08:31:39.360765Z",
     "shell.execute_reply": "2023-06-02T08:31:39.359471Z"
    },
    "id": "IC0knf6Z8g_k",
    "outputId": "74802510-abd3-431e-b16e-e8f7debff525",
    "papermill": {
     "duration": 0.039132,
     "end_time": "2023-06-02T08:31:39.363338",
     "exception": false,
     "start_time": "2023-06-02T08:31:39.324206",
     "status": "completed"
    },
    "tags": []
   },
   "outputs": [
    {
     "data": {
      "text/html": [
       "<div>\n",
       "<style scoped>\n",
       "    .dataframe tbody tr th:only-of-type {\n",
       "        vertical-align: middle;\n",
       "    }\n",
       "\n",
       "    .dataframe tbody tr th {\n",
       "        vertical-align: top;\n",
       "    }\n",
       "\n",
       "    .dataframe thead th {\n",
       "        text-align: right;\n",
       "    }\n",
       "</style>\n",
       "<table border=\"1\" class=\"dataframe\">\n",
       "  <thead>\n",
       "    <tr style=\"text-align: right;\">\n",
       "      <th></th>\n",
       "      <th>Player Name</th>\n",
       "      <th>Base Price (in cr.)</th>\n",
       "      <th>Type</th>\n",
       "      <th>Cost in Rs. (CR)</th>\n",
       "      <th>2022 Squad</th>\n",
       "      <th>2023 Squad</th>\n",
       "    </tr>\n",
       "  </thead>\n",
       "  <tbody>\n",
       "    <tr>\n",
       "      <th>97</th>\n",
       "      <td>Sam Curran</td>\n",
       "      <td>2.00</td>\n",
       "      <td>ALL-ROUNDER</td>\n",
       "      <td>18.50</td>\n",
       "      <td>Unsold</td>\n",
       "      <td>PBKS</td>\n",
       "    </tr>\n",
       "    <tr>\n",
       "      <th>144</th>\n",
       "      <td>Cameron Green</td>\n",
       "      <td>2.00</td>\n",
       "      <td>ALL-ROUNDER</td>\n",
       "      <td>17.50</td>\n",
       "      <td>Unsold</td>\n",
       "      <td>MI</td>\n",
       "    </tr>\n",
       "    <tr>\n",
       "      <th>25</th>\n",
       "      <td>Ben Stokes</td>\n",
       "      <td>2.00</td>\n",
       "      <td>ALL-ROUNDER</td>\n",
       "      <td>16.25</td>\n",
       "      <td>Unsold</td>\n",
       "      <td>CSK</td>\n",
       "    </tr>\n",
       "    <tr>\n",
       "      <th>119</th>\n",
       "      <td>Nicholas Pooran</td>\n",
       "      <td>2.00</td>\n",
       "      <td>WICKETKEEPER</td>\n",
       "      <td>16.00</td>\n",
       "      <td>SRH</td>\n",
       "      <td>LSG</td>\n",
       "    </tr>\n",
       "    <tr>\n",
       "      <th>218</th>\n",
       "      <td>Harry Brook</td>\n",
       "      <td>1.50</td>\n",
       "      <td>BATSMAN</td>\n",
       "      <td>13.25</td>\n",
       "      <td>Unsold</td>\n",
       "      <td>SRH</td>\n",
       "    </tr>\n",
       "    <tr>\n",
       "      <th>219</th>\n",
       "      <td>Mayank Agarwal</td>\n",
       "      <td>1.00</td>\n",
       "      <td>BATSMAN</td>\n",
       "      <td>8.25</td>\n",
       "      <td>PBKS</td>\n",
       "      <td>SRH</td>\n",
       "    </tr>\n",
       "    <tr>\n",
       "      <th>0</th>\n",
       "      <td>Shivam Mavi</td>\n",
       "      <td>0.40</td>\n",
       "      <td>BOWLER</td>\n",
       "      <td>6.00</td>\n",
       "      <td>KKR</td>\n",
       "      <td>GT</td>\n",
       "    </tr>\n",
       "    <tr>\n",
       "      <th>193</th>\n",
       "      <td>Jason Holder</td>\n",
       "      <td>2.00</td>\n",
       "      <td>ALL-ROUNDER</td>\n",
       "      <td>5.75</td>\n",
       "      <td>LSG</td>\n",
       "      <td>RR</td>\n",
       "    </tr>\n",
       "    <tr>\n",
       "      <th>50</th>\n",
       "      <td>Mukesh Kumar</td>\n",
       "      <td>0.20</td>\n",
       "      <td>BOWLER</td>\n",
       "      <td>5.50</td>\n",
       "      <td>Unsold</td>\n",
       "      <td>DC</td>\n",
       "    </tr>\n",
       "    <tr>\n",
       "      <th>220</th>\n",
       "      <td>Heinrich Klaasen</td>\n",
       "      <td>1.00</td>\n",
       "      <td>WICKETKEEPER</td>\n",
       "      <td>5.25</td>\n",
       "      <td>Unsold</td>\n",
       "      <td>SRH</td>\n",
       "    </tr>\n",
       "    <tr>\n",
       "      <th>51</th>\n",
       "      <td>Rilee Rossouw</td>\n",
       "      <td>2.00</td>\n",
       "      <td>BATSMAN</td>\n",
       "      <td>4.60</td>\n",
       "      <td>Unsold</td>\n",
       "      <td>DC</td>\n",
       "    </tr>\n",
       "    <tr>\n",
       "      <th>1</th>\n",
       "      <td>Joshua Little</td>\n",
       "      <td>0.50</td>\n",
       "      <td>BOWLER</td>\n",
       "      <td>4.40</td>\n",
       "      <td>Unsold</td>\n",
       "      <td>GT</td>\n",
       "    </tr>\n",
       "    <tr>\n",
       "      <th>168</th>\n",
       "      <td>Will Jacks</td>\n",
       "      <td>0.15</td>\n",
       "      <td>BATSMAN</td>\n",
       "      <td>3.20</td>\n",
       "      <td>Unsold</td>\n",
       "      <td>RCB</td>\n",
       "    </tr>\n",
       "    <tr>\n",
       "      <th>221</th>\n",
       "      <td>Vivrant Sharma</td>\n",
       "      <td>0.20</td>\n",
       "      <td>ALL-ROUNDER</td>\n",
       "      <td>2.60</td>\n",
       "      <td>Unsold</td>\n",
       "      <td>SRH</td>\n",
       "    </tr>\n",
       "    <tr>\n",
       "      <th>52</th>\n",
       "      <td>Manish Pandey</td>\n",
       "      <td>1.00</td>\n",
       "      <td>BATSMAN</td>\n",
       "      <td>2.40</td>\n",
       "      <td>LSG</td>\n",
       "      <td>DC</td>\n",
       "    </tr>\n",
       "  </tbody>\n",
       "</table>\n",
       "</div>"
      ],
      "text/plain": [
       "          Player Name  Base Price (in cr.)          Type  Cost in Rs. (CR)  \\\n",
       "97         Sam Curran                 2.00   ALL-ROUNDER             18.50   \n",
       "144     Cameron Green                 2.00   ALL-ROUNDER             17.50   \n",
       "25         Ben Stokes                 2.00   ALL-ROUNDER             16.25   \n",
       "119   Nicholas Pooran                 2.00  WICKETKEEPER             16.00   \n",
       "218       Harry Brook                 1.50       BATSMAN             13.25   \n",
       "219    Mayank Agarwal                 1.00       BATSMAN              8.25   \n",
       "0         Shivam Mavi                 0.40        BOWLER              6.00   \n",
       "193      Jason Holder                 2.00   ALL-ROUNDER              5.75   \n",
       "50       Mukesh Kumar                 0.20        BOWLER              5.50   \n",
       "220  Heinrich Klaasen                 1.00  WICKETKEEPER              5.25   \n",
       "51      Rilee Rossouw                 2.00       BATSMAN              4.60   \n",
       "1       Joshua Little                 0.50        BOWLER              4.40   \n",
       "168        Will Jacks                 0.15       BATSMAN              3.20   \n",
       "221    Vivrant Sharma                 0.20   ALL-ROUNDER              2.60   \n",
       "52      Manish Pandey                 1.00       BATSMAN              2.40   \n",
       "\n",
       "    2022 Squad 2023 Squad  \n",
       "97      Unsold       PBKS  \n",
       "144     Unsold         MI  \n",
       "25      Unsold        CSK  \n",
       "119        SRH        LSG  \n",
       "218     Unsold        SRH  \n",
       "219       PBKS        SRH  \n",
       "0          KKR         GT  \n",
       "193        LSG         RR  \n",
       "50      Unsold         DC  \n",
       "220     Unsold        SRH  \n",
       "51      Unsold         DC  \n",
       "1       Unsold         GT  \n",
       "168     Unsold        RCB  \n",
       "221     Unsold        SRH  \n",
       "52         LSG         DC  "
      ]
     },
     "execution_count": 27,
     "metadata": {},
     "output_type": "execute_result"
    }
   ],
   "source": [
    "df_top_15_expensive_picks = df_Sold_players.sort_values(by=['Cost in Rs. (CR)'],ascending = False).head(15)\n",
    "df_top_15_expensive_picks"
   ]
  },
  {
   "cell_type": "code",
   "execution_count": 28,
   "id": "a65e1e46",
   "metadata": {
    "execution": {
     "iopub.execute_input": "2023-06-02T08:31:39.398202Z",
     "iopub.status.busy": "2023-06-02T08:31:39.397778Z",
     "iopub.status.idle": "2023-06-02T08:31:39.412839Z",
     "shell.execute_reply": "2023-06-02T08:31:39.411689Z"
    },
    "id": "6WZvGtOYbKpg",
    "outputId": "631b2c93-5333-42b0-e770-26910ed9ecc0",
    "papermill": {
     "duration": 0.034782,
     "end_time": "2023-06-02T08:31:39.415264",
     "exception": false,
     "start_time": "2023-06-02T08:31:39.380482",
     "status": "completed"
    },
    "tags": []
   },
   "outputs": [
    {
     "data": {
      "text/html": [
       "<div>\n",
       "<style scoped>\n",
       "    .dataframe tbody tr th:only-of-type {\n",
       "        vertical-align: middle;\n",
       "    }\n",
       "\n",
       "    .dataframe tbody tr th {\n",
       "        vertical-align: top;\n",
       "    }\n",
       "\n",
       "    .dataframe thead th {\n",
       "        text-align: right;\n",
       "    }\n",
       "</style>\n",
       "<table border=\"1\" class=\"dataframe\">\n",
       "  <thead>\n",
       "    <tr style=\"text-align: right;\">\n",
       "      <th></th>\n",
       "      <th>Type</th>\n",
       "      <th>Player Name</th>\n",
       "    </tr>\n",
       "  </thead>\n",
       "  <tbody>\n",
       "    <tr>\n",
       "      <th>0</th>\n",
       "      <td>ALL-ROUNDER</td>\n",
       "      <td>12</td>\n",
       "    </tr>\n",
       "    <tr>\n",
       "      <th>1</th>\n",
       "      <td>BATSMAN</td>\n",
       "      <td>3</td>\n",
       "    </tr>\n",
       "    <tr>\n",
       "      <th>2</th>\n",
       "      <td>BOWLER</td>\n",
       "      <td>6</td>\n",
       "    </tr>\n",
       "    <tr>\n",
       "      <th>3</th>\n",
       "      <td>WICKETKEEPER</td>\n",
       "      <td>3</td>\n",
       "    </tr>\n",
       "  </tbody>\n",
       "</table>\n",
       "</div>"
      ],
      "text/plain": [
       "           Type  Player Name\n",
       "0   ALL-ROUNDER           12\n",
       "1       BATSMAN            3\n",
       "2        BOWLER            6\n",
       "3  WICKETKEEPER            3"
      ]
     },
     "execution_count": 28,
     "metadata": {},
     "output_type": "execute_result"
    }
   ],
   "source": [
    "x = pd.DataFrame(df_Sold_players[df_Sold_players['2023 Squad'] == 'MI'].groupby('Type').count()['Player Name']).reset_index()\n",
    "x"
   ]
  },
  {
   "cell_type": "code",
   "execution_count": 29,
   "id": "8812677d",
   "metadata": {
    "execution": {
     "iopub.execute_input": "2023-06-02T08:31:39.449224Z",
     "iopub.status.busy": "2023-06-02T08:31:39.448254Z",
     "iopub.status.idle": "2023-06-02T08:31:39.715801Z",
     "shell.execute_reply": "2023-06-02T08:31:39.714577Z"
    },
    "id": "wjM6sbsCZw1C",
    "outputId": "dbacdc75-4229-4ee1-f4d8-46a4df471a26",
    "papermill": {
     "duration": 0.287118,
     "end_time": "2023-06-02T08:31:39.718250",
     "exception": false,
     "start_time": "2023-06-02T08:31:39.431132",
     "status": "completed"
    },
    "tags": []
   },
   "outputs": [
    {
     "data": {
      "image/png": "[encoded data removed]",
      "text/plain": [
       "<Figure size 640x480 with 1 Axes>"
      ]
     },
     "metadata": {},
     "output_type": "display_data"
    }
   ],
   "source": [
    "plt.bar(x['Type'],x['Player Name'],width=0.2)\n",
    "plt.xticks(rotation ='vertical')\n",
    "plt.grid()"
   ]
  },
  {
   "cell_type": "code",
   "execution_count": 30,
   "id": "3c423607",
   "metadata": {
    "execution": {
     "iopub.execute_input": "2023-06-02T08:31:39.752570Z",
     "iopub.status.busy": "2023-06-02T08:31:39.752121Z",
     "iopub.status.idle": "2023-06-02T08:31:40.523626Z",
     "shell.execute_reply": "2023-06-02T08:31:40.522518Z"
    },
    "id": "vz_HDMeYdDlj",
    "outputId": "ac9c36f5-f59c-449c-e8a4-efb39c310fcf",
    "papermill": {
     "duration": 0.791543,
     "end_time": "2023-06-02T08:31:40.526176",
     "exception": false,
     "start_time": "2023-06-02T08:31:39.734633",
     "status": "completed"
    },
    "tags": []
   },
   "outputs": [
    {
     "data": {
      "text/plain": [
       "<Axes: xlabel='2023 Squad', ylabel='count'>"
      ]
     },
     "execution_count": 30,
     "metadata": {},
     "output_type": "execute_result"
    },
    {
     "data": {
      "image/png": "[encoded data removed]",
      "text/plain": [
       "<Figure size 640x480 with 1 Axes>"
      ]
     },
     "metadata": {},
     "output_type": "display_data"
    }
   ],
   "source": [
    "teams_df =  df_Sold_players.groupby(['Type','2023 Squad']).agg(count=('2023 Squad','count')).reset_index()\n",
    "sns.barplot(data=teams_df, x='2023 Squad', y='count', hue='Type')"
   ]
  },
  {
   "cell_type": "code",
   "execution_count": 31,
   "id": "56517bd1",
   "metadata": {
    "execution": {
     "iopub.execute_input": "2023-06-02T08:31:40.562637Z",
     "iopub.status.busy": "2023-06-02T08:31:40.561455Z",
     "iopub.status.idle": "2023-06-02T08:31:40.583263Z",
     "shell.execute_reply": "2023-06-02T08:31:40.582400Z"
    },
    "id": "Pu3rIye-eHo7",
    "outputId": "5dd6eddc-b20a-43b5-865d-61dea26c5791",
    "papermill": {
     "duration": 0.042622,
     "end_time": "2023-06-02T08:31:40.585782",
     "exception": false,
     "start_time": "2023-06-02T08:31:40.543160",
     "status": "completed"
    },
    "tags": []
   },
   "outputs": [
    {
     "data": {
      "text/html": [
       "<div>\n",
       "<style scoped>\n",
       "    .dataframe tbody tr th:only-of-type {\n",
       "        vertical-align: middle;\n",
       "    }\n",
       "\n",
       "    .dataframe tbody tr th {\n",
       "        vertical-align: top;\n",
       "    }\n",
       "\n",
       "    .dataframe thead th {\n",
       "        text-align: right;\n",
       "    }\n",
       "</style>\n",
       "<table border=\"1\" class=\"dataframe\">\n",
       "  <thead>\n",
       "    <tr style=\"text-align: right;\">\n",
       "      <th></th>\n",
       "      <th>Type</th>\n",
       "      <th>2023 Squad</th>\n",
       "      <th>count</th>\n",
       "    </tr>\n",
       "  </thead>\n",
       "  <tbody>\n",
       "    <tr>\n",
       "      <th>0</th>\n",
       "      <td>ALL-ROUNDER</td>\n",
       "      <td>CSK</td>\n",
       "      <td>10</td>\n",
       "    </tr>\n",
       "    <tr>\n",
       "      <th>1</th>\n",
       "      <td>ALL-ROUNDER</td>\n",
       "      <td>DC</td>\n",
       "      <td>10</td>\n",
       "    </tr>\n",
       "    <tr>\n",
       "      <th>2</th>\n",
       "      <td>ALL-ROUNDER</td>\n",
       "      <td>GT</td>\n",
       "      <td>8</td>\n",
       "    </tr>\n",
       "    <tr>\n",
       "      <th>3</th>\n",
       "      <td>ALL-ROUNDER</td>\n",
       "      <td>KKR</td>\n",
       "      <td>6</td>\n",
       "    </tr>\n",
       "    <tr>\n",
       "      <th>4</th>\n",
       "      <td>ALL-ROUNDER</td>\n",
       "      <td>LSG</td>\n",
       "      <td>12</td>\n",
       "    </tr>\n",
       "    <tr>\n",
       "      <th>5</th>\n",
       "      <td>ALL-ROUNDER</td>\n",
       "      <td>MI</td>\n",
       "      <td>12</td>\n",
       "    </tr>\n",
       "    <tr>\n",
       "      <th>6</th>\n",
       "      <td>ALL-ROUNDER</td>\n",
       "      <td>PBKS</td>\n",
       "      <td>9</td>\n",
       "    </tr>\n",
       "    <tr>\n",
       "      <th>7</th>\n",
       "      <td>ALL-ROUNDER</td>\n",
       "      <td>RCB</td>\n",
       "      <td>8</td>\n",
       "    </tr>\n",
       "    <tr>\n",
       "      <th>8</th>\n",
       "      <td>ALL-ROUNDER</td>\n",
       "      <td>RR</td>\n",
       "      <td>5</td>\n",
       "    </tr>\n",
       "    <tr>\n",
       "      <th>9</th>\n",
       "      <td>ALL-ROUNDER</td>\n",
       "      <td>SRH</td>\n",
       "      <td>7</td>\n",
       "    </tr>\n",
       "    <tr>\n",
       "      <th>10</th>\n",
       "      <td>BATSMAN</td>\n",
       "      <td>CSK</td>\n",
       "      <td>6</td>\n",
       "    </tr>\n",
       "    <tr>\n",
       "      <th>11</th>\n",
       "      <td>BATSMAN</td>\n",
       "      <td>DC</td>\n",
       "      <td>5</td>\n",
       "    </tr>\n",
       "    <tr>\n",
       "      <th>12</th>\n",
       "      <td>BATSMAN</td>\n",
       "      <td>GT</td>\n",
       "      <td>4</td>\n",
       "    </tr>\n",
       "    <tr>\n",
       "      <th>13</th>\n",
       "      <td>BATSMAN</td>\n",
       "      <td>KKR</td>\n",
       "      <td>3</td>\n",
       "    </tr>\n",
       "    <tr>\n",
       "      <th>14</th>\n",
       "      <td>BATSMAN</td>\n",
       "      <td>LSG</td>\n",
       "      <td>2</td>\n",
       "    </tr>\n",
       "    <tr>\n",
       "      <th>15</th>\n",
       "      <td>BATSMAN</td>\n",
       "      <td>MI</td>\n",
       "      <td>3</td>\n",
       "    </tr>\n",
       "    <tr>\n",
       "      <th>16</th>\n",
       "      <td>BATSMAN</td>\n",
       "      <td>PBKS</td>\n",
       "      <td>3</td>\n",
       "    </tr>\n",
       "    <tr>\n",
       "      <th>17</th>\n",
       "      <td>BATSMAN</td>\n",
       "      <td>RCB</td>\n",
       "      <td>5</td>\n",
       "    </tr>\n",
       "    <tr>\n",
       "      <th>18</th>\n",
       "      <td>BATSMAN</td>\n",
       "      <td>RR</td>\n",
       "      <td>4</td>\n",
       "    </tr>\n",
       "    <tr>\n",
       "      <th>19</th>\n",
       "      <td>BATSMAN</td>\n",
       "      <td>SRH</td>\n",
       "      <td>6</td>\n",
       "    </tr>\n",
       "    <tr>\n",
       "      <th>20</th>\n",
       "      <td>BOWLER</td>\n",
       "      <td>CSK</td>\n",
       "      <td>8</td>\n",
       "    </tr>\n",
       "    <tr>\n",
       "      <th>21</th>\n",
       "      <td>BOWLER</td>\n",
       "      <td>DC</td>\n",
       "      <td>8</td>\n",
       "    </tr>\n",
       "    <tr>\n",
       "      <th>22</th>\n",
       "      <td>BOWLER</td>\n",
       "      <td>GT</td>\n",
       "      <td>9</td>\n",
       "    </tr>\n",
       "    <tr>\n",
       "      <th>23</th>\n",
       "      <td>BOWLER</td>\n",
       "      <td>KKR</td>\n",
       "      <td>10</td>\n",
       "    </tr>\n",
       "    <tr>\n",
       "      <th>24</th>\n",
       "      <td>BOWLER</td>\n",
       "      <td>LSG</td>\n",
       "      <td>9</td>\n",
       "    </tr>\n",
       "    <tr>\n",
       "      <th>25</th>\n",
       "      <td>BOWLER</td>\n",
       "      <td>MI</td>\n",
       "      <td>6</td>\n",
       "    </tr>\n",
       "    <tr>\n",
       "      <th>26</th>\n",
       "      <td>BOWLER</td>\n",
       "      <td>PBKS</td>\n",
       "      <td>6</td>\n",
       "    </tr>\n",
       "    <tr>\n",
       "      <th>27</th>\n",
       "      <td>BOWLER</td>\n",
       "      <td>RCB</td>\n",
       "      <td>10</td>\n",
       "    </tr>\n",
       "    <tr>\n",
       "      <th>28</th>\n",
       "      <td>BOWLER</td>\n",
       "      <td>RR</td>\n",
       "      <td>11</td>\n",
       "    </tr>\n",
       "    <tr>\n",
       "      <th>29</th>\n",
       "      <td>BOWLER</td>\n",
       "      <td>SRH</td>\n",
       "      <td>8</td>\n",
       "    </tr>\n",
       "    <tr>\n",
       "      <th>30</th>\n",
       "      <td>WICKETKEEPER</td>\n",
       "      <td>CSK</td>\n",
       "      <td>1</td>\n",
       "    </tr>\n",
       "    <tr>\n",
       "      <th>31</th>\n",
       "      <td>WICKETKEEPER</td>\n",
       "      <td>DC</td>\n",
       "      <td>2</td>\n",
       "    </tr>\n",
       "    <tr>\n",
       "      <th>32</th>\n",
       "      <td>WICKETKEEPER</td>\n",
       "      <td>GT</td>\n",
       "      <td>4</td>\n",
       "    </tr>\n",
       "    <tr>\n",
       "      <th>33</th>\n",
       "      <td>WICKETKEEPER</td>\n",
       "      <td>KKR</td>\n",
       "      <td>3</td>\n",
       "    </tr>\n",
       "    <tr>\n",
       "      <th>34</th>\n",
       "      <td>WICKETKEEPER</td>\n",
       "      <td>LSG</td>\n",
       "      <td>2</td>\n",
       "    </tr>\n",
       "    <tr>\n",
       "      <th>35</th>\n",
       "      <td>WICKETKEEPER</td>\n",
       "      <td>MI</td>\n",
       "      <td>3</td>\n",
       "    </tr>\n",
       "    <tr>\n",
       "      <th>36</th>\n",
       "      <td>WICKETKEEPER</td>\n",
       "      <td>PBKS</td>\n",
       "      <td>4</td>\n",
       "    </tr>\n",
       "    <tr>\n",
       "      <th>37</th>\n",
       "      <td>WICKETKEEPER</td>\n",
       "      <td>RCB</td>\n",
       "      <td>2</td>\n",
       "    </tr>\n",
       "    <tr>\n",
       "      <th>38</th>\n",
       "      <td>WICKETKEEPER</td>\n",
       "      <td>RR</td>\n",
       "      <td>5</td>\n",
       "    </tr>\n",
       "    <tr>\n",
       "      <th>39</th>\n",
       "      <td>WICKETKEEPER</td>\n",
       "      <td>SRH</td>\n",
       "      <td>4</td>\n",
       "    </tr>\n",
       "  </tbody>\n",
       "</table>\n",
       "</div>"
      ],
      "text/plain": [
       "            Type 2023 Squad  count\n",
       "0    ALL-ROUNDER        CSK     10\n",
       "1    ALL-ROUNDER         DC     10\n",
       "2    ALL-ROUNDER         GT      8\n",
       "3    ALL-ROUNDER        KKR      6\n",
       "4    ALL-ROUNDER        LSG     12\n",
       "5    ALL-ROUNDER         MI     12\n",
       "6    ALL-ROUNDER       PBKS      9\n",
       "7    ALL-ROUNDER        RCB      8\n",
       "8    ALL-ROUNDER         RR      5\n",
       "9    ALL-ROUNDER        SRH      7\n",
       "10       BATSMAN        CSK      6\n",
       "11       BATSMAN         DC      5\n",
       "12       BATSMAN         GT      4\n",
       "13       BATSMAN        KKR      3\n",
       "14       BATSMAN        LSG      2\n",
       "15       BATSMAN         MI      3\n",
       "16       BATSMAN       PBKS      3\n",
       "17       BATSMAN        RCB      5\n",
       "18       BATSMAN         RR      4\n",
       "19       BATSMAN        SRH      6\n",
       "20        BOWLER        CSK      8\n",
       "21        BOWLER         DC      8\n",
       "22        BOWLER         GT      9\n",
       "23        BOWLER        KKR     10\n",
       "24        BOWLER        LSG      9\n",
       "25        BOWLER         MI      6\n",
       "26        BOWLER       PBKS      6\n",
       "27        BOWLER        RCB     10\n",
       "28        BOWLER         RR     11\n",
       "29        BOWLER        SRH      8\n",
       "30  WICKETKEEPER        CSK      1\n",
       "31  WICKETKEEPER         DC      2\n",
       "32  WICKETKEEPER         GT      4\n",
       "33  WICKETKEEPER        KKR      3\n",
       "34  WICKETKEEPER        LSG      2\n",
       "35  WICKETKEEPER         MI      3\n",
       "36  WICKETKEEPER       PBKS      4\n",
       "37  WICKETKEEPER        RCB      2\n",
       "38  WICKETKEEPER         RR      5\n",
       "39  WICKETKEEPER        SRH      4"
      ]
     },
     "execution_count": 31,
     "metadata": {},
     "output_type": "execute_result"
    }
   ],
   "source": [
    "df_Sold_players.groupby(['Type','2023 Squad']).agg(count=('2023 Squad','count')).reset_index()"
   ]
  },
  {
   "cell_type": "code",
   "execution_count": null,
   "id": "65db702c",
   "metadata": {
    "id": "w3ii_YqZxkci",
    "papermill": {
     "duration": 0.017266,
     "end_time": "2023-06-02T08:31:40.620672",
     "exception": false,
     "start_time": "2023-06-02T08:31:40.603406",
     "status": "completed"
    },
    "tags": []
   },
   "outputs": [],
   "source": []
  }
 ],
 "metadata": {
  "kernelspec": {
   "display_name": "Python 3",
   "language": "python",
   "name": "python3"
  },
  "language_info": {
   "codemirror_mode": {
    "name": "ipython",
    "version": 3
   },
   "file_extension": ".py",
   "mimetype": "text/x-python",
   "name": "python",
   "nbconvert_exporter": "python",
   "pygments_lexer": "ipython3",
   "version": "3.10.10"
  },
  "papermill": {
   "default_parameters": {},
   "duration": 18.305353,
   "end_time": "2023-06-02T08:31:41.660116",
   "environment_variables": {},
   "exception": null,
   "input_path": "__notebook__.ipynb",
   "output_path": "__notebook__.ipynb",
   "parameters": {},
   "start_time": "2023-06-02T08:31:23.354763",
   "version": "2.4.0"
  }
 },
 "nbformat": 4,
 "nbformat_minor": 5
}
